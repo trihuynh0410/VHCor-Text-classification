{
  "cells": [
    {
      "cell_type": "code",
      "execution_count": null,
      "metadata": {
        "colab": {
          "base_uri": "https://localhost:8080/"
        },
        "id": "sYeSArJZpsD7",
        "outputId": "1f97434c-8587-4995-9243-8a9edc350924"
      },
      "outputs": [
        {
          "output_type": "stream",
          "name": "stdout",
          "text": [
            "Mounted at /content/drive\n"
          ]
        }
      ],
      "source": [
        "from google.colab import drive\n",
        "drive.mount('/content/drive')"
      ]
    },
    {
      "cell_type": "code",
      "execution_count": null,
      "metadata": {
        "id": "g8DTE-1N_qnD",
        "colab": {
          "base_uri": "https://localhost:8080/"
        },
        "outputId": "62a8c770-941d-43d9-dc91-558766c6d556"
      },
      "outputs": [
        {
          "output_type": "stream",
          "name": "stdout",
          "text": [
            "\u001b[2K     \u001b[90m━━━━━━━━━━━━━━━━━━━━━━━━━━━━━━━━━━━━━━━━\u001b[0m \u001b[32m20.9/20.9 MB\u001b[0m \u001b[31m62.3 MB/s\u001b[0m eta \u001b[36m0:00:00\u001b[0m\n",
            "\u001b[2K     \u001b[90m━━━━━━━━━━━━━━━━━━━━━━━━━━━━━━━━━━━━━━\u001b[0m \u001b[32m993.5/993.5 kB\u001b[0m \u001b[31m68.3 MB/s\u001b[0m eta \u001b[36m0:00:00\u001b[0m\n",
            "\u001b[2K     \u001b[90m━━━━━━━━━━━━━━━━━━━━━━━━━━━━━━━━━━━━━━\u001b[0m \u001b[32m657.8/657.8 kB\u001b[0m \u001b[31m58.7 MB/s\u001b[0m eta \u001b[36m0:00:00\u001b[0m\n",
            "\u001b[2K     \u001b[90m━━━━━━━━━━━━━━━━━━━━━━━━━━━━━━━━━━━━━━━━\u001b[0m \u001b[32m7.5/7.5 MB\u001b[0m \u001b[31m50.8 MB/s\u001b[0m eta \u001b[36m0:00:00\u001b[0m\n",
            "\u001b[2K     \u001b[90m━━━━━━━━━━━━━━━━━━━━━━━━━━━━━━━━━━━━━━\u001b[0m \u001b[32m268.8/268.8 kB\u001b[0m \u001b[31m28.8 MB/s\u001b[0m eta \u001b[36m0:00:00\u001b[0m\n",
            "\u001b[2K     \u001b[90m━━━━━━━━━━━━━━━━━━━━━━━━━━━━━━━━━━━━━━━━\u001b[0m \u001b[32m7.8/7.8 MB\u001b[0m \u001b[31m29.1 MB/s\u001b[0m eta \u001b[36m0:00:00\u001b[0m\n",
            "\u001b[2K     \u001b[90m━━━━━━━━━━━━━━━━━━━━━━━━━━━━━━━━━━━━━━━━\u001b[0m \u001b[32m1.3/1.3 MB\u001b[0m \u001b[31m64.7 MB/s\u001b[0m eta \u001b[36m0:00:00\u001b[0m\n",
            "\u001b[2K     \u001b[90m━━━━━━━━━━━━━━━━━━━━━━━━━━━━━━━━━━━━━━━\u001b[0m \u001b[32m112.3/112.3 kB\u001b[0m \u001b[31m2.4 MB/s\u001b[0m eta \u001b[36m0:00:00\u001b[0m\n",
            "\u001b[?25h"
          ]
        }
      ],
      "source": [
        "!pip install underthesea -qq\n",
        "!pip install transformers -qq\n",
        "!pip install tokenizer -qq\n",
        "!pip install openpyxl -qq"
      ]
    },
    {
      "cell_type": "markdown",
      "metadata": {
        "id": "JOj5IwMUG4UN"
      },
      "source": [
        "# 1. Load data and train test split"
      ]
    },
    {
      "cell_type": "markdown",
      "metadata": {
        "id": "_HgO7O7PH_vB"
      },
      "source": [
        "Data 27/7"
      ]
    },
    {
      "cell_type": "code",
      "execution_count": null,
      "metadata": {
        "colab": {
          "base_uri": "https://localhost:8080/"
        },
        "id": "ICHb4QFvJNVf",
        "outputId": "f42abbc7-6113-4431-d6fd-a08757b3af35"
      },
      "outputs": [
        {
          "output_type": "stream",
          "name": "stdout",
          "text": [
            "Downloading...\n",
            "From: https://drive.google.com/uc?id=10i3J7xkYshApkpLlKKMC_Nw3PqI9fJ2g\n",
            "To: /content/data2707.csv\n",
            "\r  0% 0.00/4.36M [00:00<?, ?B/s]\r100% 4.36M/4.36M [00:00<00:00, 251MB/s]\n"
          ]
        }
      ],
      "source": [
        "!gdown 10i3J7xkYshApkpLlKKMC_Nw3PqI9fJ2g"
      ]
    },
    {
      "cell_type": "markdown",
      "metadata": {
        "id": "PmuDIka7IBNo"
      },
      "source": [
        "Data 2/8"
      ]
    },
    {
      "cell_type": "code",
      "execution_count": null,
      "metadata": {
        "colab": {
          "base_uri": "https://localhost:8080/"
        },
        "id": "mh8sBWndNiST",
        "outputId": "708680be-2cb9-4d4b-ac94-3e8e82c0b122"
      },
      "outputs": [
        {
          "output_type": "stream",
          "name": "stdout",
          "text": [
            "Downloading...\n",
            "From: https://drive.google.com/uc?id=180f4xE60i8YaAaUPrixnvJJOvSXQW9aX\n",
            "To: /content/data0208.csv\n",
            "100% 12.8M/12.8M [00:00<00:00, 48.1MB/s]\n"
          ]
        }
      ],
      "source": [
        "!gdown 180f4xE60i8YaAaUPrixnvJJOvSXQW9aX"
      ]
    },
    {
      "cell_type": "code",
      "execution_count": null,
      "metadata": {
        "id": "bUZ_vF2Tp32G"
      },
      "outputs": [],
      "source": [
        "import tensorflow as tf\n",
        "from tensorflow.keras.layers import Dense, Embedding, Dropout\n",
        "from tensorflow.keras.preprocessing import text, sequence\n",
        "from tensorflow.keras.models import Sequential\n",
        "import numpy as np\n",
        "import torch.nn as nn\n",
        "from torch.optim import AdamW\n",
        "from torch.utils.data import Dataset, DataLoader\n",
        "import openpyxl\n",
        "from sklearn.metrics import confusion_matrix,classification_report\n",
        "#for text cleaning\n",
        "import string\n",
        "import nltk\n",
        "#from nltk.tokenize import word_tokenize\n",
        "from nltk.corpus import stopwords\n",
        "from transformers import get_linear_schedule_with_warmup, AutoTokenizer, AutoModel, logging\n",
        "import underthesea\n",
        "from underthesea import word_tokenize\n",
        "\n",
        "#for visualization\n",
        "import matplotlib.pyplot as plt\n",
        "import seaborn as sns"
      ]
    },
    {
      "cell_type": "code",
      "execution_count": null,
      "metadata": {
        "id": "9ECBa-u_Lys4"
      },
      "outputs": [],
      "source": [
        "import pandas as pd\n",
        "import numpy as np\n",
        "from sklearn.model_selection import train_test_split\n",
        "from gensim.utils import simple_preprocess\n",
        "import re\n",
        "from sklearn import preprocessing\n",
        "def preprocess_text(text):\n",
        "    # Check if text is a list\n",
        "    if isinstance(text, list):\n",
        "        # Join the list of words into a single string\n",
        "        text = ' '.join(text)\n",
        "\n",
        "    # Remove icons\n",
        "    text = re.sub(r'[^\\w\\s]', '', text)\n",
        "    text = text.lower()\n",
        "\n",
        "    return ' '.join(simple_preprocess(text))"
      ]
    },
    {
      "cell_type": "code",
      "execution_count": null,
      "metadata": {
        "id": "vJssClT2JdUF"
      },
      "outputs": [],
      "source": [
        "import os\n",
        "\n",
        "def load_and_preprocess_data(data_file, encoding=None):\n",
        "    # Load the original dataframe\n",
        "    _, file_extension = os.path.splitext(data_file)\n",
        "    # Load the original dataframe\n",
        "    if file_extension == '.csv':\n",
        "        df = pd.read_csv(data_file, encoding=encoding)\n",
        "    elif file_extension in ['.xls', '.xlsx']:\n",
        "        df = pd.read_excel(data_file)\n",
        "    else:\n",
        "        raise ValueError(f'Unsupported file format: {file_extension}')\n",
        "    df['LABEL'] = df['LABEL'].str.strip().str.title()\n",
        "    # Split the data into training, validation, and testing sets\n",
        "    train, temp = train_test_split(df, test_size=0.3, random_state=42)\n",
        "    dev, test = train_test_split(temp, test_size=0.5, random_state=42)\n",
        "\n",
        "    # Preprocess the text\n",
        "    train['Q1'] = train['Q1'].astype(str).apply(preprocess_text)\n",
        "    dev['Q1'] = dev['Q1'].astype(str).apply(preprocess_text)\n",
        "    test['Q1'] = test['Q1'].astype(str).apply(preprocess_text)\n",
        "\n",
        "    # Create boolean masks to select rows where free_text is not equal to an empty string\n",
        "    mask_train = train['Q1'] != \"\"\n",
        "    mask_dev = dev['Q1'] != \"\"\n",
        "    mask_test = test['Q1'] != \"\"\n",
        "\n",
        "    # Use the boolean masks to select the rows of interest\n",
        "    train = train[mask_train]\n",
        "    dev = dev[mask_dev]\n",
        "    test = test[mask_test]\n",
        "\n",
        "    # Convert free_text column to string\n",
        "    train['Q1'] = train['Q1'].astype(str)\n",
        "    X_train = train['Q1']\n",
        "    y_train = train[\"LABEL\"]\n",
        "\n",
        "    dev['Q1'] = dev['Q1'].astype(str)\n",
        "    X_valid = dev['Q1']\n",
        "    y_valid = dev['LABEL']\n",
        "\n",
        "    test['Q1'] = test['Q1'].astype(str)\n",
        "    X_test = test['Q1']\n",
        "    y_test = test['LABEL']\n",
        "\n",
        "    return df, X_train, X_valid, X_test, y_train, y_valid, y_test"
      ]
    },
    {
      "cell_type": "code",
      "execution_count": null,
      "metadata": {
        "id": "DA5Z2tKpNRkw",
        "colab": {
          "base_uri": "https://localhost:8080/",
          "height": 423
        },
        "outputId": "9c4f3496-55a4-48e4-8cd2-160e3d9b7476"
      },
      "outputs": [
        {
          "output_type": "execute_result",
          "data": {
            "text/plain": [
              "                             LABEL  \\\n",
              "0      Dị Ứng - Miễn Dịch Lâm Sàng   \n",
              "1      Dị Ứng - Miễn Dịch Lâm Sàng   \n",
              "2      Dị Ứng - Miễn Dịch Lâm Sàng   \n",
              "3      Dị Ứng - Miễn Dịch Lâm Sàng   \n",
              "4      Dị Ứng - Miễn Dịch Lâm Sàng   \n",
              "...                            ...   \n",
              "26338                  Tdcn Hô Hấp   \n",
              "26339                  Tdcn Hô Hấp   \n",
              "26340                  Tdcn Hô Hấp   \n",
              "26341                  Tdcn Hô Hấp   \n",
              "26342                  Tdcn Hô Hấp   \n",
              "\n",
              "                                                      Q1  \n",
              "0      ['bé', 'trai', 'nhà ngứa', 'ở', 'vùng', 'cổ', ...  \n",
              "1      ['mẹ', 'ngứa', 'khắp', 'người', 'mẹ', 'ở', 'qu...  \n",
              "2      ['dạo', 'nổi', 'ngứa hiệu', 'mua', 'ngứa', 'ti...  \n",
              "3      ['rượu', 'bia', 'tiêm', 'văcsin', 'covid', 'ho...  \n",
              "4      ['ờ', 'nha trang', 'xét nghiệm', 'máu', 'chẩn ...  \n",
              "...                                                  ...  \n",
              "26338  ['thở', 'ngủ', 'hít', 'sâu lưỡi', 'gà', 'rung ...  \n",
              "26339  ['kia', 'hen', 'phế quản', 'chữa', 'khỏi', 'cứ...  \n",
              "26340  ['thi thoảng', 'đau', 'tim', 'hít', 'đặc biệt'...  \n",
              "26341  ['ông', 'xã', 'nhà đờm', 'thở', 'tức', 'ngực',...  \n",
              "26342  ['ơi', 'ho', 'kéo dài', 'mỗi', 'ho', 'ngứa', '...  \n",
              "\n",
              "[26343 rows x 2 columns]"
            ],
            "text/html": [
              "\n",
              "  <div id=\"df-658e0d55-f758-46c1-b801-7412e590a434\" class=\"colab-df-container\">\n",
              "    <div>\n",
              "<style scoped>\n",
              "    .dataframe tbody tr th:only-of-type {\n",
              "        vertical-align: middle;\n",
              "    }\n",
              "\n",
              "    .dataframe tbody tr th {\n",
              "        vertical-align: top;\n",
              "    }\n",
              "\n",
              "    .dataframe thead th {\n",
              "        text-align: right;\n",
              "    }\n",
              "</style>\n",
              "<table border=\"1\" class=\"dataframe\">\n",
              "  <thead>\n",
              "    <tr style=\"text-align: right;\">\n",
              "      <th></th>\n",
              "      <th>LABEL</th>\n",
              "      <th>Q1</th>\n",
              "    </tr>\n",
              "  </thead>\n",
              "  <tbody>\n",
              "    <tr>\n",
              "      <th>0</th>\n",
              "      <td>Dị Ứng - Miễn Dịch Lâm Sàng</td>\n",
              "      <td>['bé', 'trai', 'nhà ngứa', 'ở', 'vùng', 'cổ', ...</td>\n",
              "    </tr>\n",
              "    <tr>\n",
              "      <th>1</th>\n",
              "      <td>Dị Ứng - Miễn Dịch Lâm Sàng</td>\n",
              "      <td>['mẹ', 'ngứa', 'khắp', 'người', 'mẹ', 'ở', 'qu...</td>\n",
              "    </tr>\n",
              "    <tr>\n",
              "      <th>2</th>\n",
              "      <td>Dị Ứng - Miễn Dịch Lâm Sàng</td>\n",
              "      <td>['dạo', 'nổi', 'ngứa hiệu', 'mua', 'ngứa', 'ti...</td>\n",
              "    </tr>\n",
              "    <tr>\n",
              "      <th>3</th>\n",
              "      <td>Dị Ứng - Miễn Dịch Lâm Sàng</td>\n",
              "      <td>['rượu', 'bia', 'tiêm', 'văcsin', 'covid', 'ho...</td>\n",
              "    </tr>\n",
              "    <tr>\n",
              "      <th>4</th>\n",
              "      <td>Dị Ứng - Miễn Dịch Lâm Sàng</td>\n",
              "      <td>['ờ', 'nha trang', 'xét nghiệm', 'máu', 'chẩn ...</td>\n",
              "    </tr>\n",
              "    <tr>\n",
              "      <th>...</th>\n",
              "      <td>...</td>\n",
              "      <td>...</td>\n",
              "    </tr>\n",
              "    <tr>\n",
              "      <th>26338</th>\n",
              "      <td>Tdcn Hô Hấp</td>\n",
              "      <td>['thở', 'ngủ', 'hít', 'sâu lưỡi', 'gà', 'rung ...</td>\n",
              "    </tr>\n",
              "    <tr>\n",
              "      <th>26339</th>\n",
              "      <td>Tdcn Hô Hấp</td>\n",
              "      <td>['kia', 'hen', 'phế quản', 'chữa', 'khỏi', 'cứ...</td>\n",
              "    </tr>\n",
              "    <tr>\n",
              "      <th>26340</th>\n",
              "      <td>Tdcn Hô Hấp</td>\n",
              "      <td>['thi thoảng', 'đau', 'tim', 'hít', 'đặc biệt'...</td>\n",
              "    </tr>\n",
              "    <tr>\n",
              "      <th>26341</th>\n",
              "      <td>Tdcn Hô Hấp</td>\n",
              "      <td>['ông', 'xã', 'nhà đờm', 'thở', 'tức', 'ngực',...</td>\n",
              "    </tr>\n",
              "    <tr>\n",
              "      <th>26342</th>\n",
              "      <td>Tdcn Hô Hấp</td>\n",
              "      <td>['ơi', 'ho', 'kéo dài', 'mỗi', 'ho', 'ngứa', '...</td>\n",
              "    </tr>\n",
              "  </tbody>\n",
              "</table>\n",
              "<p>26343 rows × 2 columns</p>\n",
              "</div>\n",
              "    <div class=\"colab-df-buttons\">\n",
              "\n",
              "  <div class=\"colab-df-container\">\n",
              "    <button class=\"colab-df-convert\" onclick=\"convertToInteractive('df-658e0d55-f758-46c1-b801-7412e590a434')\"\n",
              "            title=\"Convert this dataframe to an interactive table.\"\n",
              "            style=\"display:none;\">\n",
              "\n",
              "  <svg xmlns=\"http://www.w3.org/2000/svg\" height=\"24px\" viewBox=\"0 -960 960 960\">\n",
              "    <path d=\"M120-120v-720h720v720H120Zm60-500h600v-160H180v160Zm220 220h160v-160H400v160Zm0 220h160v-160H400v160ZM180-400h160v-160H180v160Zm440 0h160v-160H620v160ZM180-180h160v-160H180v160Zm440 0h160v-160H620v160Z\"/>\n",
              "  </svg>\n",
              "    </button>\n",
              "\n",
              "  <style>\n",
              "    .colab-df-container {\n",
              "      display:flex;\n",
              "      gap: 12px;\n",
              "    }\n",
              "\n",
              "    .colab-df-convert {\n",
              "      background-color: #E8F0FE;\n",
              "      border: none;\n",
              "      border-radius: 50%;\n",
              "      cursor: pointer;\n",
              "      display: none;\n",
              "      fill: #1967D2;\n",
              "      height: 32px;\n",
              "      padding: 0 0 0 0;\n",
              "      width: 32px;\n",
              "    }\n",
              "\n",
              "    .colab-df-convert:hover {\n",
              "      background-color: #E2EBFA;\n",
              "      box-shadow: 0px 1px 2px rgba(60, 64, 67, 0.3), 0px 1px 3px 1px rgba(60, 64, 67, 0.15);\n",
              "      fill: #174EA6;\n",
              "    }\n",
              "\n",
              "    .colab-df-buttons div {\n",
              "      margin-bottom: 4px;\n",
              "    }\n",
              "\n",
              "    [theme=dark] .colab-df-convert {\n",
              "      background-color: #3B4455;\n",
              "      fill: #D2E3FC;\n",
              "    }\n",
              "\n",
              "    [theme=dark] .colab-df-convert:hover {\n",
              "      background-color: #434B5C;\n",
              "      box-shadow: 0px 1px 3px 1px rgba(0, 0, 0, 0.15);\n",
              "      filter: drop-shadow(0px 1px 2px rgba(0, 0, 0, 0.3));\n",
              "      fill: #FFFFFF;\n",
              "    }\n",
              "  </style>\n",
              "\n",
              "    <script>\n",
              "      const buttonEl =\n",
              "        document.querySelector('#df-658e0d55-f758-46c1-b801-7412e590a434 button.colab-df-convert');\n",
              "      buttonEl.style.display =\n",
              "        google.colab.kernel.accessAllowed ? 'block' : 'none';\n",
              "\n",
              "      async function convertToInteractive(key) {\n",
              "        const element = document.querySelector('#df-658e0d55-f758-46c1-b801-7412e590a434');\n",
              "        const dataTable =\n",
              "          await google.colab.kernel.invokeFunction('convertToInteractive',\n",
              "                                                    [key], {});\n",
              "        if (!dataTable) return;\n",
              "\n",
              "        const docLinkHtml = 'Like what you see? Visit the ' +\n",
              "          '<a target=\"_blank\" href=https://colab.research.google.com/notebooks/data_table.ipynb>data table notebook</a>'\n",
              "          + ' to learn more about interactive tables.';\n",
              "        element.innerHTML = '';\n",
              "        dataTable['output_type'] = 'display_data';\n",
              "        await google.colab.output.renderOutput(dataTable, element);\n",
              "        const docLink = document.createElement('div');\n",
              "        docLink.innerHTML = docLinkHtml;\n",
              "        element.appendChild(docLink);\n",
              "      }\n",
              "    </script>\n",
              "  </div>\n",
              "\n",
              "\n",
              "<div id=\"df-5070c928-69bf-499e-bc5f-a54a0895be1c\">\n",
              "  <button class=\"colab-df-quickchart\" onclick=\"quickchart('df-5070c928-69bf-499e-bc5f-a54a0895be1c')\"\n",
              "            title=\"Suggest charts.\"\n",
              "            style=\"display:none;\">\n",
              "\n",
              "<svg xmlns=\"http://www.w3.org/2000/svg\" height=\"24px\"viewBox=\"0 0 24 24\"\n",
              "     width=\"24px\">\n",
              "    <g>\n",
              "        <path d=\"M19 3H5c-1.1 0-2 .9-2 2v14c0 1.1.9 2 2 2h14c1.1 0 2-.9 2-2V5c0-1.1-.9-2-2-2zM9 17H7v-7h2v7zm4 0h-2V7h2v10zm4 0h-2v-4h2v4z\"/>\n",
              "    </g>\n",
              "</svg>\n",
              "  </button>\n",
              "\n",
              "<style>\n",
              "  .colab-df-quickchart {\n",
              "    background-color: #E8F0FE;\n",
              "    border: none;\n",
              "    border-radius: 50%;\n",
              "    cursor: pointer;\n",
              "    display: none;\n",
              "    fill: #1967D2;\n",
              "    height: 32px;\n",
              "    padding: 0 0 0 0;\n",
              "    width: 32px;\n",
              "  }\n",
              "\n",
              "  .colab-df-quickchart:hover {\n",
              "    background-color: #E2EBFA;\n",
              "    box-shadow: 0px 1px 2px rgba(60, 64, 67, 0.3), 0px 1px 3px 1px rgba(60, 64, 67, 0.15);\n",
              "    fill: #174EA6;\n",
              "  }\n",
              "\n",
              "  [theme=dark] .colab-df-quickchart {\n",
              "    background-color: #3B4455;\n",
              "    fill: #D2E3FC;\n",
              "  }\n",
              "\n",
              "  [theme=dark] .colab-df-quickchart:hover {\n",
              "    background-color: #434B5C;\n",
              "    box-shadow: 0px 1px 3px 1px rgba(0, 0, 0, 0.15);\n",
              "    filter: drop-shadow(0px 1px 2px rgba(0, 0, 0, 0.3));\n",
              "    fill: #FFFFFF;\n",
              "  }\n",
              "</style>\n",
              "\n",
              "  <script>\n",
              "    async function quickchart(key) {\n",
              "      const charts = await google.colab.kernel.invokeFunction(\n",
              "          'suggestCharts', [key], {});\n",
              "    }\n",
              "    (() => {\n",
              "      let quickchartButtonEl =\n",
              "        document.querySelector('#df-5070c928-69bf-499e-bc5f-a54a0895be1c button');\n",
              "      quickchartButtonEl.style.display =\n",
              "        google.colab.kernel.accessAllowed ? 'block' : 'none';\n",
              "    })();\n",
              "  </script>\n",
              "</div>\n",
              "    </div>\n",
              "  </div>\n"
            ]
          },
          "metadata": {},
          "execution_count": 14
        }
      ],
      "source": [
        "df, X_train, X_valid, X_test, y_train, y_valid, y_test = load_and_preprocess_data(\"/content/Data1608.xlsx\")\n",
        "df"
      ]
    },
    {
      "cell_type": "code",
      "execution_count": null,
      "metadata": {
        "id": "XvSN_3SfLtAG",
        "colab": {
          "base_uri": "https://localhost:8080/",
          "height": 423
        },
        "outputId": "06fe0142-a74b-4f08-dbf5-87d42c7c3859"
      },
      "outputs": [
        {
          "output_type": "execute_result",
          "data": {
            "text/plain": [
              "                             LABEL  \\\n",
              "0      Dị Ứng - Miễn Dịch Lâm Sàng   \n",
              "1      Dị Ứng - Miễn Dịch Lâm Sàng   \n",
              "2      Dị Ứng - Miễn Dịch Lâm Sàng   \n",
              "3      Dị Ứng - Miễn Dịch Lâm Sàng   \n",
              "4      Dị Ứng - Miễn Dịch Lâm Sàng   \n",
              "...                            ...   \n",
              "17790                   Xương Khớp   \n",
              "17791                   Xương Khớp   \n",
              "17792                   Xương Khớp   \n",
              "17793                   Xương Khớp   \n",
              "17794                   Xương Khớp   \n",
              "\n",
              "                                                      Q1  \n",
              "0      bé trai nhà ngứa ở vùng cổ mặt ngực thắt lưng ...  \n",
              "1      mẹ ngứa khắp người mẹ ở quê thước bớt đưa mẹ h...  \n",
              "2      dạo nổi ngứa hiệu mua ngứa tiếp tục trạng ngứa...  \n",
              "3      rượu bia tiêm văcsin covid hoặc bia người xảy ...  \n",
              "4      ờ nha trang xét nghiệm máu chẩn giun sán chó ở...  \n",
              "...                                                  ...  \n",
              "17790  67kg trở đau nhức lưng xuống tới bàn trái đau ...  \n",
              "17791  mẹ 84t đau lưng bhyt ở gò vấp chẩn teo đầu đốt...  \n",
              "17792  18 xưng ngón cái phần thịt phía dưới gây đau n...  \n",
              "17793              xuyên nhức dói hụt khớp gối khoa đúng  \n",
              "17794  quý dính co nguyện vọng phẫu thay co phẫu phẫu...  \n",
              "\n",
              "[17795 rows x 2 columns]"
            ],
            "text/html": [
              "\n",
              "  <div id=\"df-d4b345f5-b44f-42af-ae1c-66229e767b72\" class=\"colab-df-container\">\n",
              "    <div>\n",
              "<style scoped>\n",
              "    .dataframe tbody tr th:only-of-type {\n",
              "        vertical-align: middle;\n",
              "    }\n",
              "\n",
              "    .dataframe tbody tr th {\n",
              "        vertical-align: top;\n",
              "    }\n",
              "\n",
              "    .dataframe thead th {\n",
              "        text-align: right;\n",
              "    }\n",
              "</style>\n",
              "<table border=\"1\" class=\"dataframe\">\n",
              "  <thead>\n",
              "    <tr style=\"text-align: right;\">\n",
              "      <th></th>\n",
              "      <th>LABEL</th>\n",
              "      <th>Q1</th>\n",
              "    </tr>\n",
              "  </thead>\n",
              "  <tbody>\n",
              "    <tr>\n",
              "      <th>0</th>\n",
              "      <td>Dị Ứng - Miễn Dịch Lâm Sàng</td>\n",
              "      <td>bé trai nhà ngứa ở vùng cổ mặt ngực thắt lưng ...</td>\n",
              "    </tr>\n",
              "    <tr>\n",
              "      <th>1</th>\n",
              "      <td>Dị Ứng - Miễn Dịch Lâm Sàng</td>\n",
              "      <td>mẹ ngứa khắp người mẹ ở quê thước bớt đưa mẹ h...</td>\n",
              "    </tr>\n",
              "    <tr>\n",
              "      <th>2</th>\n",
              "      <td>Dị Ứng - Miễn Dịch Lâm Sàng</td>\n",
              "      <td>dạo nổi ngứa hiệu mua ngứa tiếp tục trạng ngứa...</td>\n",
              "    </tr>\n",
              "    <tr>\n",
              "      <th>3</th>\n",
              "      <td>Dị Ứng - Miễn Dịch Lâm Sàng</td>\n",
              "      <td>rượu bia tiêm văcsin covid hoặc bia người xảy ...</td>\n",
              "    </tr>\n",
              "    <tr>\n",
              "      <th>4</th>\n",
              "      <td>Dị Ứng - Miễn Dịch Lâm Sàng</td>\n",
              "      <td>ờ nha trang xét nghiệm máu chẩn giun sán chó ở...</td>\n",
              "    </tr>\n",
              "    <tr>\n",
              "      <th>...</th>\n",
              "      <td>...</td>\n",
              "      <td>...</td>\n",
              "    </tr>\n",
              "    <tr>\n",
              "      <th>17790</th>\n",
              "      <td>Xương Khớp</td>\n",
              "      <td>67kg trở đau nhức lưng xuống tới bàn trái đau ...</td>\n",
              "    </tr>\n",
              "    <tr>\n",
              "      <th>17791</th>\n",
              "      <td>Xương Khớp</td>\n",
              "      <td>mẹ 84t đau lưng bhyt ở gò vấp chẩn teo đầu đốt...</td>\n",
              "    </tr>\n",
              "    <tr>\n",
              "      <th>17792</th>\n",
              "      <td>Xương Khớp</td>\n",
              "      <td>18 xưng ngón cái phần thịt phía dưới gây đau n...</td>\n",
              "    </tr>\n",
              "    <tr>\n",
              "      <th>17793</th>\n",
              "      <td>Xương Khớp</td>\n",
              "      <td>xuyên nhức dói hụt khớp gối khoa đúng</td>\n",
              "    </tr>\n",
              "    <tr>\n",
              "      <th>17794</th>\n",
              "      <td>Xương Khớp</td>\n",
              "      <td>quý dính co nguyện vọng phẫu thay co phẫu phẫu...</td>\n",
              "    </tr>\n",
              "  </tbody>\n",
              "</table>\n",
              "<p>17795 rows × 2 columns</p>\n",
              "</div>\n",
              "    <div class=\"colab-df-buttons\">\n",
              "\n",
              "  <div class=\"colab-df-container\">\n",
              "    <button class=\"colab-df-convert\" onclick=\"convertToInteractive('df-d4b345f5-b44f-42af-ae1c-66229e767b72')\"\n",
              "            title=\"Convert this dataframe to an interactive table.\"\n",
              "            style=\"display:none;\">\n",
              "\n",
              "  <svg xmlns=\"http://www.w3.org/2000/svg\" height=\"24px\" viewBox=\"0 -960 960 960\">\n",
              "    <path d=\"M120-120v-720h720v720H120Zm60-500h600v-160H180v160Zm220 220h160v-160H400v160Zm0 220h160v-160H400v160ZM180-400h160v-160H180v160Zm440 0h160v-160H620v160ZM180-180h160v-160H180v160Zm440 0h160v-160H620v160Z\"/>\n",
              "  </svg>\n",
              "    </button>\n",
              "\n",
              "  <style>\n",
              "    .colab-df-container {\n",
              "      display:flex;\n",
              "      gap: 12px;\n",
              "    }\n",
              "\n",
              "    .colab-df-convert {\n",
              "      background-color: #E8F0FE;\n",
              "      border: none;\n",
              "      border-radius: 50%;\n",
              "      cursor: pointer;\n",
              "      display: none;\n",
              "      fill: #1967D2;\n",
              "      height: 32px;\n",
              "      padding: 0 0 0 0;\n",
              "      width: 32px;\n",
              "    }\n",
              "\n",
              "    .colab-df-convert:hover {\n",
              "      background-color: #E2EBFA;\n",
              "      box-shadow: 0px 1px 2px rgba(60, 64, 67, 0.3), 0px 1px 3px 1px rgba(60, 64, 67, 0.15);\n",
              "      fill: #174EA6;\n",
              "    }\n",
              "\n",
              "    .colab-df-buttons div {\n",
              "      margin-bottom: 4px;\n",
              "    }\n",
              "\n",
              "    [theme=dark] .colab-df-convert {\n",
              "      background-color: #3B4455;\n",
              "      fill: #D2E3FC;\n",
              "    }\n",
              "\n",
              "    [theme=dark] .colab-df-convert:hover {\n",
              "      background-color: #434B5C;\n",
              "      box-shadow: 0px 1px 3px 1px rgba(0, 0, 0, 0.15);\n",
              "      filter: drop-shadow(0px 1px 2px rgba(0, 0, 0, 0.3));\n",
              "      fill: #FFFFFF;\n",
              "    }\n",
              "  </style>\n",
              "\n",
              "    <script>\n",
              "      const buttonEl =\n",
              "        document.querySelector('#df-d4b345f5-b44f-42af-ae1c-66229e767b72 button.colab-df-convert');\n",
              "      buttonEl.style.display =\n",
              "        google.colab.kernel.accessAllowed ? 'block' : 'none';\n",
              "\n",
              "      async function convertToInteractive(key) {\n",
              "        const element = document.querySelector('#df-d4b345f5-b44f-42af-ae1c-66229e767b72');\n",
              "        const dataTable =\n",
              "          await google.colab.kernel.invokeFunction('convertToInteractive',\n",
              "                                                    [key], {});\n",
              "        if (!dataTable) return;\n",
              "\n",
              "        const docLinkHtml = 'Like what you see? Visit the ' +\n",
              "          '<a target=\"_blank\" href=https://colab.research.google.com/notebooks/data_table.ipynb>data table notebook</a>'\n",
              "          + ' to learn more about interactive tables.';\n",
              "        element.innerHTML = '';\n",
              "        dataTable['output_type'] = 'display_data';\n",
              "        await google.colab.output.renderOutput(dataTable, element);\n",
              "        const docLink = document.createElement('div');\n",
              "        docLink.innerHTML = docLinkHtml;\n",
              "        element.appendChild(docLink);\n",
              "      }\n",
              "    </script>\n",
              "  </div>\n",
              "\n",
              "\n",
              "<div id=\"df-be2311a4-2225-4c0f-84f9-73fcf82b363b\">\n",
              "  <button class=\"colab-df-quickchart\" onclick=\"quickchart('df-be2311a4-2225-4c0f-84f9-73fcf82b363b')\"\n",
              "            title=\"Suggest charts.\"\n",
              "            style=\"display:none;\">\n",
              "\n",
              "<svg xmlns=\"http://www.w3.org/2000/svg\" height=\"24px\"viewBox=\"0 0 24 24\"\n",
              "     width=\"24px\">\n",
              "    <g>\n",
              "        <path d=\"M19 3H5c-1.1 0-2 .9-2 2v14c0 1.1.9 2 2 2h14c1.1 0 2-.9 2-2V5c0-1.1-.9-2-2-2zM9 17H7v-7h2v7zm4 0h-2V7h2v10zm4 0h-2v-4h2v4z\"/>\n",
              "    </g>\n",
              "</svg>\n",
              "  </button>\n",
              "\n",
              "<style>\n",
              "  .colab-df-quickchart {\n",
              "    background-color: #E8F0FE;\n",
              "    border: none;\n",
              "    border-radius: 50%;\n",
              "    cursor: pointer;\n",
              "    display: none;\n",
              "    fill: #1967D2;\n",
              "    height: 32px;\n",
              "    padding: 0 0 0 0;\n",
              "    width: 32px;\n",
              "  }\n",
              "\n",
              "  .colab-df-quickchart:hover {\n",
              "    background-color: #E2EBFA;\n",
              "    box-shadow: 0px 1px 2px rgba(60, 64, 67, 0.3), 0px 1px 3px 1px rgba(60, 64, 67, 0.15);\n",
              "    fill: #174EA6;\n",
              "  }\n",
              "\n",
              "  [theme=dark] .colab-df-quickchart {\n",
              "    background-color: #3B4455;\n",
              "    fill: #D2E3FC;\n",
              "  }\n",
              "\n",
              "  [theme=dark] .colab-df-quickchart:hover {\n",
              "    background-color: #434B5C;\n",
              "    box-shadow: 0px 1px 3px 1px rgba(0, 0, 0, 0.15);\n",
              "    filter: drop-shadow(0px 1px 2px rgba(0, 0, 0, 0.3));\n",
              "    fill: #FFFFFF;\n",
              "  }\n",
              "</style>\n",
              "\n",
              "  <script>\n",
              "    async function quickchart(key) {\n",
              "      const charts = await google.colab.kernel.invokeFunction(\n",
              "          'suggestCharts', [key], {});\n",
              "    }\n",
              "    (() => {\n",
              "      let quickchartButtonEl =\n",
              "        document.querySelector('#df-be2311a4-2225-4c0f-84f9-73fcf82b363b button');\n",
              "      quickchartButtonEl.style.display =\n",
              "        google.colab.kernel.accessAllowed ? 'block' : 'none';\n",
              "    })();\n",
              "  </script>\n",
              "</div>\n",
              "    </div>\n",
              "  </div>\n"
            ]
          },
          "metadata": {},
          "execution_count": 7
        }
      ],
      "source": [
        "df, X_train, X_valid, X_test, y_train, y_valid, y_test = load_and_preprocess_data(\"/content/data2707.csv\", encoding = \"utf-8\")\n",
        "df"
      ]
    },
    {
      "cell_type": "code",
      "execution_count": null,
      "metadata": {
        "colab": {
          "base_uri": "https://localhost:8080/",
          "height": 850
        },
        "id": "hszt6G1LGYfK",
        "outputId": "63aa7829-ba90-43ca-8587-ed3445fcbf68"
      },
      "outputs": [
        {
          "output_type": "display_data",
          "data": {
            "text/plain": [
              "<Figure size 1200x1000 with 1 Axes>"
            ],
            "image/png": "[encoded data removed]"
          },
          "metadata": {}
        }
      ],
      "source": [
        "plt.figure(figsize=(12,10))\n",
        "sns.countplot(data=df, y='LABEL', width=0.5)\n",
        "plt.show()"
      ]
    },
    {
      "cell_type": "markdown",
      "metadata": {
        "id": "x3HYeL0UNDTZ"
      },
      "source": [
        "# 2. Feature extraction"
      ]
    },
    {
      "cell_type": "code",
      "execution_count": null,
      "metadata": {
        "id": "LtJVpTNnX47N"
      },
      "outputs": [],
      "source": [
        "from sklearn.preprocessing import LabelEncoder\n",
        "from keras.utils import to_categorical\n",
        "# Encode labels with value between 0 and n_classes-1.\n",
        "le = LabelEncoder()\n",
        "y = df[\"LABEL\"]\n",
        "y = le.fit_transform(y)\n",
        "Y_train = le.transform(y_train)\n",
        "Y_valid = le.transform(y_valid)\n",
        "Y_test = le.transform(y_test)\n",
        "\n",
        "# Converts a class vector (integers) to binary class matrix.\n",
        "y_train = to_categorical(Y_train)\n",
        "y_valid = to_categorical(Y_valid)\n",
        "y_test = to_categorical(Y_test)\n",
        "\n",
        "\n",
        "y_train = np.asarray(y_train).astype('int32')\n",
        "y_valid = np.asarray(y_valid).astype('int32')\n",
        "y_test = np.asarray(y_test).astype('int32')"
      ]
    },
    {
      "cell_type": "code",
      "execution_count": null,
      "metadata": {
        "colab": {
          "base_uri": "https://localhost:8080/"
        },
        "id": "RdNMG33QYs9c",
        "outputId": "b81b89d2-233a-4c7d-9039-f286e22476f9"
      },
      "outputs": [
        {
          "output_type": "execute_result",
          "data": {
            "text/plain": [
              "28"
            ]
          },
          "metadata": {},
          "execution_count": 17
        }
      ],
      "source": [
        "y_count = df['LABEL'].nunique()\n",
        "y_count"
      ]
    },
    {
      "cell_type": "markdown",
      "metadata": {
        "id": "cgB83UU3NnWe"
      },
      "source": [
        "## Word2vec"
      ]
    },
    {
      "cell_type": "code",
      "execution_count": null,
      "metadata": {
        "colab": {
          "base_uri": "https://localhost:8080/"
        },
        "id": "ho5W26ksqLHx",
        "outputId": "4fe78cc1-f320-43a8-853a-f59d069d226a"
      },
      "outputs": [
        {
          "output_type": "stream",
          "name": "stdout",
          "text": [
            "Max number of words in a text in training data: 2479\n"
          ]
        }
      ],
      "source": [
        "max_len = X_train.apply(lambda x: len(x)).max()\n",
        "print(f'Max number of words in a text in training data: {max_len}')"
      ]
    },
    {
      "cell_type": "code",
      "execution_count": null,
      "metadata": {
        "colab": {
          "base_uri": "https://localhost:8080/",
          "height": 220,
          "referenced_widgets": [
            "c3cca8fc7a634871ba01fd7bb091b4d1",
            "056968313f924fb884b3e020fbded5c7",
            "bb91fb49b67040bab3a511876400b770",
            "91c63bdf3e88490180c4b9b0a5fab8ab",
            "bfe51f7c4a8648bda0f5152653726e4c",
            "f8ed133daf2b4c04836d4d3e7dca07f4",
            "a0c6d67fa58d45b1b4cb832be9cbf8db",
            "306867d3ccc642f4b9066f79c270a46f",
            "e639f689df8e483b9ee1ab510f2926e4",
            "7681a768bd884be8b9558370351e923f",
            "de387d0c88aa4dea900635007ee502b5",
            "444560c78aa94abdb7a4078566312c63",
            "7bc24b718bc64efabed89ac1be731264",
            "6876a9221dba45989091b1ad82330837",
            "b758a4f9863a4ba19050207b6666323d",
            "521a70e815754e77ab4ce382385432be",
            "45c7c6b640ea4006a1e23f3c126c541a",
            "2dc97f2a8d7844e1ba02004812b3c379",
            "f6fea8ae85684510ad81e33baaad495c",
            "78a77814f0b24d6cb63f6f5954694790",
            "48969ad43b964a0e8a665473c566816f",
            "bc52e5299d694041a96134c94b2096b9",
            "eeeaa46d32c64f07abd1f97d22a73a7a",
            "400be96544514103862ad641702323b6",
            "0b20a7b5305f43a6a158924cb8daeb28",
            "5bf3aae283724cb9a72716c2a45a649e",
            "750d7e9cef984e7988dedf871c46ccf2",
            "c6bd4e52d7a645e5a225164a2774071f",
            "e49d38fe2e1748afa3a50cea77876176",
            "1e575bf907134f5ead93b55ff31adab6",
            "f583c17634aa49389288b173da13a711",
            "87a63665639a47fda315b431f58f416e",
            "d958acbad33248669339a391976c8047"
          ]
        },
        "id": "P4nOB6yZRmKK",
        "outputId": "6978d46b-60e5-46d7-ce2a-da45f6682823"
      },
      "outputs": [
        {
          "output_type": "display_data",
          "data": {
            "text/plain": [
              "Downloading (…)lve/main/config.json:   0%|          | 0.00/557 [00:00<?, ?B/s]"
            ],
            "application/vnd.jupyter.widget-view+json": {
              "version_major": 2,
              "version_minor": 0,
              "model_id": "c3cca8fc7a634871ba01fd7bb091b4d1"
            }
          },
          "metadata": {}
        },
        {
          "output_type": "display_data",
          "data": {
            "text/plain": [
              "Downloading (…)solve/main/vocab.txt:   0%|          | 0.00/895k [00:00<?, ?B/s]"
            ],
            "application/vnd.jupyter.widget-view+json": {
              "version_major": 2,
              "version_minor": 0,
              "model_id": "444560c78aa94abdb7a4078566312c63"
            }
          },
          "metadata": {}
        },
        {
          "output_type": "display_data",
          "data": {
            "text/plain": [
              "Downloading (…)solve/main/bpe.codes:   0%|          | 0.00/1.14M [00:00<?, ?B/s]"
            ],
            "application/vnd.jupyter.widget-view+json": {
              "version_major": 2,
              "version_minor": 0,
              "model_id": "eeeaa46d32c64f07abd1f97d22a73a7a"
            }
          },
          "metadata": {}
        },
        {
          "output_type": "stream",
          "name": "stderr",
          "text": [
            "Special tokens have been added in the vocabulary, make sure the associated word embeddings are fine-tuned or trained.\n"
          ]
        },
        {
          "output_type": "stream",
          "name": "stdout",
          "text": [
            "text example: cục hạch nhỏ cổ xet nghiêm wbc neu lym môn eos baso neu lym mono eos baso rbc hb hct mcv mch mchc rdw plt mpv tsh ultra centaur ferrtin hoi bac sy la voi ket qua tren toi co bi benh gi khong toi chan thanh cam on\n",
            "tokenized text: ['cục', 'hạch', 'nhỏ', 'cổ', 'xe@@', 't', 'nghiêm', 'w@@', 'b@@', 'c', 'ne@@', 'u', 'ly@@', 'm', 'môn', 'e@@', 'os', 'bas@@', 'o', 'ne@@', 'u', 'ly@@', 'm', 'mono', 'e@@', 'os', 'bas@@', 'o', 'r@@', 'b@@', 'c', 'h@@', 'b', 'h@@', 'ct', 'mc@@', 'v', 'm@@', 'ch', 'm@@', 'ch@@', 'c', 'r@@', 'd@@', 'w', 'pl@@', 't', 'mp@@', 'v', 'ts@@', 'h', 'ul@@', 'tra', 'cen@@', 'ta@@', 'ur', 'f@@', 'err@@', 'tin', 'hoi', 'ba@@', 'c', 'sy', 'la', 'voi', 'ket', 'qua', 'tr@@', 'en', 'toi', 'co', 'bi', 'be@@', 'nh', 'gi', 'kh@@', 'ong', 'toi', 'chan', 'thanh', 'cam', 'on']\n",
            "sequence of indices(before padding): [1, 2, 3, 4, 5, 6, 7, 8, 9, 10, 11, 12, 13, 14, 15, 16, 17, 18, 19, 11, 12, 13, 14, 20, 16, 17, 18, 19, 21, 9, 10, 22, 23, 22, 24, 25, 26, 27, 28, 27, 29, 10, 21, 30, 31, 32, 6, 33, 26, 34, 35, 36, 37, 38, 39, 40, 41, 42, 43, 44, 45, 10, 46, 47, 48, 49, 50, 51, 52, 53, 54, 55, 56, 57, 58, 59, 60, 53, 61, 62, 63, 64]\n",
            "sequence of indices(after padding): [ 0  0  0 ... 62 63 64]\n"
          ]
        }
      ],
      "source": [
        "from transformers import AutoTokenizer\n",
        "from tensorflow.keras.preprocessing import text, sequence\n",
        "\n",
        "# Load the PhoBERT tokenizer\n",
        "phobert_tokenizer = AutoTokenizer.from_pretrained(\"vinai/phobert-base\")\n",
        "\n",
        "# Tokenize the text data using the PhoBERT tokenizer\n",
        "X_train_tokenized = [phobert_tokenizer.tokenize(doc) for doc in X_train]\n",
        "X_valid_tokenized = [phobert_tokenizer.tokenize(doc) for doc in X_valid]\n",
        "X_test_tokenized = [phobert_tokenizer.tokenize(doc) for doc in X_test]\n",
        "# Create a word-to-index mapping based on the tokenized text data\n",
        "word_index = {}\n",
        "index = 1\n",
        "for doc in X_train_tokenized:\n",
        "    for token in doc:\n",
        "        if token not in word_index:\n",
        "            word_index[token] = index\n",
        "            index += 1\n",
        "\n",
        "# Convert the tokenized text data to sequences of integer indices\n",
        "# Convert the tokenized text data to sequences of integer indices, skipping OOV tokens\n",
        "X_train_seq = [[word_index[token] for token in doc if token in word_index] for doc in X_train_tokenized]\n",
        "X_valid_seq = [[word_index[token] for token in doc if token in word_index] for doc in X_valid_tokenized]\n",
        "X_test_seq = [[word_index[token] for token in doc if token in word_index] for doc in X_test_tokenized]\n",
        "\n",
        "# Pad the sequences to a fixed length\n",
        "  # Set this to the desired maximum sequence length\n",
        "X_train_pad = sequence.pad_sequences(X_train_seq, maxlen=max_len)\n",
        "X_valid_pad = sequence.pad_sequences(X_valid_seq, maxlen=max_len)\n",
        "X_test_pad = sequence.pad_sequences(X_test_seq, maxlen=max_len)\n",
        "\n",
        "# Print an example\n",
        "print('text example:', X_train.iloc[0])\n",
        "print('tokenized text:', X_train_tokenized[0])\n",
        "print('sequence of indices(before padding):', X_train_seq[0])\n",
        "print('sequence of indices(after padding):', X_train_pad[0])"
      ]
    },
    {
      "cell_type": "code",
      "source": [
        "import textwrap\n",
        "text1 = X_train.iloc[9]\n",
        "wrapped_text = textwrap.wrap(text1, width=50)\n",
        "print('Text example:')\n",
        "for line in wrapped_text:\n",
        "    print(line)\n",
        "text = X_train_tokenized[9]\n",
        "text_str = \", \".join(text)\n",
        "wrapped_text = textwrap.wrap(text_str, width=50)\n",
        "print()\n",
        "print('Tokenized text:')\n",
        "for line in wrapped_text:\n",
        "    print(line)"
      ],
      "metadata": {
        "colab": {
          "base_uri": "https://localhost:8080/"
        },
        "id": "G8k71Vv1hmFm",
        "outputId": "13874304-ee82-4f9d-f51f-0b39f1fa5d88"
      },
      "execution_count": null,
      "outputs": [
        {
          "output_type": "stream",
          "name": "stdout",
          "text": [
            "Text example:\n",
            "chích ngữa vắc ngừa ung thư cổ tử cung chích kiểm\n",
            "tra việc kiểm tra tự tới chích sẽ kiểm tra chích\n",
            "ngừa vắc quy trìn chích ngừa\n",
            "\n",
            "Tokenized text:\n",
            "chích, ng@@, ữa, v@@, ắc, ngừa, ung, thư, cổ, tử,\n",
            "cung, chích, kiểm, tra, việc, kiểm, tra, tự, tới,\n",
            "chích, sẽ, kiểm, tra, chích, ngừa, v@@, ắc, quy,\n",
            "tr@@, ìn, chích, ngừa\n"
          ]
        }
      ]
    },
    {
      "cell_type": "code",
      "execution_count": null,
      "metadata": {
        "colab": {
          "base_uri": "https://localhost:8080/"
        },
        "id": "yeRekydrqYhR",
        "outputId": "04e82898-8f11-400f-bed8-1ee641d93fbb"
      },
      "outputs": [
        {
          "output_type": "stream",
          "name": "stdout",
          "text": [
            "Size of vocabulary in Word2Vec: 3188\n"
          ]
        }
      ],
      "source": [
        "# Convert tokenized text to list of sentences (words)\n",
        "#sentences = [row.split() for row in df['Q1'].astype(str).tolist()]\n",
        "\n",
        "from gensim.models import Word2Vec\n",
        "\n",
        "# Train Word2Vec model\n",
        "\n",
        "w2vec_model = Word2Vec(X_train_tokenized, vector_size=300, window=35, min_count=10, workers=8)\n",
        "\n",
        "# Save model\n",
        "w2vec_model.save('word2vec_model.bin')\n",
        "\n",
        "# Load your trained model\n",
        "w2vec_model = Word2Vec.load('/content/word2vec_model.bin')\n",
        "\n",
        "# Create a dictionary to hold your word embeddings\n",
        "embedding_vectors = {}\n",
        "\n",
        "for word in w2vec_model.wv.key_to_index:\n",
        "    embedding_vectors[word] = w2vec_model.wv[word]\n",
        "\n",
        "print(f\"Size of vocabulary in Word2Vec: {len(embedding_vectors)}\")"
      ]
    },
    {
      "cell_type": "code",
      "source": [
        "w2vec_model = Word2Vec.load('/content/word2vec_model.bin')\n",
        "term = \"đẹp\"\n",
        "similar_words = w2vec_model.wv.most_similar(term, topn=5)\n",
        "\n",
        "# Print the result\n",
        "print(f'Top 5 words similar with {term}:')\n",
        "for word, similarity in similar_words:\n",
        "    print(f'{word}: {similarity:.2f}')"
      ],
      "metadata": {
        "colab": {
          "base_uri": "https://localhost:8080/"
        },
        "id": "PZ6A3Cv_KzYR",
        "outputId": "d3483979-28aa-449a-fac3-f9220fa9db94"
      },
      "execution_count": null,
      "outputs": [
        {
          "output_type": "stream",
          "name": "stdout",
          "text": [
            "Top 5 words similar with đẹp:\n",
            "mĩ: 0.82\n",
            "thẩm: 0.80\n",
            "viễn: 0.78\n",
            "trông: 0.77\n",
            "gương: 0.75\n"
          ]
        }
      ]
    },
    {
      "cell_type": "markdown",
      "metadata": {
        "id": "PI_jgFoATThA"
      },
      "source": [
        "Setup for ML"
      ]
    },
    {
      "cell_type": "code",
      "execution_count": null,
      "metadata": {
        "id": "Gb9XvHExS2qE"
      },
      "outputs": [],
      "source": [
        "from transformers import AutoTokenizer\n",
        "\n",
        "# Tokenize the text data using the PhoBERT tokenizer\n",
        "tokenized_text = [phobert_tokenizer.tokenize(doc) for doc in X_train]\n",
        "# Train the Word2Vec model\n",
        "#w2v_model = Word2Vec(sentences=tokenized_text, vector_size=300, window=35, min_count=10, workers=8)\n",
        "def document_vector(doc):\n",
        "    # Remove out-of-vocabulary words\n",
        "    doc = [word for word in doc if word in w2vec_model.wv.key_to_index]\n",
        "\n",
        "    # Check if the doc array is empty\n",
        "    if len(doc) == 0:\n",
        "        # Return a zero vector\n",
        "        return np.zeros(w2vec_model.vector_size)\n",
        "    else:\n",
        "        # Compute the mean of the word vectors\n",
        "        return np.mean(w2vec_model.wv[doc], axis=0)\n",
        "\n",
        "X_train_w2v = np.array([document_vector(doc) for doc in tokenized_text])\n",
        "X_valid_w2v = np.array([document_vector(phobert_tokenizer.tokenize(doc)) for doc in X_valid])\n",
        "X_test_w2v = np.array([document_vector(phobert_tokenizer.tokenize(doc)) for doc in X_test])"
      ]
    },
    {
      "cell_type": "markdown",
      "metadata": {
        "id": "XZewGBrRTVsA"
      },
      "source": [
        "Setup for DL"
      ]
    },
    {
      "cell_type": "code",
      "execution_count": null,
      "metadata": {
        "colab": {
          "base_uri": "https://localhost:8080/"
        },
        "id": "MuIb0Qk7qo9b",
        "outputId": "0aaa739a-f6d8-46ec-8be4-704e52dc6a48"
      },
      "outputs": [
        {
          "output_type": "stream",
          "name": "stdout",
          "text": [
            "Some out of valubulary words: ['cen@@', 'err@@', 'nhiễu', 'ale@@', 'ìn']\n",
            "3505 out of 6694 words were OOV.\n"
          ]
        }
      ],
      "source": [
        "#initialize the embedding_matrix with zeros\n",
        "emb_dim = 300\n",
        "\n",
        "vocab_len = len(word_index)+1\n",
        "embedding_matrix = np.zeros((vocab_len, emb_dim))\n",
        "oov_count = 0\n",
        "oov_words = []\n",
        "for word, idx in word_index.items():\n",
        "    if idx < vocab_len:\n",
        "        embedding_vector = embedding_vectors.get(word)\n",
        "        if embedding_vector is not None:\n",
        "            embedding_matrix[idx] = embedding_vector\n",
        "        else:\n",
        "            oov_count += 1\n",
        "            oov_words.append(word)\n",
        "#print some of the out of vocabulary words\n",
        "print(f'Some out of valubulary words: {oov_words[0:5]}')\n",
        "print(f'{oov_count} out of {vocab_len} words were OOV.')"
      ]
    },
    {
      "cell_type": "markdown",
      "metadata": {
        "id": "yGYQWbxbQdtl"
      },
      "source": [
        "## TF-IDF"
      ]
    },
    {
      "cell_type": "code",
      "source": [
        "from pyvi import ViTokenizer\n",
        "from sklearn.feature_extraction.text import TfidfVectorizer\n",
        "\n",
        "def tokenizer(text):\n",
        "    return ViTokenizer.tokenize(text)\n",
        "\n",
        "vectorizer = TfidfVectorizer(tokenizer=tokenizer)\n",
        "X_train_tfidf = vectorizer.fit_transform(X_train)\n",
        "X_valid_tfidf = vectorizer.transform(X_valid)\n",
        "X_test_tfidf = vectorizer.transform(X_test)"
      ],
      "metadata": {
        "colab": {
          "base_uri": "https://localhost:8080/"
        },
        "id": "VOW4jACve3df",
        "outputId": "622c8880-5639-4aed-f8ee-d7e4eaa24dc2"
      },
      "execution_count": null,
      "outputs": [
        {
          "output_type": "stream",
          "name": "stderr",
          "text": [
            "/usr/local/lib/python3.10/dist-packages/sklearn/feature_extraction/text.py:528: UserWarning: The parameter 'token_pattern' will not be used since 'tokenizer' is not None'\n",
            "  warnings.warn(\n"
          ]
        }
      ]
    },
    {
      "cell_type": "code",
      "source": [
        "from sklearn.feature_extraction.text import TfidfVectorizer\n",
        "\n",
        "from underthesea import word_tokenize, sent_tokenize\n",
        "from sklearn.svm import SVC\n",
        "from sklearn.metrics import classification_report\n",
        "def tokenizer(text):\n",
        "    return word_tokenize(text)\n",
        "vectorizer = TfidfVectorizer(tokenizer=tokenizer,\n",
        "                             #stop_words=my_stopwords\n",
        "                             )\n",
        "X_train_tfidf = vectorizer.fit_transform(X_train)\n",
        "X_valid_tfidf = vectorizer.transform(X_valid)\n",
        "X_test_tfidf = vectorizer.transform(X_test)"
      ],
      "metadata": {
        "colab": {
          "base_uri": "https://localhost:8080/"
        },
        "id": "39aRZPgVdRb9",
        "outputId": "c4fb8f99-4c6c-4168-fbb6-5a4233d04e02"
      },
      "execution_count": null,
      "outputs": [
        {
          "output_type": "stream",
          "name": "stderr",
          "text": [
            "/usr/local/lib/python3.10/dist-packages/sklearn/feature_extraction/text.py:528: UserWarning: The parameter 'token_pattern' will not be used since 'tokenizer' is not None'\n",
            "  warnings.warn(\n"
          ]
        }
      ]
    },
    {
      "cell_type": "code",
      "execution_count": null,
      "metadata": {
        "id": "xZN25C_CQdBz",
        "colab": {
          "base_uri": "https://localhost:8080/",
          "referenced_widgets": [
            "20f36b9169ca4532bd4f0d111de1d1a7",
            "e497516016e146bea42493a5649753a4",
            "dc473abe8a304c50b7d1e3e5ecbdd35b",
            "19900f22699a47fbbefedd895f6c4747",
            "f13898ff86f24fe8ae5fd75f60aadc8f",
            "65af48fc1db14e1db38ef98993695d9b",
            "2585fa495b064b09b75c66319c2831a0",
            "d8800c7f0272478d9b5b642be7093435",
            "5cdc502eb0b2469b9faf1a00971be77e",
            "720615f234984791a4e2a7579bfb7ea9",
            "ba7db856acca4011a5d37b83c59736c3",
            "cc9a4209fb764a6a9889bb4c8767b3da",
            "06089ea730734872b31e952b7ee7b552",
            "5844619a1bc2412cbeaf89f2ce205a5c",
            "6a343578e52a4a13a2606fcede0770de",
            "f26e0ae72d9c4f93a8ba12bdea8889c0",
            "b107c24d73c74f24ac68370565907652",
            "f5071c10bf704541b91c8b98d4ec6c87",
            "60931c56a83649089c9daf168346aa91",
            "ae787c85166a4e31b0685af796569ab2",
            "f14086fa47bb4ad1abeed8bc00b4ec9b",
            "75391442475149c28d305b844c85c046",
            "0b8e7cd99e194904ac9773130713979e",
            "5e8df91f986749139aeb380690128130",
            "8b3e49f1921a48a4a7e2735dc6b79e6e",
            "4a4af30505104cc7ba030c7066a0b27e",
            "fa95f350efcd43209094993c05daf725",
            "f1299d63e64b45c9bcd37a74f45e52ec",
            "a71080dff03b4c5a98cf86497050d564",
            "fd090578672846f3b319abbc5598367e",
            "447935c16f414749a4ad4d133b7b2fef",
            "7519943ba68641f2948ffb203fc9d4ec",
            "d2a5d29c45284ae7b1729ad31e420cc9"
          ]
        },
        "outputId": "cdeecec3-67be-447a-8883-80050a67577d"
      },
      "outputs": [
        {
          "output_type": "display_data",
          "data": {
            "text/plain": [
              "Downloading (…)lve/main/config.json:   0%|          | 0.00/557 [00:00<?, ?B/s]"
            ],
            "application/vnd.jupyter.widget-view+json": {
              "version_major": 2,
              "version_minor": 0,
              "model_id": "20f36b9169ca4532bd4f0d111de1d1a7"
            }
          },
          "metadata": {}
        },
        {
          "output_type": "display_data",
          "data": {
            "text/plain": [
              "Downloading (…)solve/main/vocab.txt:   0%|          | 0.00/895k [00:00<?, ?B/s]"
            ],
            "application/vnd.jupyter.widget-view+json": {
              "version_major": 2,
              "version_minor": 0,
              "model_id": "cc9a4209fb764a6a9889bb4c8767b3da"
            }
          },
          "metadata": {}
        },
        {
          "output_type": "display_data",
          "data": {
            "text/plain": [
              "Downloading (…)solve/main/bpe.codes:   0%|          | 0.00/1.14M [00:00<?, ?B/s]"
            ],
            "application/vnd.jupyter.widget-view+json": {
              "version_major": 2,
              "version_minor": 0,
              "model_id": "0b8e7cd99e194904ac9773130713979e"
            }
          },
          "metadata": {}
        },
        {
          "output_type": "stream",
          "name": "stderr",
          "text": [
            "Special tokens have been added in the vocabulary, make sure the associated word embeddings are fine-tuned or trained.\n",
            "/usr/local/lib/python3.10/dist-packages/sklearn/feature_extraction/text.py:528: UserWarning: The parameter 'token_pattern' will not be used since 'tokenizer' is not None'\n",
            "  warnings.warn(\n"
          ]
        }
      ],
      "source": [
        "from transformers import AutoTokenizer\n",
        "from sklearn.feature_extraction.text import TfidfVectorizer\n",
        "phobert_tokenizer = AutoTokenizer.from_pretrained(\"vinai/phobert-base\")\n",
        "\n",
        "def custom_tokenizer(text):\n",
        "    tokens = phobert_tokenizer.tokenize(text)\n",
        "    words = phobert_tokenizer.convert_tokens_to_string(tokens).split()\n",
        "    return words\n",
        "vectorizer = TfidfVectorizer(\n",
        "                            tokenizer=custom_tokenizer,\n",
        "                            ngram_range=(1,1)\n",
        "                             )\n",
        "X_train_tfidf = vectorizer.fit_transform(X_train)\n",
        "X_valid_tfidf = vectorizer.transform(X_valid)\n",
        "X_test_tfidf = vectorizer.transform(X_test)"
      ]
    },
    {
      "cell_type": "markdown",
      "metadata": {
        "id": "aUypH3hFVn26"
      },
      "source": [
        "Some TF-IDF inference"
      ]
    },
    {
      "cell_type": "code",
      "execution_count": null,
      "metadata": {
        "colab": {
          "base_uri": "https://localhost:8080/"
        },
        "id": "zVRLfyGOwHxH",
        "outputId": "cc71fddc-ffe3-4353-fdb0-a73594e895e0"
      },
      "outputs": [
        {
          "output_type": "stream",
          "name": "stdout",
          "text": [
            "Unique labels:\n",
            "Dị Ứng - Miễn Dịch Lâm Sàng\n",
            "Hậu Môn - Trực Tràng\n",
            "Lồng Ngực - Mạch Máu\n",
            "Mắt\n",
            "Nam Khoa\n",
            "Ngoại Tim Mạch\n",
            "Nhi - Tiêm Ngừa\n",
            "Nội Tiết\n",
            "Phẫu Thuật Răng Hàm Mặt\n",
            "Phổi\n",
            "Sản - Phụ Khoa\n",
            "Sức Khỏe\n",
            "Tai Mũi Họng\n",
            "Tdcn Hô Hấp\n",
            "Thần Kinh\n",
            "Thẩm Mỹ Da - Da Liễu\n",
            "Tim Mạch\n",
            "Tiêu Hóa - Gan Mật\n",
            "Tiết Niệu\n",
            "Tạo Hình Thẩm Mỹ\n",
            "Tổng Quát - Y Học Gia Đình\n",
            "Viêm Gan\n",
            "Vú - Fna\n",
            "Vấn Đề Khác\n",
            "Xương Khớp\n"
          ]
        }
      ],
      "source": [
        "# Print the unique labels in text form\n",
        "unique_labels = le.classes_\n",
        "print(\"Unique labels:\")\n",
        "for label in unique_labels:\n",
        "    print(label)"
      ]
    },
    {
      "cell_type": "code",
      "execution_count": null,
      "metadata": {
        "colab": {
          "base_uri": "https://localhost:8080/"
        },
        "id": "OKZbo4slVrAK",
        "outputId": "75a119ec-ecf3-45ba-bf0f-4b0c2b460f2a"
      },
      "outputs": [
        {
          "output_type": "stream",
          "name": "stdout",
          "text": [
            "Top 6 weighted words for label Tổng Quát - Y Học Gia Đình:\n",
            "quát: 0.11343293771966333\n",
            "tổng: 0.11092840748605431\n",
            "xét: 0.04497636878490282\n",
            "nghiệm: 0.04365665229666144\n",
            "mẹ: 0.0400389698509576\n",
            "khoa: 0.03555970796222304\n"
          ]
        }
      ],
      "source": [
        "import numpy as np\n",
        "\n",
        "def print_top_weighted_words(label, n):\n",
        "    label_encoded = le.transform([label])[0]\n",
        "    X_train_tfidf_label = X_train_tfidf[Y_train == label_encoded]\n",
        "    tfidf_means = np.mean(X_train_tfidf_label, axis=0)\n",
        "    sorted_indices = np.argsort(tfidf_means)[:,::-1]\n",
        "    feature_names = vectorizer.get_feature_names_out()\n",
        "\n",
        "    print(f\"Top {n} weighted words for label {label}:\")\n",
        "    for i in range(n):\n",
        "        index = sorted_indices[0, i]\n",
        "        print(f\"{feature_names[index]}: {tfidf_means[0, index]}\")\n",
        "\n",
        "print_top_weighted_words(\"Tổng Quát - Y Học Gia Đình\", 6)\n",
        "#print_top_weighted_words(\"Tiết Niệu\", 20)"
      ]
    },
    {
      "cell_type": "code",
      "execution_count": null,
      "metadata": {
        "id": "TWYYkCULVvPe",
        "colab": {
          "base_uri": "https://localhost:8080/"
        },
        "outputId": "5e666259-799b-48dd-b430-9a162fdd8121"
      },
      "outputs": [
        {
          "output_type": "stream",
          "name": "stdout",
          "text": [
            "Rank of 'mẹ' for label Dị Ứng - Miễn Dịch Lâm Sàng: 65\n",
            "Rank of 'mẹ' for label Hậu Môn - Trực Tràng: 256\n",
            "Rank of 'mẹ' for label Lồng Ngực - Mạch Máu: 28\n",
            "Rank of 'mẹ' for label Mắt: 40\n",
            "Rank of 'mẹ' for label Nam Khoa: 1816\n",
            "Rank of 'mẹ' for label Ngoại Tim Mạch: 16\n",
            "Rank of 'mẹ' for label Nhi - Tiêm Ngừa: 32\n",
            "Rank of 'mẹ' for label Nội Tiết: 45\n",
            "Rank of 'mẹ' for label Phẫu Thuật Răng Hàm Mặt: 108\n",
            "Rank of 'mẹ' for label Phổi: 6\n",
            "Rank of 'mẹ' for label Sản - Phụ Khoa: 123\n",
            "Rank of 'mẹ' for label Sức Khỏe: 4\n",
            "Rank of 'mẹ' for label Tai Mũi Họng: 108\n",
            "Rank of 'mẹ' for label Tdcn Hô Hấp: 46\n",
            "Rank of 'mẹ' for label Thần Kinh: 4\n",
            "Rank of 'mẹ' for label Thẩm Mỹ Da - Da Liễu: 55\n",
            "Rank of 'mẹ' for label Tim Mạch: 6\n",
            "Rank of 'mẹ' for label Tiêu Hóa - Gan Mật: 23\n",
            "Rank of 'mẹ' for label Tiết Niệu: 15\n",
            "Rank of 'mẹ' for label Tạo Hình Thẩm Mỹ: 213\n",
            "Rank of 'mẹ' for label Tổng Quát - Y Học Gia Đình: 5\n",
            "Rank of 'mẹ' for label Viêm Gan: 51\n",
            "Rank of 'mẹ' for label Vú - Fna: 26\n",
            "Rank of 'mẹ' for label Vấn Đề Khác: 11\n",
            "Rank of 'mẹ' for label Xương Khớp: 6\n"
          ]
        }
      ],
      "source": [
        "def print_word_rank(word, label):\n",
        "    label_encoded = le.transform([label])[0] # Convert the label to its corresponding integer\n",
        "    X_train_tfidf_label = X_train_tfidf[Y_train == label_encoded] # Use Y_train instead of y_train\n",
        "    tfidf_means = np.mean(X_train_tfidf_label, axis=0)\n",
        "    sorted_indices = np.argsort(tfidf_means)[:,::-1]\n",
        "    feature_names = vectorizer.get_feature_names_out()\n",
        "    word_index = np.where(feature_names == word)[0][0]\n",
        "    word_rank = np.where(sorted_indices == word_index)[1][0] + 1\n",
        "    print(f\"Rank of '{word}' for label {label}: {word_rank}\")\n",
        "\n",
        "# Print the unique labels in text form\n",
        "unique_labels = le.classes_\n",
        "for label in unique_labels:\n",
        "    print_word_rank(\"mẹ\", label)"
      ]
    },
    {
      "cell_type": "code",
      "execution_count": null,
      "metadata": {
        "colab": {
          "base_uri": "https://localhost:8080/"
        },
        "id": "_2KCiSKrV3Mq",
        "outputId": "db7ac3f4-1634-4f0e-baec-5f843023cfbf"
      },
      "outputs": [
        {
          "name": "stdout",
          "output_type": "stream",
          "text": [
            "Top 30 words that are in the top 20 rankings of all classes: []\n"
          ]
        }
      ],
      "source": [
        "def get_top_words(label, n):\n",
        "    label_encoded = le.transform([label])[0] # Convert the label to its corresponding integer\n",
        "    X_train_tfidf_label = X_train_tfidf[Y_train == label_encoded] # Use Y_train instead of y_train\n",
        "    tfidf_means = np.mean(X_train_tfidf_label, axis=0)\n",
        "    sorted_indices = np.argsort(tfidf_means)[:,::-1]\n",
        "    feature_names = vectorizer.get_feature_names_out()\n",
        "\n",
        "    top_words = []\n",
        "    for i in range(n):\n",
        "        index = sorted_indices[0, i]\n",
        "        top_words.append(feature_names[index])\n",
        "    return top_words\n",
        "\n",
        "# Use the unique labels in text form\n",
        "unique_labels = le.classes_\n",
        "top_words = set(get_top_words(unique_labels[0], 20))\n",
        "for label in unique_labels[1:]:\n",
        "    label_top_words = set(get_top_words(label, 20))\n",
        "    top_words.intersection_update(label_top_words)\n",
        "\n",
        "top_30_common_words = list(top_words)[:30]\n",
        "print(f\"Top 30 words that are in the top 20 rankings of all classes: {top_30_common_words}\")"
      ]
    },
    {
      "cell_type": "markdown",
      "metadata": {
        "id": "YF1qlNCgQCsS"
      },
      "source": [
        "#3. DL model"
      ]
    },
    {
      "cell_type": "code",
      "execution_count": null,
      "metadata": {
        "id": "py-hl2MRuMpt"
      },
      "outputs": [],
      "source": [
        "from keras.optimizers import Adam\n",
        "\n",
        "def build_model(rnn_layer, vocab_len, emb_dim, y_count, embedding_matrix, learning_rate):\n",
        "    model = Sequential()\n",
        "    model.add(Embedding(vocab_len, emb_dim, trainable=True, weights=[embedding_matrix]))\n",
        "    model.add(rnn_layer)\n",
        "    model.add(Dropout(0.9))\n",
        "    model.add(Dense(y_count, activation='softmax'))\n",
        "\n",
        "    optimizer = Adam(learning_rate=learning_rate) # You can set the learning rate value you want here\n",
        "    model.compile(loss='categorical_crossentropy', optimizer=optimizer, metrics=['accuracy'])\n",
        "\n",
        "    return model"
      ]
    },
    {
      "cell_type": "code",
      "execution_count": null,
      "metadata": {
        "id": "STPba0WYuRP6"
      },
      "outputs": [],
      "source": [
        "from keras.callbacks import EarlyStopping, ModelCheckpoint\n",
        "import os\n",
        "\n",
        "def train_model(model, X_train_pad, y_train, X_valid_pad, y_valid, batch_size, epochs, model_name):\n",
        "    model_path = f\"{folder_path}/{model_name}_best_model.h5\"\n",
        "\n",
        "    # Create the directory if it doesn't exist\n",
        "    os.makedirs(folder_path, exist_ok=True)\n",
        "\n",
        "    early_stopping = EarlyStopping(monitor='val_loss', patience=10, verbose=1, restore_best_weights=True)\n",
        "    checkpoint = ModelCheckpoint(model_path, monitor='val_accuracy', verbose=1, save_best_only=True)\n",
        "\n",
        "    history = model.fit(X_train_pad, y_train, validation_data=(X_valid_pad, y_valid), batch_size=batch_size, epochs=epochs, callbacks=[early_stopping, checkpoint])\n",
        "    return history\n",
        "\n",
        "\n",
        "folder_path = \"/content/drive/MyDrive/saved_models\""
      ]
    },
    {
      "cell_type": "code",
      "execution_count": null,
      "metadata": {
        "id": "HQOZUc6Av1cj"
      },
      "outputs": [],
      "source": [
        "def plot_accuracy(history):\n",
        "    epochs = len(history.history['accuracy'])\n",
        "    plt.figure(figsize=(15, 7))\n",
        "    plt.plot(range(epochs), history.history['accuracy'])\n",
        "    plt.plot(range(epochs), history.history['val_accuracy'])\n",
        "    plt.legend(['training_acc', 'validation_acc'])\n",
        "    plt.title('Accuracy')\n",
        "    plt.show()"
      ]
    },
    {
      "cell_type": "code",
      "execution_count": null,
      "metadata": {
        "id": "qBmVKSYUv4vm"
      },
      "outputs": [],
      "source": [
        "\n",
        "def evaluate_model(model, X_train_pad, y_train, X_valid_pad, y_valid, batch_size, le):\n",
        "    # Evaluate the model\n",
        "    train_results = model.evaluate(X_train_pad, np.asarray(y_train), verbose=0, batch_size=batch_size)\n",
        "    test_results = model.evaluate(X_valid_pad, np.asarray(y_valid), verbose=0, batch_size=batch_size)\n",
        "    print(f'Train accuracy: {train_results[1]*100:0.2f}')\n",
        "    print(f'Test accuracy: {test_results[1]*100:0.2f}')\n",
        "\n",
        "    # Get predictions for the test data\n",
        "    y_pred = model.predict(X_valid_pad, batch_size=batch_size)\n",
        "\n",
        "    # Convert probabilities to class labels\n",
        "    y_pred_classes = np.argmax(y_pred, axis=1)\n",
        "    y_valid_classes = np.argmax(y_valid, axis=1)\n",
        "\n",
        "    # Inverse transform the class labels to get the original text labels\n",
        "    y_pred_labels = le.inverse_transform(y_pred_classes)\n",
        "    y_valid_labels = le.inverse_transform(y_valid_classes)\n",
        "\n",
        "    # Print classification report with text labels\n",
        "    print(\"Classification Report:\")\n",
        "    print(classification_report(y_valid_labels, y_pred_labels))"
      ]
    },
    {
      "cell_type": "code",
      "execution_count": null,
      "metadata": {
        "id": "xp2j9tFYuZY4"
      },
      "outputs": [],
      "source": [
        "from sklearn.preprocessing import LabelEncoder\n",
        "import numpy as np\n",
        "\n",
        "def check_wrong(real_values, predicts, le):\n",
        "    predicts = np.argmax(predicts, axis=1)  # Convert probabilities to class labels\n",
        "    wrong_indices = np.where(predicts != np.argmax(real_values, axis=1))[0]\n",
        "    wrong_predictions = predicts[wrong_indices]\n",
        "\n",
        "    for i in range(min(28, len(wrong_indices))):\n",
        "        idx = wrong_indices[i]\n",
        "        pred_class_label = le.inverse_transform([wrong_predictions[i]])[0]\n",
        "        actual_class_label = le.inverse_transform([np.argmax(real_values[idx])])[0]\n",
        "        print(f\"Text: {X_test.iloc[wrong_indices[i]]}\")\n",
        "        print(f\"Predicted: {pred_class_label} - Actual: {actual_class_label}\\n\")"
      ]
    },
    {
      "cell_type": "code",
      "execution_count": null,
      "metadata": {
        "id": "Lg-ExpfxnjSy"
      },
      "outputs": [],
      "source": [
        "batch_size = 256\n",
        "epochs  = 100\n",
        "# Define embedding dimension\n",
        "emb_dim = embedding_matrix.shape[1]"
      ]
    },
    {
      "cell_type": "markdown",
      "metadata": {
        "id": "3te7YTDM0zHW"
      },
      "source": [
        "##RNN"
      ]
    },
    {
      "cell_type": "code",
      "execution_count": null,
      "metadata": {
        "id": "tYrVrWUon9Hu"
      },
      "outputs": [],
      "source": [
        "from keras.layers import SimpleRNN\n",
        "rnn_model = build_model(SimpleRNN(128, return_sequences=False), vocab_len, emb_dim, y_count, embedding_matrix, learning_rate = 0.0005)"
      ]
    },
    {
      "cell_type": "code",
      "source": [
        "rnn_model.summary()"
      ],
      "metadata": {
        "colab": {
          "base_uri": "https://localhost:8080/"
        },
        "id": "bzbZdO8S1w4y",
        "outputId": "4371fb89-d317-4e18-ff09-e48984aff6ea"
      },
      "execution_count": null,
      "outputs": [
        {
          "output_type": "stream",
          "name": "stdout",
          "text": [
            "Model: \"sequential_1\"\n",
            "_________________________________________________________________\n",
            " Layer (type)                Output Shape              Param #   \n",
            "=================================================================\n",
            " embedding_1 (Embedding)     (None, None, 300)         2008200   \n",
            "                                                                 \n",
            " simple_rnn_1 (SimpleRNN)    (None, 128)               54912     \n",
            "                                                                 \n",
            " dropout_2 (Dropout)         (None, 128)               0         \n",
            "                                                                 \n",
            " dense_3 (Dense)             (None, 28)                3612      \n",
            "                                                                 \n",
            "=================================================================\n",
            "Total params: 2,066,724\n",
            "Trainable params: 2,066,724\n",
            "Non-trainable params: 0\n",
            "_________________________________________________________________\n"
          ]
        }
      ]
    },
    {
      "cell_type": "code",
      "source": [
        "from tensorflow.keras.utils import plot_model\n",
        "plot_model(rnn_model, to_file='model.png', show_shapes=True, show_layer_names=True)"
      ],
      "metadata": {
        "colab": {
          "base_uri": "https://localhost:8080/",
          "height": 533
        },
        "id": "Sfram99lv4vd",
        "outputId": "44bc3142-f3f4-40b9-eff4-4e3483a7bc7f"
      },
      "execution_count": null,
      "outputs": [
        {
          "output_type": "execute_result",
          "data": {
            "image/png": "[encoded data removed]",
            "text/plain": [
              "<IPython.core.display.Image object>"
            ]
          },
          "metadata": {},
          "execution_count": 70
        }
      ]
    },
    {
      "cell_type": "code",
      "execution_count": null,
      "metadata": {
        "id": "OUWh9hT20xQA"
      },
      "outputs": [],
      "source": [
        "# Train RNN model\n",
        "model_name = \"RNN1608\"\n",
        "rnn_history = train_model(rnn_model, X_train_pad, y_train, X_valid_pad, y_valid, batch_size, epochs, model_name)"
      ]
    },
    {
      "cell_type": "code",
      "execution_count": null,
      "metadata": {
        "colab": {
          "base_uri": "https://localhost:8080/",
          "height": 622
        },
        "id": "iMRaN04277zy",
        "outputId": "6d1a23ef-35e7-45e9-a0c8-3600c4fac759"
      },
      "outputs": [
        {
          "output_type": "display_data",
          "data": {
            "text/plain": [
              "<Figure size 1500x700 with 1 Axes>"
            ],
            "image/png": "[encoded data removed]"
          },
          "metadata": {}
        }
      ],
      "source": [
        "plot_accuracy(rnn_history)"
      ]
    },
    {
      "cell_type": "code",
      "execution_count": null,
      "metadata": {
        "colab": {
          "base_uri": "https://localhost:8080/"
        },
        "id": "4NZV2h8V0HbP",
        "outputId": "b8d80efc-8caa-4aa2-8b30-add2f49eb51c"
      },
      "outputs": [
        {
          "output_type": "stream",
          "name": "stdout",
          "text": [
            "Train accuracy: 61.75\n",
            "Test accuracy: 58.69\n",
            "8/8 [==============================] - 0s 19ms/step\n",
            "Classification Report:\n",
            "                             precision    recall  f1-score   support\n",
            "\n",
            "Dị Ứng - Miễn Dịch Lâm Sàng       0.00      0.00      0.00        44\n",
            "                  Huyết Học       0.57      0.07      0.13        55\n",
            "                    Hóa Trị       0.00      0.00      0.00        24\n",
            "       Hậu Môn - Trực Tràng       0.88      0.94      0.91       363\n",
            "       Lồng Ngực - Mạch Máu       0.40      0.46      0.43       114\n",
            "                        Mắt       0.73      0.90      0.81       199\n",
            "                   Nam Khoa       0.49      0.67      0.57       134\n",
            "             Ngoại Tim Mạch       0.60      0.03      0.05       116\n",
            "            Nhi - Tiêm Ngừa       0.58      0.39      0.46       135\n",
            "                   Nội Thận       0.62      0.38      0.47        56\n",
            "                   Nội Tiết       0.40      0.20      0.26        92\n",
            "    Phẫu Thuật Răng Hàm Mặt       0.58      0.90      0.70       163\n",
            "                       Phổi       0.69      0.83      0.75       205\n",
            "             Sản - Phụ Khoa       0.49      0.20      0.28       125\n",
            "               Tai Mũi Họng       0.65      0.25      0.36       137\n",
            "                Tdcn Hô Hấp       0.00      0.00      0.00        41\n",
            "                  Thần Kinh       0.40      0.33      0.36       174\n",
            "       Thẩm Mỹ Da - Da Liễu       0.48      0.58      0.52       186\n",
            "                   Tim Mạch       0.57      0.84      0.68       296\n",
            "         Tiêu Hóa - Gan Mật       0.60      0.81      0.69       312\n",
            "                  Tiết Niệu       0.35      0.29      0.32        58\n",
            "                     Tâm Lý       0.69      0.84      0.76       215\n",
            "           Tạo Hình Thẩm Mỹ       0.56      0.40      0.46       173\n",
            " Tổng Quát - Y Học Gia Đình       0.67      0.03      0.05        80\n",
            "                      U Gan       0.00      0.00      0.00        46\n",
            "                   Viêm Gan       0.52      0.87      0.65       180\n",
            "                   Vú - Fna       0.72      0.33      0.46       102\n",
            "                 Xương Khớp       0.26      0.44      0.33       126\n",
            "\n",
            "                   accuracy                           0.59      3951\n",
            "                  macro avg       0.48      0.43      0.41      3951\n",
            "               weighted avg       0.57      0.59      0.54      3951\n",
            "\n"
          ]
        },
        {
          "output_type": "stream",
          "name": "stderr",
          "text": [
            "/usr/local/lib/python3.10/dist-packages/sklearn/metrics/_classification.py:1344: UndefinedMetricWarning: Precision and F-score are ill-defined and being set to 0.0 in labels with no predicted samples. Use `zero_division` parameter to control this behavior.\n",
            "  _warn_prf(average, modifier, msg_start, len(result))\n",
            "/usr/local/lib/python3.10/dist-packages/sklearn/metrics/_classification.py:1344: UndefinedMetricWarning: Precision and F-score are ill-defined and being set to 0.0 in labels with no predicted samples. Use `zero_division` parameter to control this behavior.\n",
            "  _warn_prf(average, modifier, msg_start, len(result))\n",
            "/usr/local/lib/python3.10/dist-packages/sklearn/metrics/_classification.py:1344: UndefinedMetricWarning: Precision and F-score are ill-defined and being set to 0.0 in labels with no predicted samples. Use `zero_division` parameter to control this behavior.\n",
            "  _warn_prf(average, modifier, msg_start, len(result))\n"
          ]
        }
      ],
      "source": [
        "from keras.models import load_model\n",
        "model_name = \"RNN1608\"\n",
        "best_model_path = f\"{folder_path}/{model_name}_best_model.h5\"\n",
        "best_rnn_model = load_model(best_model_path)\n",
        "\n",
        "evaluate_model(best_rnn_model, X_train_pad, y_train, X_valid_pad, y_valid, batch_size, le)"
      ]
    },
    {
      "cell_type": "code",
      "execution_count": null,
      "metadata": {
        "colab": {
          "base_uri": "https://localhost:8080/"
        },
        "id": "J-Fu3-d00pRg",
        "outputId": "0daa2d86-0302-4be3-b45b-6ab2fa5c13a0"
      },
      "outputs": [
        {
          "output_type": "stream",
          "name": "stdout",
          "text": [
            "124/124 [==============================] - 2s 12ms/step\n",
            "Text: tổ chức đám cưới đám cưới luôn xét nghiệm những chuẩn những viên sắt mang thai\n",
            "Predicted: Nội Tiết - Actual: Sản - Phụ Khoa\n",
            "\n",
            "Text: học dịch vụ xét nghiệm gen mang thai giá xét nghiệm\n",
            "Predicted: Thẩm Mỹ Da - Da Liễu - Actual: Sản - Phụ Khoa\n",
            "\n",
            "Text: mọi người bố đường mật di căn gan đa bố truyền hóa chất nhất bsi bảo men gan tăng men gan tăng quá cao truyền mọi người hạ men gan mọi người cả chế độ dinh dưỡng bố\n",
            "Predicted: Viêm Gan - Actual: U Gan\n",
            "\n",
            "Text: mạch máu học suy tĩnh mạch toa công việc bận mang tất tế hằng hỏibs bằng sóng radio tầng đau diều giải đáp\n",
            "Predicted: Tim Mạch - Actual: Lồng Ngực - Mạch Máu\n",
            "\n",
            "Text: bac bi tiêu chảy mua ún bớt xong lai đăc dùng bia chảy liên tục hệ tiêu hóa bi chảy thang rùi\n",
            "Predicted: Hậu Môn - Trực Tràng - Actual: Tiêu Hóa - Gan Mật\n",
            "\n",
            "Text: cái bớt màu đỏ má cao dĩ giùm\n",
            "Predicted: Phẫu Thuật Răng Hàm Mặt - Actual: Tạo Hình Thẩm Mỹ\n",
            "\n",
            "Text: chó nhà cô cắn nhẹ cằm nó cố chảy máu chó chích ngừa chích dõi chó khá khỏe mạnh đều nó ốm chút năng dộng chơi vài nó bỏ nhà khỏe mạnh nhức đầu nguy cơ mắc dại\n",
            "Predicted: Phổi - Actual: Nhi - Tiêm Ngừa\n",
            "\n",
            "Text: dạ tổng quát tổng quát nội soi dạ dày tổng quát\n",
            "Predicted: Tiêu Hóa - Gan Mật - Actual: Tổng Quát - Y Học Gia Đình\n",
            "\n",
            "Text: tuổi ung thư tuyến giáp giai đoạn hai phẫu tuần xuất số nhân luận phẫu họ đều chuyển sang khác hóa chất chuyển nhà thêm lo lắng hãy\n",
            "Predicted: Viêm Gan - Actual: Hóa Trị\n",
            "\n",
            "Text: giáo viên đau họng ban ít triệu đêm khuya đau rát họng ho đờm lỏng nước triệu nằm xuống ngủ tiếp tượng lặp hôm ho khạc đờm tí máu mắc thật\n",
            "Predicted: Phổi - Actual: Tdcn Hô Hấp\n",
            "\n",
            "Text: thứ tiêm vacxin mũi trung quốc tiêm tối ngủ qua đêm thứ thở đau tức ngực chút mệt trái tim mệt kiểu chạy vài vòng sân ấy tác dụng phụ vacxin tim\n",
            "Predicted: Tim Mạch - Actual: Nhi - Tiêm Ngừa\n",
            "\n",
            "Text: chồng bé chích ngừa ung thư cổ tử cung chích ngừa ung thư cổ tử cung học\n",
            "Predicted: Thẩm Mỹ Da - Da Liễu - Actual: Sản - Phụ Khoa\n",
            "\n",
            "Text: sỉ ba chụp cắt lớp vi tính thơ chụp hệ thống động mạch chủ bụng chậu xơ vữa hẹp khẩu kính đoạn gốc động mạch chậu chung hẹp khẩu kính đoạn gốc động mạch chậu chung trái nhờ sỉ nằm chụp ct hẹp bằng phẩu dùng sỉ\n",
            "Predicted: Tim Mạch - Actual: Lồng Ngực - Mạch Máu\n",
            "\n",
            "Text: ơi viêm tai giữa nó mủ chảy nước vàng phòng tai mũi họng bảo chọn chữa dài dài ấy phân tích hiểu bảo phẫu sẽ tốt so chữa dài ấy sợ phẫu ấy giải thích hiểu phòng phẫu sẽ tiêm gây mê phẫu tỉnh dậy xong đỡ sợ quên ấy phẫu phẫu phẫu sẽ những biến giải đáp giải đáp ngắn nhất hè sẽ quyết bảo bố mẹ xuống tai mũi họng hà nội phẫu nhận câu trả lời đọc câu hãy gửi câu trả lời địa email\n",
            "Predicted: Thẩm Mỹ Da - Da Liễu - Actual: Tai Mũi Họng\n",
            "\n",
            "Text: hôm học dân tộc chuẩn suy gan suy thận xét nghiệm nhà vũng tàu lấy số qua xét nghiệm kịp đợi kịp chuyến xe trở vui lòng xét nghiệm đưa phòng đợt tới nơi xét nghiệm phòng\n",
            "Predicted: Tiết Niệu - Actual: Viêm Gan\n",
            "\n",
            "Text: mẹ tim thở mệt mẹ truyền đạm nước biển chẩn mẹ bướu tim mệt huyết áp ổn rối loạn tiền đình bướu tim rối loạn tiền đình\n",
            "Predicted: Tim Mạch - Actual: Nội Tiết\n",
            "\n",
            "Text: trai động kinh rõ nguyên nhân nơi liên tục dùng loại phối hợp thuyên giảm dùng phối hợp depakin mg lamotor mg cân nặng kg những co giật cơn lịch sử dùng rivotril topamax trileptat hiệu trạng triển chậm phá triển trí tuệ học kính khoa thần kinh chữa trân trọng\n",
            "Predicted: Xương Khớp - Actual: Thần Kinh\n",
            "\n",
            "Text: vợ ung thư dạ dày chẩn phân loại tnm vợ pt phẫu cắt đoạn dạ dày qua hẹn xét hóa ung thư dạ dày giai đoạn pt nguy hiểm trạng vợ phương pháp tốt\n",
            "Predicted: Tiêu Hóa - Gan Mật - Actual: Hóa Trị\n",
            "\n",
            "Text: phẫu thắt trĩ nội ngồi học xuyên viêm rát hậu môn viêm hậu môn hai trạng xuyên táo bón rát hậu môn đau vệ sinh hai cầu nặng nề dưới ngồi chịu thoải mái ẩm cả người mệt mỏi ảnh hưởng việc học tập đứng hoặc ngồi việc đều tê buốt trĩ cầu máu búi trĩ ngoài lo lắng sẽ\n",
            "Predicted: Hậu Môn - Trực Tràng - Actual: Lồng Ngực - Mạch Máu\n",
            "\n",
            "Text: kính triệu ngủ nằm ghế bố giường đau lưng nằm ghế bố đau lưng tối sáng đau lưng đau vị trí thắt lưng giữa xương sống hai cạnh cuối sườn nhấn giác đau ngủ võng đau nằm những chỗ khác đau triệu đau nhẹ chẩn đau thần kinh liên sườn triệu nặng gây ngủ vô khoa\n",
            "Predicted: Tiêu Hóa - Gan Mật - Actual: Xương Khớp\n",
            "\n",
            "Text: ơi lao xong nôn hôm qua nôn đau nhói thắt lưng đau đứng ngồi đều khăn tự khỏi đau\n",
            "Predicted: Tiêu Hóa - Gan Mật - Actual: Phổi\n",
            "\n",
            "Text: mang thai chẩn tiểu đường thông số đường huyết đói mmol đường huyết đường mmol mmol thai siêu âm đklđ mm cdxđ mm đknb mm bất thai thai lớn hạn chế khảo sát hình thái thai những số thai nhi cân nặng ảnh hưởng nghiêm trọng thai nhi thai khỏe dù mang thai ngọt tăng kg\n",
            "Predicted: Viêm Gan - Actual: Sản - Phụ Khoa\n",
            "\n",
            "Text: sinh nam tiền sử viêm gan mãn tính gan nhiểm mở dõi va võ ngọc quốc minh năm trươc tắm vị trí giửa tinh hoan ngoài dưới dương vật nặn hạt mụn thường mụn mặt khỏang tắm xong chảy máu tạivị trí máu dạng loāng địa phương tưọng chấm dứt nằm nghĩ phút khoảng tháng tiểu đườngcó số glucose la vị trí máu nửa tri khoa vui lòng thật áp\n",
            "Predicted: Nam Khoa - Actual: Nội Tiết\n",
            "\n",
            "Text: bé trai bé cứ chuyển mưa bắt đầu ngứa gãi tới nổi mẩm đỏ dị ứng bé cứ ngứa xong bớt lặp lặp trời mưa bé bẹnh bạc liêu nhờ dùm thàn\n",
            "Predicted: Viêm Gan - Actual: Dị Ứng - Miễn Dịch Lâm Sàng\n",
            "\n",
            "Text: sỉ dhyd đầu thay đổi sợi bọc bọc tuyến vú sỉ enat ba đầu va bảo ba\n",
            "Predicted: Nam Khoa - Actual: Vú - Fna\n",
            "\n",
            "Text: hen suyễn bé nhà cơ địa nhỏ dị ứng dị ứng bởi tác nhân dị ứng tiết ho xuyên buổi tối cứ chuyển đổi khí hậu sắp mưa ho thở rít đều chẩn viêm phế quản dạng hen ngưng ho chuyển đổi khí hậu thỉnh thoảng cơn thở rít khuyên liên tục cloferamin ái ngại bé đồ\n",
            "Predicted: Phổi - Actual: Tdcn Hô Hấp\n",
            "\n",
            "Text: tê buồn nhức mỏi nửa người đầu trái hồi tai nạn tổn thương nửa đầu trái luận vỡ xương đá vỡ xương chẩm vỡ xương nền sọ tổn thương dây thần kinh số tai nạn đau nửa đầu tuy nhiên tê buồn cả nửa người luôn tần suất cơn đau càng dày liệu việc tai nạn kia ảnh hưởng liên hệ khoa những triệu kể\n",
            "Predicted: Tâm Lý - Actual: Thần Kinh\n",
            "\n",
            "Text: ngứa gãy sưng đỏ nhiệt đới xét nghiệm máu xét nghiệm nhiễm giun đũa chó dạng nhẹ bảo sẽ những gãy nổi đỏ lặng gãy sưng\n",
            "Predicted: Viêm Gan - Actual: Huyết Học\n",
            "\n"
          ]
        }
      ],
      "source": [
        "y_pred_probs = best_rnn_model.predict(X_test_pad)\n",
        "\n",
        "# Check wrong predictions for RNN model\n",
        "check_wrong(y_test, y_pred_probs, le)"
      ]
    },
    {
      "cell_type": "markdown",
      "metadata": {
        "id": "CE7wr-Y71AnQ"
      },
      "source": [
        "##LSTM"
      ]
    },
    {
      "cell_type": "code",
      "execution_count": null,
      "metadata": {
        "id": "voZe-Bgnn2fu"
      },
      "outputs": [],
      "source": [
        "from keras.layers import LSTM\n",
        "lstm_model = build_model(LSTM(128, return_sequences=False), vocab_len, emb_dim, y_count, embedding_matrix, learning_rate = 0.001)"
      ]
    },
    {
      "cell_type": "code",
      "execution_count": null,
      "metadata": {
        "colab": {
          "base_uri": "https://localhost:8080/"
        },
        "id": "LmCT-nmBu2Yt",
        "outputId": "4f01f3ab-b8ef-4c7c-914d-9c0dd84c0e28"
      },
      "outputs": [
        {
          "output_type": "stream",
          "name": "stdout",
          "text": [
            "Epoch 1/100\n",
            "36/37 [============================>.] - ETA: 0s - loss: 3.1843 - accuracy: 0.1343\n",
            "Epoch 1: val_accuracy improved from -inf to 0.38977, saving model to /content/drive/MyDrive/saved_models/LSTM1608_best_model.h5\n",
            "37/37 [==============================] - 8s 67ms/step - loss: 3.1839 - accuracy: 0.1344 - val_loss: 2.4757 - val_accuracy: 0.3898\n",
            "Epoch 2/100\n",
            "35/37 [===========================>..] - ETA: 0s - loss: 2.5471 - accuracy: 0.3233\n",
            "Epoch 2: val_accuracy improved from 0.38977 to 0.53657, saving model to /content/drive/MyDrive/saved_models/LSTM1608_best_model.h5\n",
            "37/37 [==============================] - 1s 39ms/step - loss: 2.5403 - accuracy: 0.3252 - val_loss: 1.8623 - val_accuracy: 0.5366\n",
            "Epoch 3/100\n",
            "35/37 [===========================>..] - ETA: 0s - loss: 2.0991 - accuracy: 0.4496\n",
            "Epoch 3: val_accuracy did not improve from 0.53657\n",
            "37/37 [==============================] - 1s 34ms/step - loss: 2.0980 - accuracy: 0.4498 - val_loss: 1.8104 - val_accuracy: 0.5176\n",
            "Epoch 4/100\n",
            "35/37 [===========================>..] - ETA: 0s - loss: 1.9104 - accuracy: 0.4944\n",
            "Epoch 4: val_accuracy improved from 0.53657 to 0.64971, saving model to /content/drive/MyDrive/saved_models/LSTM1608_best_model.h5\n",
            "37/37 [==============================] - 2s 42ms/step - loss: 1.9070 - accuracy: 0.4958 - val_loss: 1.3636 - val_accuracy: 0.6497\n",
            "Epoch 5/100\n",
            "35/37 [===========================>..] - ETA: 0s - loss: 1.7278 - accuracy: 0.5353\n",
            "Epoch 5: val_accuracy improved from 0.64971 to 0.67755, saving model to /content/drive/MyDrive/saved_models/LSTM1608_best_model.h5\n",
            "37/37 [==============================] - 2s 42ms/step - loss: 1.7271 - accuracy: 0.5354 - val_loss: 1.2483 - val_accuracy: 0.6775\n",
            "Epoch 6/100\n",
            "35/37 [===========================>..] - ETA: 0s - loss: 1.6098 - accuracy: 0.5770\n",
            "Epoch 6: val_accuracy improved from 0.67755 to 0.69906, saving model to /content/drive/MyDrive/saved_models/LSTM1608_best_model.h5\n",
            "37/37 [==============================] - 2s 45ms/step - loss: 1.6082 - accuracy: 0.5778 - val_loss: 1.1552 - val_accuracy: 0.6991\n",
            "Epoch 7/100\n",
            "35/37 [===========================>..] - ETA: 0s - loss: 1.5087 - accuracy: 0.6037\n",
            "Epoch 7: val_accuracy improved from 0.69906 to 0.70893, saving model to /content/drive/MyDrive/saved_models/LSTM1608_best_model.h5\n",
            "37/37 [==============================] - 2s 43ms/step - loss: 1.5046 - accuracy: 0.6041 - val_loss: 1.1133 - val_accuracy: 0.7089\n",
            "Epoch 8/100\n",
            "35/37 [===========================>..] - ETA: 0s - loss: 1.4573 - accuracy: 0.6133\n",
            "Epoch 8: val_accuracy improved from 0.70893 to 0.72513, saving model to /content/drive/MyDrive/saved_models/LSTM1608_best_model.h5\n",
            "37/37 [==============================] - 2s 43ms/step - loss: 1.4574 - accuracy: 0.6140 - val_loss: 1.0486 - val_accuracy: 0.7251\n",
            "Epoch 9/100\n",
            "35/37 [===========================>..] - ETA: 0s - loss: 1.3882 - accuracy: 0.6358\n",
            "Epoch 9: val_accuracy improved from 0.72513 to 0.73931, saving model to /content/drive/MyDrive/saved_models/LSTM1608_best_model.h5\n",
            "37/37 [==============================] - 2s 44ms/step - loss: 1.3869 - accuracy: 0.6362 - val_loss: 1.0043 - val_accuracy: 0.7393\n",
            "Epoch 10/100\n",
            "35/37 [===========================>..] - ETA: 0s - loss: 1.3395 - accuracy: 0.6471\n",
            "Epoch 10: val_accuracy did not improve from 0.73931\n",
            "37/37 [==============================] - 1s 36ms/step - loss: 1.3449 - accuracy: 0.6453 - val_loss: 0.9930 - val_accuracy: 0.7368\n",
            "Epoch 11/100\n",
            "35/37 [===========================>..] - ETA: 0s - loss: 1.3388 - accuracy: 0.6462\n",
            "Epoch 11: val_accuracy improved from 0.73931 to 0.74361, saving model to /content/drive/MyDrive/saved_models/LSTM1608_best_model.h5\n",
            "37/37 [==============================] - 1s 39ms/step - loss: 1.3385 - accuracy: 0.6461 - val_loss: 0.9823 - val_accuracy: 0.7436\n",
            "Epoch 12/100\n",
            "35/37 [===========================>..] - ETA: 0s - loss: 1.3033 - accuracy: 0.6540\n",
            "Epoch 12: val_accuracy did not improve from 0.74361\n",
            "37/37 [==============================] - 1s 34ms/step - loss: 1.3014 - accuracy: 0.6555 - val_loss: 0.9858 - val_accuracy: 0.7398\n",
            "Epoch 13/100\n",
            "35/37 [===========================>..] - ETA: 0s - loss: 1.2553 - accuracy: 0.6690\n",
            "Epoch 13: val_accuracy improved from 0.74361 to 0.75070, saving model to /content/drive/MyDrive/saved_models/LSTM1608_best_model.h5\n",
            "37/37 [==============================] - 1s 39ms/step - loss: 1.2527 - accuracy: 0.6696 - val_loss: 0.9503 - val_accuracy: 0.7507\n",
            "Epoch 14/100\n",
            "35/37 [===========================>..] - ETA: 0s - loss: 1.2208 - accuracy: 0.6828\n",
            "Epoch 14: val_accuracy improved from 0.75070 to 0.75424, saving model to /content/drive/MyDrive/saved_models/LSTM1608_best_model.h5\n",
            "37/37 [==============================] - 1s 40ms/step - loss: 1.2203 - accuracy: 0.6832 - val_loss: 0.9418 - val_accuracy: 0.7542\n",
            "Epoch 15/100\n",
            "35/37 [===========================>..] - ETA: 0s - loss: 1.2908 - accuracy: 0.6603\n",
            "Epoch 15: val_accuracy did not improve from 0.75424\n",
            "37/37 [==============================] - 1s 34ms/step - loss: 1.2877 - accuracy: 0.6611 - val_loss: 0.9627 - val_accuracy: 0.7426\n",
            "Epoch 16/100\n",
            "35/37 [===========================>..] - ETA: 0s - loss: 1.1970 - accuracy: 0.6877\n",
            "Epoch 16: val_accuracy improved from 0.75424 to 0.75475, saving model to /content/drive/MyDrive/saved_models/LSTM1608_best_model.h5\n",
            "37/37 [==============================] - 1s 34ms/step - loss: 1.1948 - accuracy: 0.6887 - val_loss: 0.9268 - val_accuracy: 0.7547\n",
            "Epoch 17/100\n",
            "35/37 [===========================>..] - ETA: 0s - loss: 1.1384 - accuracy: 0.7022\n",
            "Epoch 17: val_accuracy improved from 0.75475 to 0.76158, saving model to /content/drive/MyDrive/saved_models/LSTM1608_best_model.h5\n",
            "37/37 [==============================] - 1s 36ms/step - loss: 1.1382 - accuracy: 0.7023 - val_loss: 0.9415 - val_accuracy: 0.7616\n",
            "Epoch 18/100\n",
            "35/37 [===========================>..] - ETA: 0s - loss: 1.0984 - accuracy: 0.7137\n",
            "Epoch 18: val_accuracy did not improve from 0.76158\n",
            "37/37 [==============================] - 1s 35ms/step - loss: 1.0978 - accuracy: 0.7134 - val_loss: 0.9155 - val_accuracy: 0.7601\n",
            "Epoch 19/100\n",
            "35/37 [===========================>..] - ETA: 0s - loss: 1.0746 - accuracy: 0.7193\n",
            "Epoch 19: val_accuracy improved from 0.76158 to 0.76462, saving model to /content/drive/MyDrive/saved_models/LSTM1608_best_model.h5\n",
            "37/37 [==============================] - 1s 38ms/step - loss: 1.0741 - accuracy: 0.7196 - val_loss: 0.9120 - val_accuracy: 0.7646\n",
            "Epoch 20/100\n",
            "35/37 [===========================>..] - ETA: 0s - loss: 1.0544 - accuracy: 0.7291\n",
            "Epoch 20: val_accuracy improved from 0.76462 to 0.76487, saving model to /content/drive/MyDrive/saved_models/LSTM1608_best_model.h5\n",
            "37/37 [==============================] - 1s 38ms/step - loss: 1.0595 - accuracy: 0.7281 - val_loss: 0.9234 - val_accuracy: 0.7649\n",
            "Epoch 21/100\n",
            "35/37 [===========================>..] - ETA: 0s - loss: 1.0504 - accuracy: 0.7276\n",
            "Epoch 21: val_accuracy did not improve from 0.76487\n",
            "37/37 [==============================] - 1s 34ms/step - loss: 1.0505 - accuracy: 0.7271 - val_loss: 0.9255 - val_accuracy: 0.7626\n",
            "Epoch 22/100\n",
            "35/37 [===========================>..] - ETA: 0s - loss: 1.0470 - accuracy: 0.7300\n",
            "Epoch 22: val_accuracy did not improve from 0.76487\n",
            "37/37 [==============================] - 1s 33ms/step - loss: 1.0467 - accuracy: 0.7303 - val_loss: 0.9147 - val_accuracy: 0.7649\n",
            "Epoch 23/100\n",
            "35/37 [===========================>..] - ETA: 0s - loss: 1.0106 - accuracy: 0.7367\n",
            "Epoch 23: val_accuracy improved from 0.76487 to 0.76765, saving model to /content/drive/MyDrive/saved_models/LSTM1608_best_model.h5\n",
            "37/37 [==============================] - 1s 36ms/step - loss: 1.0118 - accuracy: 0.7360 - val_loss: 0.9133 - val_accuracy: 0.7677\n",
            "Epoch 24/100\n",
            "35/37 [===========================>..] - ETA: 0s - loss: 1.0089 - accuracy: 0.7363Restoring model weights from the end of the best epoch: 19.\n",
            "\n",
            "Epoch 24: val_accuracy did not improve from 0.76765\n",
            "37/37 [==============================] - 1s 32ms/step - loss: 1.0049 - accuracy: 0.7376 - val_loss: 0.9227 - val_accuracy: 0.7636\n",
            "Epoch 24: early stopping\n"
          ]
        }
      ],
      "source": [
        "model_name = \"LSTM1608\"\n",
        "lstm_history = train_model(lstm_model, X_train_pad, y_train, X_valid_pad, y_valid, batch_size, epochs, model_name)"
      ]
    },
    {
      "cell_type": "code",
      "execution_count": null,
      "metadata": {
        "id": "jM86qJJ207gA"
      },
      "outputs": [],
      "source": [
        "plot_accuracy(lstm_history)"
      ]
    },
    {
      "cell_type": "code",
      "execution_count": null,
      "metadata": {
        "colab": {
          "base_uri": "https://localhost:8080/"
        },
        "id": "qwfDVFoV1H_A",
        "outputId": "cd51c9f3-105e-4b62-be00-e7f3563f7b60"
      },
      "outputs": [
        {
          "output_type": "stream",
          "name": "stdout",
          "text": [
            "Train accuracy: 84.48\n",
            "Test accuracy: 76.77\n",
            "8/8 [==============================] - 0s 9ms/step\n",
            "Classification Report:\n",
            "                             precision    recall  f1-score   support\n",
            "\n",
            "Dị Ứng - Miễn Dịch Lâm Sàng       0.53      0.64      0.58        44\n",
            "                  Huyết Học       0.63      0.85      0.72        55\n",
            "                    Hóa Trị       0.67      0.17      0.27        24\n",
            "       Hậu Môn - Trực Tràng       0.94      0.94      0.94       363\n",
            "       Lồng Ngực - Mạch Máu       0.70      0.71      0.70       114\n",
            "                        Mắt       0.95      0.91      0.93       199\n",
            "                   Nam Khoa       0.79      0.77      0.78       134\n",
            "             Ngoại Tim Mạch       0.77      0.71      0.74       116\n",
            "            Nhi - Tiêm Ngừa       0.76      0.73      0.74       135\n",
            "                   Nội Thận       0.63      0.80      0.71        56\n",
            "                   Nội Tiết       0.75      0.60      0.67        92\n",
            "    Phẫu Thuật Răng Hàm Mặt       0.89      0.88      0.89       163\n",
            "                       Phổi       0.84      0.90      0.87       205\n",
            "             Sản - Phụ Khoa       0.73      0.66      0.70       125\n",
            "               Tai Mũi Họng       0.72      0.66      0.69       137\n",
            "                Tdcn Hô Hấp       0.43      0.39      0.41        41\n",
            "                  Thần Kinh       0.59      0.51      0.55       174\n",
            "       Thẩm Mỹ Da - Da Liễu       0.65      0.63      0.64       186\n",
            "                   Tim Mạch       0.77      0.81      0.79       296\n",
            "         Tiêu Hóa - Gan Mật       0.73      0.82      0.77       312\n",
            "                  Tiết Niệu       0.41      0.29      0.34        58\n",
            "                     Tâm Lý       0.84      0.91      0.87       215\n",
            "           Tạo Hình Thẩm Mỹ       0.77      0.75      0.76       173\n",
            " Tổng Quát - Y Học Gia Đình       0.53      0.39      0.45        80\n",
            "                      U Gan       0.76      0.63      0.69        46\n",
            "                   Viêm Gan       0.80      0.92      0.85       180\n",
            "                   Vú - Fna       0.85      0.84      0.85       102\n",
            "                 Xương Khớp       0.65      0.77      0.70       126\n",
            "\n",
            "                   accuracy                           0.77      3951\n",
            "                  macro avg       0.72      0.70      0.70      3951\n",
            "               weighted avg       0.76      0.77      0.76      3951\n",
            "\n"
          ]
        }
      ],
      "source": [
        "from keras.models import load_model\n",
        "model_name = \"LSTM1608\"\n",
        "best_model_path = f\"{folder_path}/{model_name}_best_model.h5\"\n",
        "best_lstm_model = load_model(best_model_path)\n",
        "\n",
        "evaluate_model(best_lstm_model, X_train_pad, y_train, X_valid_pad, y_valid, batch_size, le)"
      ]
    },
    {
      "cell_type": "code",
      "execution_count": null,
      "metadata": {
        "colab": {
          "base_uri": "https://localhost:8080/"
        },
        "id": "NPTjggEL1RTY",
        "outputId": "4bfd9183-83cf-4085-c195-a6c580be7422"
      },
      "outputs": [
        {
          "output_type": "stream",
          "name": "stdout",
          "text": [
            "124/124 [==============================] - 0s 4ms/step\n",
            "Text: tổ chức đám cưới đám cưới luôn xét nghiệm những chuẩn những viên sắt mang thai\n",
            "Predicted: Huyết Học - Actual: Sản - Phụ Khoa\n",
            "\n",
            "Text: mặt sinh nó màu xanh hơi màu thẩm mỹ\n",
            "Predicted: Thẩm Mỹ Da - Da Liễu - Actual: Tạo Hình Thẩm Mỹ\n",
            "\n",
            "Text: cái bớt màu đỏ má cao dĩ giùm\n",
            "Predicted: Thẩm Mỹ Da - Da Liễu - Actual: Tạo Hình Thẩm Mỹ\n",
            "\n",
            "Text: sống huế cái bớt đỏ bẩm sinh khuôn mặt khăn tiếp xúc người khác khác nhau thông qua lời\n",
            "Predicted: Thẩm Mỹ Da - Da Liễu - Actual: Tạo Hình Thẩm Mỹ\n",
            "\n",
            "Text: giáo viên đau họng ban ít triệu đêm khuya đau rát họng ho đờm lỏng nước triệu nằm xuống ngủ tiếp tượng lặp hôm ho khạc đờm tí máu mắc thật\n",
            "Predicted: Phổi - Actual: Tdcn Hô Hấp\n",
            "\n",
            "Text: thứ tiêm vacxin mũi trung quốc tiêm tối ngủ qua đêm thứ thở đau tức ngực chút mệt trái tim mệt kiểu chạy vài vòng sân ấy tác dụng phụ vacxin tim\n",
            "Predicted: Tim Mạch - Actual: Nhi - Tiêm Ngừa\n",
            "\n",
            "Text: chồng bé chích ngừa ung thư cổ tử cung chích ngừa ung thư cổ tử cung học\n",
            "Predicted: Nhi - Tiêm Ngừa - Actual: Sản - Phụ Khoa\n",
            "\n",
            "Text: trạng anh trai nửa mất ngủ người gầy thần kinh căng thẳng noi va nhảm linh tinh bạch mai họ rối loan giấc ngủ khỏi nặng hon gia đình giải đáp hộ\n",
            "Predicted: Thần Kinh - Actual: Tâm Lý\n",
            "\n",
            "Text: sỉ ba chụp cắt lớp vi tính thơ chụp hệ thống động mạch chủ bụng chậu xơ vữa hẹp khẩu kính đoạn gốc động mạch chậu chung hẹp khẩu kính đoạn gốc động mạch chậu chung trái nhờ sỉ nằm chụp ct hẹp bằng phẩu dùng sỉ\n",
            "Predicted: Xương Khớp - Actual: Lồng Ngực - Mạch Máu\n",
            "\n",
            "Text: tay bỗng nhiên nổi những chấm đỏ vài chấm hơi sậm màu hơi thâm tắm xong giảm mờ hẳn ngứa càng càng chấm đỏ ấy lan càng rộng viêm mũi dị ứng thỉnh thoảng dị ứng nóng hoắc tôm tép cua chữa\n",
            "Predicted: Dị Ứng - Miễn Dịch Lâm Sàng - Actual: Thẩm Mỹ Da - Da Liễu\n",
            "\n",
            "Text: hôm học dân tộc chuẩn suy gan suy thận xét nghiệm nhà vũng tàu lấy số qua xét nghiệm kịp đợi kịp chuyến xe trở vui lòng xét nghiệm đưa phòng đợt tới nơi xét nghiệm phòng\n",
            "Predicted: Tiết Niệu - Actual: Viêm Gan\n",
            "\n",
            "Text: điện tim ghi block nhánh hoàn toàn siêu âm tim luận thiếu máu cơ tim cục bộ chức năng tâm thu thất trái bảo tồn rối loạn chức năng tâm trương thất trái độ hở van hai lá hở van ba lá tăng áp đmp nhẹ nhận xét giãn quai đmc rối loạn chức năng tâm thu thất trái độ ef bhyt hằng mg mg tạm ổn hình tim chụp mạch máu xem độ nghẽn mạch mức chụp nguy hiểm\n",
            "Predicted: Ngoại Tim Mạch - Actual: Tim Mạch\n",
            "\n",
            "Text: mẹ tim thở mệt mẹ truyền đạm nước biển chẩn mẹ bướu tim mệt huyết áp ổn rối loạn tiền đình bướu tim rối loạn tiền đình\n",
            "Predicted: Tim Mạch - Actual: Nội Tiết\n",
            "\n",
            "Text: sống ninh thuận gia đình khoản cơ biểu vàng cơ nóng sốt mặc dù bổ sung rau nước ép hoa hàng rau củ màu đỏ cơ trạng nóng kéo dài tượng vàng xét nghiệm máu gan phòng đa khoa phố hồ chí minh mắc gan vòng kể ngứa gãi nổi mẫn đỏ muỗi đốt ngứa khắp cơ chỗ ngứa gãi nổi mề đay liễu ninh thuận uong ngứa nhung trạng ngứa kính phòng ban tốt nhất\n",
            "Predicted: Dị Ứng - Miễn Dịch Lâm Sàng - Actual: Thẩm Mỹ Da - Da Liễu\n",
            "\n",
            "Text: vợ ung thư dạ dày chẩn phân loại tnm vợ pt phẫu cắt đoạn dạ dày qua hẹn xét hóa ung thư dạ dày giai đoạn pt nguy hiểm trạng vợ phương pháp tốt\n",
            "Predicted: Tiêu Hóa - Gan Mật - Actual: Hóa Trị\n",
            "\n",
            "Text: tuôi nữ mặt thuộc loại nhờn lớn mặt mụn sẹo lỡm cãi thiện mất khoản tiền chuẩn\n",
            "Predicted: Tạo Hình Thẩm Mỹ - Actual: Thẩm Mỹ Da - Da Liễu\n",
            "\n",
            "Text: phẫu thắt trĩ nội ngồi học xuyên viêm rát hậu môn viêm hậu môn hai trạng xuyên táo bón rát hậu môn đau vệ sinh hai cầu nặng nề dưới ngồi chịu thoải mái ẩm cả người mệt mỏi ảnh hưởng việc học tập đứng hoặc ngồi việc đều tê buốt trĩ cầu máu búi trĩ ngoài lo lắng sẽ\n",
            "Predicted: Hậu Môn - Trực Tràng - Actual: Lồng Ngực - Mạch Máu\n",
            "\n",
            "Text: kính triệu ngủ nằm ghế bố giường đau lưng nằm ghế bố đau lưng tối sáng đau lưng đau vị trí thắt lưng giữa xương sống hai cạnh cuối sườn nhấn giác đau ngủ võng đau nằm những chỗ khác đau triệu đau nhẹ chẩn đau thần kinh liên sườn triệu nặng gây ngủ vô khoa\n",
            "Predicted: Thần Kinh - Actual: Xương Khớp\n",
            "\n",
            "Text: mẹ giãn tĩnh mạch dưới tất phương pháp dứt điểm giãn tĩnh mạch dưới\n",
            "Predicted: Lồng Ngực - Mạch Máu - Actual: Tim Mạch\n",
            "\n",
            "Text: mang thai chẩn tiểu đường thông số đường huyết đói mmol đường huyết đường mmol mmol thai siêu âm đklđ mm cdxđ mm đknb mm bất thai thai lớn hạn chế khảo sát hình thái thai những số thai nhi cân nặng ảnh hưởng nghiêm trọng thai nhi thai khỏe dù mang thai ngọt tăng kg\n",
            "Predicted: Nội Tiết - Actual: Sản - Phụ Khoa\n",
            "\n",
            "Text: sinh nam tiền sử viêm gan mãn tính gan nhiểm mở dõi va võ ngọc quốc minh năm trươc tắm vị trí giửa tinh hoan ngoài dưới dương vật nặn hạt mụn thường mụn mặt khỏang tắm xong chảy máu tạivị trí máu dạng loāng địa phương tưọng chấm dứt nằm nghĩ phút khoảng tháng tiểu đườngcó số glucose la vị trí máu nửa tri khoa vui lòng thật áp\n",
            "Predicted: Nam Khoa - Actual: Nội Tiết\n",
            "\n",
            "Text: đau vùng thắt lưng trái phía đau âm ngồi đau mỏi vùng thắt lưng gây tê xuống trái nằm xuống đở ngồi đau tê mỏi vùng thắt lưng trái trái khoản giác càng tê mỏi tăng thêm chơi thao đánh bóng chuyền đau khớp vai nghĩ nghĩ chơi vài chơi đau cũ sỷ chửa khỏi vận động mạnh tay đăng ký khoản\n",
            "Predicted: Xương Khớp - Actual: Thần Kinh\n",
            "\n",
            "Text: động mạch vành xơ vữa vôi hóa hẹp phương pháp tẩy sơ vữa mạch máu chia sẻ luận chụp msct động mạch chủ mm bac luận\n",
            "Predicted: Ngoại Tim Mạch - Actual: Tim Mạch\n",
            "\n",
            "Text: ngứa gãy sưng đỏ nhiệt đới xét nghiệm máu xét nghiệm nhiễm giun đũa chó dạng nhẹ bảo sẽ những gãy nổi đỏ lặng gãy sưng\n",
            "Predicted: Dị Ứng - Miễn Dịch Lâm Sàng - Actual: Huyết Học\n",
            "\n",
            "Text: hôm sức khỏe khoa tầm soát sức khỏe siêu âm nghi đầu tụy chụp ctscan chất cản quang chụp ctscan lê lợi vũng tàu gửi phim chụp ctscan chuẩn liên hệ phòng\n",
            "Predicted: Thần Kinh - Actual: Tiêu Hóa - Gan Mật\n",
            "\n",
            "Text: trịnh quốc soi tràng bvyd tphcm số thứ tự luận nội soi niêm mạc trựng tràng viêm sưng huyết toa thuóc nguyễn hữu thịnh triệu đau giảm thịnh hẹn quảng ngãi nghỉ hè tám sai gòn học toa trimebutine meburatin mg lactulose lupogel bilactin mesalazine mg sunmesacol kinh lời khuyên duy trì toa thuóc nầy on\n",
            "Predicted: Tiêu Hóa - Gan Mật - Actual: Hậu Môn - Trực Tràng\n",
            "\n",
            "Text: dùng mifepriston ngừa thai quan hệ quan hệ ngay\n",
            "Predicted: Sản - Phụ Khoa - Actual: Nội Tiết\n",
            "\n",
            "Text: xuyên bi tức gây chịu vùng giữa lưng ngay vùng phổi kèm thở chụp quang chuẩn đau căn cơ trạng thở khỏi chuyên khoa\n",
            "Predicted: Tdcn Hô Hấp - Actual: Lồng Ngực - Mạch Máu\n",
            "\n"
          ]
        }
      ],
      "source": [
        "y_pred_probs = best_lstm_model.predict(X_test_pad)\n",
        "\n",
        "# Check wrong predictions for LSTM model\n",
        "check_wrong(y_test, y_pred_probs, le)"
      ]
    },
    {
      "cell_type": "markdown",
      "metadata": {
        "id": "v4gYFu1U1DE-"
      },
      "source": [
        "##BiLSTM"
      ]
    },
    {
      "cell_type": "code",
      "execution_count": null,
      "metadata": {
        "id": "McanGDPxnuTq"
      },
      "outputs": [],
      "source": [
        "from keras.layers import Bidirectional\n",
        "bilstm_model = build_model(Bidirectional(LSTM(128, return_sequences=False)), vocab_len, emb_dim, y_count, embedding_matrix, learning_rate = 0.0005)"
      ]
    },
    {
      "cell_type": "code",
      "execution_count": null,
      "metadata": {
        "colab": {
          "base_uri": "https://localhost:8080/"
        },
        "id": "IFe8Q9bjx9Lj",
        "outputId": "e6246cc8-7079-41a2-a9bd-302696d0ff23"
      },
      "outputs": [
        {
          "output_type": "stream",
          "name": "stdout",
          "text": [
            "Epoch 1/100\n",
            "36/37 [============================>.] - ETA: 0s - loss: 3.2484 - accuracy: 0.1012\n",
            "Epoch 1: val_accuracy improved from -inf to 0.31916, saving model to /content/drive/MyDrive/saved_models/BiLSTM1608_best_model.h5\n",
            "37/37 [==============================] - 6s 84ms/step - loss: 3.2481 - accuracy: 0.1014 - val_loss: 2.7935 - val_accuracy: 0.3192\n",
            "Epoch 2/100\n",
            "36/37 [============================>.] - ETA: 0s - loss: 2.8409 - accuracy: 0.2420\n",
            "Epoch 2: val_accuracy improved from 0.31916 to 0.43027, saving model to /content/drive/MyDrive/saved_models/BiLSTM1608_best_model.h5\n",
            "37/37 [==============================] - 2s 64ms/step - loss: 2.8407 - accuracy: 0.2420 - val_loss: 2.3670 - val_accuracy: 0.4303\n",
            "Epoch 3/100\n",
            "36/37 [============================>.] - ETA: 0s - loss: 2.4547 - accuracy: 0.3559\n",
            "Epoch 3: val_accuracy improved from 0.43027 to 0.53278, saving model to /content/drive/MyDrive/saved_models/BiLSTM1608_best_model.h5\n",
            "37/37 [==============================] - 3s 70ms/step - loss: 2.4542 - accuracy: 0.3560 - val_loss: 1.9396 - val_accuracy: 0.5328\n",
            "Epoch 4/100\n",
            "36/37 [============================>.] - ETA: 0s - loss: 2.1357 - accuracy: 0.4405\n",
            "Epoch 4: val_accuracy improved from 0.53278 to 0.58947, saving model to /content/drive/MyDrive/saved_models/BiLSTM1608_best_model.h5\n",
            "37/37 [==============================] - 2s 67ms/step - loss: 2.1356 - accuracy: 0.4406 - val_loss: 1.6373 - val_accuracy: 0.5895\n",
            "Epoch 5/100\n",
            "36/37 [============================>.] - ETA: 0s - loss: 1.9407 - accuracy: 0.4890\n",
            "Epoch 5: val_accuracy improved from 0.58947 to 0.61782, saving model to /content/drive/MyDrive/saved_models/BiLSTM1608_best_model.h5\n",
            "37/37 [==============================] - 2s 63ms/step - loss: 1.9404 - accuracy: 0.4892 - val_loss: 1.4993 - val_accuracy: 0.6178\n",
            "Epoch 6/100\n",
            "36/37 [============================>.] - ETA: 0s - loss: 1.8124 - accuracy: 0.5232\n",
            "Epoch 6: val_accuracy improved from 0.61782 to 0.64692, saving model to /content/drive/MyDrive/saved_models/BiLSTM1608_best_model.h5\n",
            "37/37 [==============================] - 2s 67ms/step - loss: 1.8124 - accuracy: 0.5232 - val_loss: 1.3938 - val_accuracy: 0.6469\n",
            "Epoch 7/100\n",
            "36/37 [============================>.] - ETA: 0s - loss: 1.6889 - accuracy: 0.5485\n",
            "Epoch 7: val_accuracy improved from 0.64692 to 0.67477, saving model to /content/drive/MyDrive/saved_models/BiLSTM1608_best_model.h5\n",
            "37/37 [==============================] - 2s 64ms/step - loss: 1.6892 - accuracy: 0.5484 - val_loss: 1.2727 - val_accuracy: 0.6748\n",
            "Epoch 8/100\n",
            "36/37 [============================>.] - ETA: 0s - loss: 1.6168 - accuracy: 0.5701\n",
            "Epoch 8: val_accuracy improved from 0.67477 to 0.68489, saving model to /content/drive/MyDrive/saved_models/BiLSTM1608_best_model.h5\n",
            "37/37 [==============================] - 3s 68ms/step - loss: 1.6164 - accuracy: 0.5702 - val_loss: 1.1925 - val_accuracy: 0.6849\n",
            "Epoch 9/100\n",
            "37/37 [==============================] - ETA: 0s - loss: 1.4958 - accuracy: 0.5969\n",
            "Epoch 9: val_accuracy improved from 0.68489 to 0.69856, saving model to /content/drive/MyDrive/saved_models/BiLSTM1608_best_model.h5\n",
            "37/37 [==============================] - 3s 81ms/step - loss: 1.4958 - accuracy: 0.5969 - val_loss: 1.1345 - val_accuracy: 0.6986\n",
            "Epoch 10/100\n",
            "36/37 [============================>.] - ETA: 0s - loss: 1.4599 - accuracy: 0.6043\n",
            "Epoch 10: val_accuracy improved from 0.69856 to 0.71096, saving model to /content/drive/MyDrive/saved_models/BiLSTM1608_best_model.h5\n",
            "37/37 [==============================] - 2s 64ms/step - loss: 1.4602 - accuracy: 0.6042 - val_loss: 1.1016 - val_accuracy: 0.7110\n",
            "Epoch 11/100\n",
            "36/37 [============================>.] - ETA: 0s - loss: 1.4134 - accuracy: 0.6215\n",
            "Epoch 11: val_accuracy did not improve from 0.71096\n",
            "37/37 [==============================] - 2s 65ms/step - loss: 1.4135 - accuracy: 0.6215 - val_loss: 1.0887 - val_accuracy: 0.7107\n",
            "Epoch 12/100\n",
            "36/37 [============================>.] - ETA: 0s - loss: 1.3649 - accuracy: 0.6379\n",
            "Epoch 12: val_accuracy improved from 0.71096 to 0.72083, saving model to /content/drive/MyDrive/saved_models/BiLSTM1608_best_model.h5\n",
            "37/37 [==============================] - 3s 68ms/step - loss: 1.3647 - accuracy: 0.6379 - val_loss: 1.0518 - val_accuracy: 0.7208\n",
            "Epoch 13/100\n",
            "36/37 [============================>.] - ETA: 0s - loss: 1.3216 - accuracy: 0.6477\n",
            "Epoch 13: val_accuracy improved from 0.72083 to 0.72792, saving model to /content/drive/MyDrive/saved_models/BiLSTM1608_best_model.h5\n",
            "37/37 [==============================] - 2s 68ms/step - loss: 1.3215 - accuracy: 0.6477 - val_loss: 1.0427 - val_accuracy: 0.7279\n",
            "Epoch 14/100\n",
            "36/37 [============================>.] - ETA: 0s - loss: 1.2701 - accuracy: 0.6632\n",
            "Epoch 14: val_accuracy improved from 0.72792 to 0.72893, saving model to /content/drive/MyDrive/saved_models/BiLSTM1608_best_model.h5\n",
            "37/37 [==============================] - 3s 69ms/step - loss: 1.2703 - accuracy: 0.6631 - val_loss: 1.0122 - val_accuracy: 0.7289\n",
            "Epoch 15/100\n",
            "36/37 [============================>.] - ETA: 0s - loss: 1.2701 - accuracy: 0.6610\n",
            "Epoch 15: val_accuracy improved from 0.72893 to 0.72969, saving model to /content/drive/MyDrive/saved_models/BiLSTM1608_best_model.h5\n",
            "37/37 [==============================] - 2s 67ms/step - loss: 1.2700 - accuracy: 0.6610 - val_loss: 1.0039 - val_accuracy: 0.7297\n",
            "Epoch 16/100\n",
            "36/37 [============================>.] - ETA: 0s - loss: 1.2337 - accuracy: 0.6733\n",
            "Epoch 16: val_accuracy improved from 0.72969 to 0.74412, saving model to /content/drive/MyDrive/saved_models/BiLSTM1608_best_model.h5\n",
            "37/37 [==============================] - 2s 66ms/step - loss: 1.2335 - accuracy: 0.6733 - val_loss: 0.9722 - val_accuracy: 0.7441\n",
            "Epoch 17/100\n",
            "36/37 [============================>.] - ETA: 0s - loss: 1.1869 - accuracy: 0.6869\n",
            "Epoch 17: val_accuracy did not improve from 0.74412\n",
            "37/37 [==============================] - 2s 65ms/step - loss: 1.1867 - accuracy: 0.6869 - val_loss: 0.9851 - val_accuracy: 0.7330\n",
            "Epoch 18/100\n",
            "36/37 [============================>.] - ETA: 0s - loss: 1.1750 - accuracy: 0.6905\n",
            "Epoch 18: val_accuracy improved from 0.74412 to 0.74690, saving model to /content/drive/MyDrive/saved_models/BiLSTM1608_best_model.h5\n",
            "37/37 [==============================] - 3s 69ms/step - loss: 1.1754 - accuracy: 0.6904 - val_loss: 0.9569 - val_accuracy: 0.7469\n",
            "Epoch 19/100\n",
            "36/37 [============================>.] - ETA: 0s - loss: 1.1463 - accuracy: 0.6976\n",
            "Epoch 19: val_accuracy did not improve from 0.74690\n",
            "37/37 [==============================] - 2s 65ms/step - loss: 1.1468 - accuracy: 0.6976 - val_loss: 0.9476 - val_accuracy: 0.7456\n",
            "Epoch 20/100\n",
            "36/37 [============================>.] - ETA: 0s - loss: 1.1979 - accuracy: 0.6868\n",
            "Epoch 20: val_accuracy did not improve from 0.74690\n",
            "37/37 [==============================] - 2s 61ms/step - loss: 1.1977 - accuracy: 0.6868 - val_loss: 0.9559 - val_accuracy: 0.7388\n",
            "Epoch 21/100\n",
            "36/37 [============================>.] - ETA: 0s - loss: 1.1110 - accuracy: 0.7082\n",
            "Epoch 21: val_accuracy improved from 0.74690 to 0.74842, saving model to /content/drive/MyDrive/saved_models/BiLSTM1608_best_model.h5\n",
            "37/37 [==============================] - 3s 71ms/step - loss: 1.1110 - accuracy: 0.7082 - val_loss: 0.9436 - val_accuracy: 0.7484\n",
            "Epoch 22/100\n",
            "36/37 [============================>.] - ETA: 0s - loss: 1.1002 - accuracy: 0.7060\n",
            "Epoch 22: val_accuracy improved from 0.74842 to 0.75196, saving model to /content/drive/MyDrive/saved_models/BiLSTM1608_best_model.h5\n",
            "37/37 [==============================] - 3s 71ms/step - loss: 1.1004 - accuracy: 0.7060 - val_loss: 0.9236 - val_accuracy: 0.7520\n",
            "Epoch 23/100\n",
            "36/37 [============================>.] - ETA: 0s - loss: 1.0745 - accuracy: 0.7202\n",
            "Epoch 23: val_accuracy did not improve from 0.75196\n",
            "37/37 [==============================] - 2s 66ms/step - loss: 1.0741 - accuracy: 0.7203 - val_loss: 0.9298 - val_accuracy: 0.7464\n",
            "Epoch 24/100\n",
            "36/37 [============================>.] - ETA: 0s - loss: 1.0360 - accuracy: 0.7305\n",
            "Epoch 24: val_accuracy did not improve from 0.75196\n",
            "37/37 [==============================] - 2s 62ms/step - loss: 1.0360 - accuracy: 0.7305 - val_loss: 0.9250 - val_accuracy: 0.7520\n",
            "Epoch 25/100\n",
            "36/37 [============================>.] - ETA: 0s - loss: 1.0240 - accuracy: 0.7307\n",
            "Epoch 25: val_accuracy improved from 0.75196 to 0.75955, saving model to /content/drive/MyDrive/saved_models/BiLSTM1608_best_model.h5\n",
            "37/37 [==============================] - 2s 64ms/step - loss: 1.0239 - accuracy: 0.7307 - val_loss: 0.9143 - val_accuracy: 0.7596\n",
            "Epoch 26/100\n",
            "36/37 [============================>.] - ETA: 0s - loss: 0.9866 - accuracy: 0.7443\n",
            "Epoch 26: val_accuracy did not improve from 0.75955\n",
            "37/37 [==============================] - 2s 62ms/step - loss: 0.9863 - accuracy: 0.7444 - val_loss: 0.8916 - val_accuracy: 0.7590\n",
            "Epoch 27/100\n",
            "36/37 [============================>.] - ETA: 0s - loss: 0.9730 - accuracy: 0.7437\n",
            "Epoch 27: val_accuracy improved from 0.75955 to 0.76234, saving model to /content/drive/MyDrive/saved_models/BiLSTM1608_best_model.h5\n",
            "37/37 [==============================] - 3s 72ms/step - loss: 0.9730 - accuracy: 0.7437 - val_loss: 0.9046 - val_accuracy: 0.7623\n",
            "Epoch 28/100\n",
            "36/37 [============================>.] - ETA: 0s - loss: 0.9479 - accuracy: 0.7511\n",
            "Epoch 28: val_accuracy did not improve from 0.76234\n",
            "37/37 [==============================] - 2s 68ms/step - loss: 0.9479 - accuracy: 0.7511 - val_loss: 0.9203 - val_accuracy: 0.7555\n",
            "Epoch 29/100\n",
            "36/37 [============================>.] - ETA: 0s - loss: 1.0555 - accuracy: 0.7235\n",
            "Epoch 29: val_accuracy did not improve from 0.76234\n",
            "37/37 [==============================] - 2s 62ms/step - loss: 1.0552 - accuracy: 0.7236 - val_loss: 0.9260 - val_accuracy: 0.7520\n",
            "Epoch 30/100\n",
            "36/37 [============================>.] - ETA: 0s - loss: 0.9893 - accuracy: 0.7412\n",
            "Epoch 30: val_accuracy did not improve from 0.76234\n",
            "37/37 [==============================] - 2s 62ms/step - loss: 0.9895 - accuracy: 0.7411 - val_loss: 0.9149 - val_accuracy: 0.7570\n",
            "Epoch 31/100\n",
            "36/37 [============================>.] - ETA: 0s - loss: 0.9480 - accuracy: 0.7527Restoring model weights from the end of the best epoch: 26.\n",
            "\n",
            "Epoch 31: val_accuracy improved from 0.76234 to 0.76411, saving model to /content/drive/MyDrive/saved_models/BiLSTM1608_best_model.h5\n",
            "37/37 [==============================] - 3s 78ms/step - loss: 0.9477 - accuracy: 0.7528 - val_loss: 0.9000 - val_accuracy: 0.7641\n",
            "Epoch 31: early stopping\n"
          ]
        }
      ],
      "source": [
        "model_name = \"BiLSTM1608\"\n",
        "bilstm_history = train_model(bilstm_model, X_train_pad, y_train, X_valid_pad, y_valid, batch_size, epochs, model_name)"
      ]
    },
    {
      "cell_type": "code",
      "execution_count": null,
      "metadata": {
        "colab": {
          "base_uri": "https://localhost:8080/",
          "height": 486
        },
        "id": "Dbh70sOM1goE",
        "outputId": "d09fa564-e0e6-4c9e-ed41-9ee27291517e"
      },
      "outputs": [
        {
          "output_type": "display_data",
          "data": {
            "text/plain": [
              "<Figure size 1500x700 with 1 Axes>"
            ],
            "image/png": "[encoded data removed]"
          },
          "metadata": {}
        }
      ],
      "source": [
        "plot_accuracy(bilstm_history)"
      ]
    },
    {
      "cell_type": "code",
      "execution_count": null,
      "metadata": {
        "colab": {
          "base_uri": "https://localhost:8080/"
        },
        "id": "KhnR7un91g8E",
        "outputId": "cb6f3bdf-e0d8-4df2-8ec2-900f1af806f7"
      },
      "outputs": [
        {
          "output_type": "stream",
          "name": "stdout",
          "text": [
            "Train accuracy: 83.13\n",
            "Test accuracy: 75.90\n",
            "8/8 [==============================] - 1s 17ms/step\n",
            "Classification Report:\n",
            "                             precision    recall  f1-score   support\n",
            "\n",
            "Dị Ứng - Miễn Dịch Lâm Sàng       0.59      0.45      0.51        44\n",
            "                  Huyết Học       0.65      0.73      0.68        55\n",
            "                    Hóa Trị       0.50      0.21      0.29        24\n",
            "       Hậu Môn - Trực Tràng       0.95      0.93      0.94       363\n",
            "       Lồng Ngực - Mạch Máu       0.72      0.62      0.67       114\n",
            "                        Mắt       0.96      0.90      0.93       199\n",
            "                   Nam Khoa       0.78      0.79      0.79       134\n",
            "             Ngoại Tim Mạch       0.68      0.72      0.70       116\n",
            "            Nhi - Tiêm Ngừa       0.73      0.69      0.71       135\n",
            "                   Nội Thận       0.64      0.75      0.69        56\n",
            "                   Nội Tiết       0.70      0.63      0.66        92\n",
            "    Phẫu Thuật Răng Hàm Mặt       0.84      0.87      0.86       163\n",
            "                       Phổi       0.85      0.94      0.89       205\n",
            "             Sản - Phụ Khoa       0.73      0.66      0.69       125\n",
            "               Tai Mũi Họng       0.71      0.66      0.68       137\n",
            "                Tdcn Hô Hấp       0.65      0.27      0.38        41\n",
            "                  Thần Kinh       0.54      0.51      0.53       174\n",
            "       Thẩm Mỹ Da - Da Liễu       0.60      0.64      0.62       186\n",
            "                   Tim Mạch       0.78      0.79      0.78       296\n",
            "         Tiêu Hóa - Gan Mật       0.73      0.80      0.76       312\n",
            "                  Tiết Niệu       0.47      0.33      0.39        58\n",
            "                     Tâm Lý       0.82      0.92      0.86       215\n",
            "           Tạo Hình Thẩm Mỹ       0.70      0.78      0.74       173\n",
            " Tổng Quát - Y Học Gia Đình       0.53      0.31      0.39        80\n",
            "                      U Gan       0.78      0.54      0.64        46\n",
            "                   Viêm Gan       0.82      0.91      0.87       180\n",
            "                   Vú - Fna       0.84      0.85      0.85       102\n",
            "                 Xương Khớp       0.64      0.79      0.71       126\n",
            "\n",
            "                   accuracy                           0.76      3951\n",
            "                  macro avg       0.71      0.68      0.69      3951\n",
            "               weighted avg       0.75      0.76      0.75      3951\n",
            "\n"
          ]
        }
      ],
      "source": [
        "from keras.models import load_model\n",
        "model_name = \"BiLSTM1608\"\n",
        "best_model_path = f\"{folder_path}/{model_name}_best_model.h5\"\n",
        "best_bilstm_model = load_model(best_model_path)\n",
        "\n",
        "evaluate_model(best_bilstm_model, X_train_pad, y_train, X_valid_pad, y_valid, batch_size, le)"
      ]
    },
    {
      "cell_type": "code",
      "execution_count": null,
      "metadata": {
        "colab": {
          "base_uri": "https://localhost:8080/"
        },
        "id": "pCU-THaJ1nQw",
        "outputId": "b64ad4cb-ce73-43c3-835f-ec84f6150afc"
      },
      "outputs": [
        {
          "output_type": "stream",
          "name": "stdout",
          "text": [
            "124/124 [==============================] - 1s 8ms/step\n",
            "Text: tổ chức đám cưới đám cưới luôn xét nghiệm những chuẩn những viên sắt mang thai\n",
            "Predicted: Nội Tiết - Actual: Sản - Phụ Khoa\n",
            "\n",
            "Text: học dịch vụ xét nghiệm gen mang thai giá xét nghiệm\n",
            "Predicted: Huyết Học - Actual: Sản - Phụ Khoa\n",
            "\n",
            "Text: cái bớt màu đỏ má cao dĩ giùm\n",
            "Predicted: Thẩm Mỹ Da - Da Liễu - Actual: Tạo Hình Thẩm Mỹ\n",
            "\n",
            "Text: tuổi ung thư tuyến giáp giai đoạn hai phẫu tuần xuất số nhân luận phẫu họ đều chuyển sang khác hóa chất chuyển nhà thêm lo lắng hãy\n",
            "Predicted: Nội Tiết - Actual: Hóa Trị\n",
            "\n",
            "Text: sống huế cái bớt đỏ bẩm sinh khuôn mặt khăn tiếp xúc người khác khác nhau thông qua lời\n",
            "Predicted: Thẩm Mỹ Da - Da Liễu - Actual: Tạo Hình Thẩm Mỹ\n",
            "\n",
            "Text: giáo viên đau họng ban ít triệu đêm khuya đau rát họng ho đờm lỏng nước triệu nằm xuống ngủ tiếp tượng lặp hôm ho khạc đờm tí máu mắc thật\n",
            "Predicted: Phổi - Actual: Tdcn Hô Hấp\n",
            "\n",
            "Text: thứ tiêm vacxin mũi trung quốc tiêm tối ngủ qua đêm thứ thở đau tức ngực chút mệt trái tim mệt kiểu chạy vài vòng sân ấy tác dụng phụ vacxin tim\n",
            "Predicted: Tim Mạch - Actual: Nhi - Tiêm Ngừa\n",
            "\n",
            "Text: trạng anh trai nửa mất ngủ người gầy thần kinh căng thẳng noi va nhảm linh tinh bạch mai họ rối loan giấc ngủ khỏi nặng hon gia đình giải đáp hộ\n",
            "Predicted: Thần Kinh - Actual: Tâm Lý\n",
            "\n",
            "Text: sỉ ba chụp cắt lớp vi tính thơ chụp hệ thống động mạch chủ bụng chậu xơ vữa hẹp khẩu kính đoạn gốc động mạch chậu chung hẹp khẩu kính đoạn gốc động mạch chậu chung trái nhờ sỉ nằm chụp ct hẹp bằng phẩu dùng sỉ\n",
            "Predicted: Nam Khoa - Actual: Lồng Ngực - Mạch Máu\n",
            "\n",
            "Text: hôm học dân tộc chuẩn suy gan suy thận xét nghiệm nhà vũng tàu lấy số qua xét nghiệm kịp đợi kịp chuyến xe trở vui lòng xét nghiệm đưa phòng đợt tới nơi xét nghiệm phòng\n",
            "Predicted: Tiết Niệu - Actual: Viêm Gan\n",
            "\n",
            "Text: mẹ tim thở mệt mẹ truyền đạm nước biển chẩn mẹ bướu tim mệt huyết áp ổn rối loạn tiền đình bướu tim rối loạn tiền đình\n",
            "Predicted: Tim Mạch - Actual: Nội Tiết\n",
            "\n",
            "Text: vợ ung thư dạ dày chẩn phân loại tnm vợ pt phẫu cắt đoạn dạ dày qua hẹn xét hóa ung thư dạ dày giai đoạn pt nguy hiểm trạng vợ phương pháp tốt\n",
            "Predicted: Tiêu Hóa - Gan Mật - Actual: Hóa Trị\n",
            "\n",
            "Text: tuôi nữ mặt thuộc loại nhờn lớn mặt mụn sẹo lỡm cãi thiện mất khoản tiền chuẩn\n",
            "Predicted: Tạo Hình Thẩm Mỹ - Actual: Thẩm Mỹ Da - Da Liễu\n",
            "\n",
            "Text: phẫu thắt trĩ nội ngồi học xuyên viêm rát hậu môn viêm hậu môn hai trạng xuyên táo bón rát hậu môn đau vệ sinh hai cầu nặng nề dưới ngồi chịu thoải mái ẩm cả người mệt mỏi ảnh hưởng việc học tập đứng hoặc ngồi việc đều tê buốt trĩ cầu máu búi trĩ ngoài lo lắng sẽ\n",
            "Predicted: Hậu Môn - Trực Tràng - Actual: Lồng Ngực - Mạch Máu\n",
            "\n",
            "Text: mẹ giãn tĩnh mạch dưới tất phương pháp dứt điểm giãn tĩnh mạch dưới\n",
            "Predicted: Lồng Ngực - Mạch Máu - Actual: Tim Mạch\n",
            "\n",
            "Text: sinh nam tiền sử viêm gan mãn tính gan nhiểm mở dõi va võ ngọc quốc minh năm trươc tắm vị trí giửa tinh hoan ngoài dưới dương vật nặn hạt mụn thường mụn mặt khỏang tắm xong chảy máu tạivị trí máu dạng loāng địa phương tưọng chấm dứt nằm nghĩ phút khoảng tháng tiểu đườngcó số glucose la vị trí máu nửa tri khoa vui lòng thật áp\n",
            "Predicted: Viêm Gan - Actual: Nội Tiết\n",
            "\n",
            "Text: bé trai bé cứ chuyển mưa bắt đầu ngứa gãi tới nổi mẩm đỏ dị ứng bé cứ ngứa xong bớt lặp lặp trời mưa bé bẹnh bạc liêu nhờ dùm thàn\n",
            "Predicted: Thẩm Mỹ Da - Da Liễu - Actual: Dị Ứng - Miễn Dịch Lâm Sàng\n",
            "\n",
            "Text: đau vùng thắt lưng trái phía đau âm ngồi đau mỏi vùng thắt lưng gây tê xuống trái nằm xuống đở ngồi đau tê mỏi vùng thắt lưng trái trái khoản giác càng tê mỏi tăng thêm chơi thao đánh bóng chuyền đau khớp vai nghĩ nghĩ chơi vài chơi đau cũ sỷ chửa khỏi vận động mạnh tay đăng ký khoản\n",
            "Predicted: Xương Khớp - Actual: Thần Kinh\n",
            "\n",
            "Text: động mạch vành xơ vữa vôi hóa hẹp phương pháp tẩy sơ vữa mạch máu chia sẻ luận chụp msct động mạch chủ mm bac luận\n",
            "Predicted: Ngoại Tim Mạch - Actual: Tim Mạch\n",
            "\n",
            "Text: ngứa gãy sưng đỏ nhiệt đới xét nghiệm máu xét nghiệm nhiễm giun đũa chó dạng nhẹ bảo sẽ những gãy nổi đỏ lặng gãy sưng\n",
            "Predicted: Thẩm Mỹ Da - Da Liễu - Actual: Huyết Học\n",
            "\n",
            "Text: rối loạn thần kinh thực vật dạo tần xuất run tê tay thở tăng biêdt tần suất càng tăng tậo yoga hằng tiết công việc giảm hội nhờ thêm\n",
            "Predicted: Thần Kinh - Actual: Tâm Lý\n",
            "\n",
            "Text: hôm sức khỏe khoa tầm soát sức khỏe siêu âm nghi đầu tụy chụp ctscan chất cản quang chụp ctscan lê lợi vũng tàu gửi phim chụp ctscan chuẩn liên hệ phòng\n",
            "Predicted: Xương Khớp - Actual: Tiêu Hóa - Gan Mật\n",
            "\n",
            "Text: trịnh quốc soi tràng bvyd tphcm số thứ tự luận nội soi niêm mạc trựng tràng viêm sưng huyết toa thuóc nguyễn hữu thịnh triệu đau giảm thịnh hẹn quảng ngãi nghỉ hè tám sai gòn học toa trimebutine meburatin mg lactulose lupogel bilactin mesalazine mg sunmesacol kinh lời khuyên duy trì toa thuóc nầy on\n",
            "Predicted: Tiêu Hóa - Gan Mật - Actual: Hậu Môn - Trực Tràng\n",
            "\n",
            "Text: dùng mifepriston ngừa thai quan hệ quan hệ ngay\n",
            "Predicted: Sản - Phụ Khoa - Actual: Nội Tiết\n",
            "\n",
            "Text: xuyên bi tức gây chịu vùng giữa lưng ngay vùng phổi kèm thở chụp quang chuẩn đau căn cơ trạng thở khỏi chuyên khoa\n",
            "Predicted: Tdcn Hô Hấp - Actual: Lồng Ngực - Mạch Máu\n",
            "\n",
            "Text: lở miệng xuyên niêm mạc miệng loang lỗ vết loang môi mất thẩm mỹ khoa răng hàm mặt khoa liễu\n",
            "Predicted: Phẫu Thuật Răng Hàm Mặt - Actual: Thẩm Mỹ Da - Da Liễu\n",
            "\n",
            "Text: kính gưởi tên lộc số chiệu lo lắng cứ sợ đên lo sợ mổi đy chơi xa xem chương chình gay cấn tim đập loạn trống ngực hiểu kiểm soát chaáu mất ngủ mổi giấc ngủ suy ngỉ linh tinh đầu kiểm soát cáu gắt bực bội chá sợ ánh sáng mổi nhìn điện thoại ti vi đau đầu mắc chửa đy khá sin\n",
            "Predicted: Tâm Lý - Actual: Thần Kinh\n",
            "\n",
            "Text: viêm abidan mản tính hoi trĩ hiệu nhất trường hợp cắt thi giá cắt học\n",
            "Predicted: Hậu Môn - Trực Tràng - Actual: Tai Mũi Họng\n",
            "\n"
          ]
        }
      ],
      "source": [
        "y_pred_probs = best_bilstm_model.predict(X_test_pad)\n",
        "\n",
        "# Check wrong predictions for BiLSTM model\n",
        "check_wrong(y_test, y_pred_probs, le)"
      ]
    },
    {
      "cell_type": "markdown",
      "metadata": {
        "id": "ge3N8Ocp1EhY"
      },
      "source": [
        "##GRU"
      ]
    },
    {
      "cell_type": "code",
      "execution_count": null,
      "metadata": {
        "id": "SnUCbFp9noXf"
      },
      "outputs": [],
      "source": [
        "from keras.layers import Bidirectional, GRU\n",
        "gru_model = build_model((GRU(512, return_sequences=False)), vocab_len, emb_dim, y_count, embedding_matrix, learning_rate = 0.001)"
      ]
    },
    {
      "cell_type": "code",
      "source": [
        "gru_model.summary()"
      ],
      "metadata": {
        "colab": {
          "base_uri": "https://localhost:8080/"
        },
        "id": "UZF1nSMWMEv5",
        "outputId": "008dfce3-ba95-4ddd-ff16-5f4def2cb4ab"
      },
      "execution_count": null,
      "outputs": [
        {
          "output_type": "stream",
          "name": "stdout",
          "text": [
            "Model: \"sequential\"\n",
            "_________________________________________________________________\n",
            " Layer (type)                Output Shape              Param #   \n",
            "=================================================================\n",
            " embedding (Embedding)       (None, None, 300)         2008200   \n",
            "                                                                 \n",
            " gru (GRU)                   (None, 512)               1250304   \n",
            "                                                                 \n",
            " dropout (Dropout)           (None, 512)               0         \n",
            "                                                                 \n",
            " dense (Dense)               (None, 28)                14364     \n",
            "                                                                 \n",
            "=================================================================\n",
            "Total params: 3,272,868\n",
            "Trainable params: 3,272,868\n",
            "Non-trainable params: 0\n",
            "_________________________________________________________________\n"
          ]
        }
      ]
    },
    {
      "cell_type": "code",
      "execution_count": null,
      "metadata": {
        "colab": {
          "base_uri": "https://localhost:8080/"
        },
        "id": "Co0MiLwax-gj",
        "outputId": "4ec7f975-d6ca-48f7-8428-e05e78e6cb85"
      },
      "outputs": [
        {
          "output_type": "stream",
          "name": "stdout",
          "text": [
            "Epoch 1/100\n"
          ]
        }
      ],
      "source": [
        "model_name = \"GRU_data1608\"\n",
        "gru_history = train_model(gru_model, X_train_pad, y_train, X_valid_pad, y_valid, batch_size, epochs, model_name)"
      ]
    },
    {
      "cell_type": "code",
      "execution_count": null,
      "metadata": {
        "id": "AAPxs-6S1ptH"
      },
      "outputs": [],
      "source": [
        "plot_accuracy(gru_history)"
      ]
    },
    {
      "cell_type": "code",
      "execution_count": null,
      "metadata": {
        "id": "YlSRHrrFvBNd",
        "colab": {
          "base_uri": "https://localhost:8080/"
        },
        "outputId": "e2afaeae-e6c4-4d43-ab6b-38e1ac076b89"
      },
      "outputs": [
        {
          "output_type": "stream",
          "name": "stdout",
          "text": [
            "Train accuracy: 87.35\n",
            "Test accuracy: 77.83\n",
            "16/16 [==============================] - 2s 91ms/step\n",
            "Classification Report:\n",
            "                             precision    recall  f1-score   support\n",
            "\n",
            "Dị Ứng - Miễn Dịch Lâm Sàng       0.58      0.50      0.54        44\n",
            "                  Huyết Học       0.71      0.85      0.78        55\n",
            "                    Hóa Trị       0.67      0.17      0.27        24\n",
            "       Hậu Môn - Trực Tràng       0.94      0.94      0.94       363\n",
            "       Lồng Ngực - Mạch Máu       0.76      0.74      0.75       114\n",
            "                        Mắt       0.90      0.90      0.90       199\n",
            "                   Nam Khoa       0.81      0.78      0.80       134\n",
            "             Ngoại Tim Mạch       0.75      0.75      0.75       116\n",
            "            Nhi - Tiêm Ngừa       0.71      0.75      0.73       135\n",
            "                   Nội Thận       0.64      0.79      0.70        56\n",
            "                   Nội Tiết       0.61      0.64      0.63        92\n",
            "    Phẫu Thuật Răng Hàm Mặt       0.87      0.87      0.87       163\n",
            "                       Phổi       0.85      0.89      0.87       205\n",
            "             Sản - Phụ Khoa       0.80      0.71      0.75       125\n",
            "               Tai Mũi Họng       0.75      0.66      0.70       137\n",
            "                Tdcn Hô Hấp       0.64      0.39      0.48        41\n",
            "                  Thần Kinh       0.57      0.53      0.55       174\n",
            "       Thẩm Mỹ Da - Da Liễu       0.68      0.68      0.68       186\n",
            "                   Tim Mạch       0.78      0.82      0.80       296\n",
            "         Tiêu Hóa - Gan Mật       0.76      0.84      0.80       312\n",
            "                  Tiết Niệu       0.53      0.36      0.43        58\n",
            "                     Tâm Lý       0.86      0.89      0.87       215\n",
            "           Tạo Hình Thẩm Mỹ       0.78      0.79      0.79       173\n",
            " Tổng Quát - Y Học Gia Đình       0.47      0.35      0.40        80\n",
            "                      U Gan       0.82      0.70      0.75        46\n",
            "                   Viêm Gan       0.85      0.91      0.88       180\n",
            "                   Vú - Fna       0.87      0.88      0.87       102\n",
            "                 Xương Khớp       0.67      0.75      0.71       126\n",
            "\n",
            "                   accuracy                           0.78      3951\n",
            "                  macro avg       0.74      0.71      0.71      3951\n",
            "               weighted avg       0.77      0.78      0.77      3951\n",
            "\n"
          ]
        }
      ],
      "source": [
        "from keras.models import load_model\n",
        "model_name = \"GRU_data1608\"\n",
        "best_model_path = f\"{folder_path}/{model_name}_best_model.h5\"\n",
        "best_gru_model = load_model(best_model_path)\n",
        "\n",
        "evaluate_model(best_gru_model, X_train_pad, y_train, X_valid_pad, y_valid, batch_size, le)"
      ]
    },
    {
      "cell_type": "code",
      "execution_count": null,
      "metadata": {
        "colab": {
          "base_uri": "https://localhost:8080/"
        },
        "id": "RodaZmdJ0mdA",
        "outputId": "de74184a-57c7-4823-aeff-6c71a4f2b756"
      },
      "outputs": [
        {
          "output_type": "stream",
          "name": "stdout",
          "text": [
            "124/124 [==============================] - 0s 3ms/step\n",
            "Text: học dịch vụ xét nghiệm gen mang thai giá xét nghiệm\n",
            "Predicted: Huyết Học - Actual: Sản - Phụ Khoa\n",
            "\n",
            "Text: cái bớt màu đỏ má cao dĩ giùm\n",
            "Predicted: Thẩm Mỹ Da - Da Liễu - Actual: Tạo Hình Thẩm Mỹ\n",
            "\n",
            "Text: tuổi ung thư tuyến giáp giai đoạn hai phẫu tuần xuất số nhân luận phẫu họ đều chuyển sang khác hóa chất chuyển nhà thêm lo lắng hãy\n",
            "Predicted: Nội Tiết - Actual: Hóa Trị\n",
            "\n",
            "Text: sống huế cái bớt đỏ bẩm sinh khuôn mặt khăn tiếp xúc người khác khác nhau thông qua lời\n",
            "Predicted: Thẩm Mỹ Da - Da Liễu - Actual: Tạo Hình Thẩm Mỹ\n",
            "\n",
            "Text: giáo viên đau họng ban ít triệu đêm khuya đau rát họng ho đờm lỏng nước triệu nằm xuống ngủ tiếp tượng lặp hôm ho khạc đờm tí máu mắc thật\n",
            "Predicted: Tai Mũi Họng - Actual: Tdcn Hô Hấp\n",
            "\n",
            "Text: thứ tiêm vacxin mũi trung quốc tiêm tối ngủ qua đêm thứ thở đau tức ngực chút mệt trái tim mệt kiểu chạy vài vòng sân ấy tác dụng phụ vacxin tim\n",
            "Predicted: Tim Mạch - Actual: Nhi - Tiêm Ngừa\n",
            "\n",
            "Text: chồng bé chích ngừa ung thư cổ tử cung chích ngừa ung thư cổ tử cung học\n",
            "Predicted: Nhi - Tiêm Ngừa - Actual: Sản - Phụ Khoa\n",
            "\n",
            "Text: sỉ ba chụp cắt lớp vi tính thơ chụp hệ thống động mạch chủ bụng chậu xơ vữa hẹp khẩu kính đoạn gốc động mạch chậu chung hẹp khẩu kính đoạn gốc động mạch chậu chung trái nhờ sỉ nằm chụp ct hẹp bằng phẩu dùng sỉ\n",
            "Predicted: Xương Khớp - Actual: Lồng Ngực - Mạch Máu\n",
            "\n",
            "Text: tay bỗng nhiên nổi những chấm đỏ vài chấm hơi sậm màu hơi thâm tắm xong giảm mờ hẳn ngứa càng càng chấm đỏ ấy lan càng rộng viêm mũi dị ứng thỉnh thoảng dị ứng nóng hoắc tôm tép cua chữa\n",
            "Predicted: Dị Ứng - Miễn Dịch Lâm Sàng - Actual: Thẩm Mỹ Da - Da Liễu\n",
            "\n",
            "Text: hôm học dân tộc chuẩn suy gan suy thận xét nghiệm nhà vũng tàu lấy số qua xét nghiệm kịp đợi kịp chuyến xe trở vui lòng xét nghiệm đưa phòng đợt tới nơi xét nghiệm phòng\n",
            "Predicted: Tiết Niệu - Actual: Viêm Gan\n",
            "\n",
            "Text: mẹ tim thở mệt mẹ truyền đạm nước biển chẩn mẹ bướu tim mệt huyết áp ổn rối loạn tiền đình bướu tim rối loạn tiền đình\n",
            "Predicted: Tim Mạch - Actual: Nội Tiết\n",
            "\n",
            "Text: vợ ung thư dạ dày chẩn phân loại tnm vợ pt phẫu cắt đoạn dạ dày qua hẹn xét hóa ung thư dạ dày giai đoạn pt nguy hiểm trạng vợ phương pháp tốt\n",
            "Predicted: Tiêu Hóa - Gan Mật - Actual: Hóa Trị\n",
            "\n",
            "Text: tuôi nữ mặt thuộc loại nhờn lớn mặt mụn sẹo lỡm cãi thiện mất khoản tiền chuẩn\n",
            "Predicted: Tạo Hình Thẩm Mỹ - Actual: Thẩm Mỹ Da - Da Liễu\n",
            "\n",
            "Text: phẫu thắt trĩ nội ngồi học xuyên viêm rát hậu môn viêm hậu môn hai trạng xuyên táo bón rát hậu môn đau vệ sinh hai cầu nặng nề dưới ngồi chịu thoải mái ẩm cả người mệt mỏi ảnh hưởng việc học tập đứng hoặc ngồi việc đều tê buốt trĩ cầu máu búi trĩ ngoài lo lắng sẽ\n",
            "Predicted: Hậu Môn - Trực Tràng - Actual: Lồng Ngực - Mạch Máu\n",
            "\n",
            "Text: kính triệu ngủ nằm ghế bố giường đau lưng nằm ghế bố đau lưng tối sáng đau lưng đau vị trí thắt lưng giữa xương sống hai cạnh cuối sườn nhấn giác đau ngủ võng đau nằm những chỗ khác đau triệu đau nhẹ chẩn đau thần kinh liên sườn triệu nặng gây ngủ vô khoa\n",
            "Predicted: Thần Kinh - Actual: Xương Khớp\n",
            "\n",
            "Text: mẹ giãn tĩnh mạch dưới tất phương pháp dứt điểm giãn tĩnh mạch dưới\n",
            "Predicted: Lồng Ngực - Mạch Máu - Actual: Tim Mạch\n",
            "\n",
            "Text: mang thai chẩn tiểu đường thông số đường huyết đói mmol đường huyết đường mmol mmol thai siêu âm đklđ mm cdxđ mm đknb mm bất thai thai lớn hạn chế khảo sát hình thái thai những số thai nhi cân nặng ảnh hưởng nghiêm trọng thai nhi thai khỏe dù mang thai ngọt tăng kg\n",
            "Predicted: Nội Tiết - Actual: Sản - Phụ Khoa\n",
            "\n",
            "Text: sinh nam tiền sử viêm gan mãn tính gan nhiểm mở dõi va võ ngọc quốc minh năm trươc tắm vị trí giửa tinh hoan ngoài dưới dương vật nặn hạt mụn thường mụn mặt khỏang tắm xong chảy máu tạivị trí máu dạng loāng địa phương tưọng chấm dứt nằm nghĩ phút khoảng tháng tiểu đườngcó số glucose la vị trí máu nửa tri khoa vui lòng thật áp\n",
            "Predicted: Nam Khoa - Actual: Nội Tiết\n",
            "\n",
            "Text: bé trai bé cứ chuyển mưa bắt đầu ngứa gãi tới nổi mẩm đỏ dị ứng bé cứ ngứa xong bớt lặp lặp trời mưa bé bẹnh bạc liêu nhờ dùm thàn\n",
            "Predicted: Thẩm Mỹ Da - Da Liễu - Actual: Dị Ứng - Miễn Dịch Lâm Sàng\n",
            "\n",
            "Text: đau vùng thắt lưng trái phía đau âm ngồi đau mỏi vùng thắt lưng gây tê xuống trái nằm xuống đở ngồi đau tê mỏi vùng thắt lưng trái trái khoản giác càng tê mỏi tăng thêm chơi thao đánh bóng chuyền đau khớp vai nghĩ nghĩ chơi vài chơi đau cũ sỷ chửa khỏi vận động mạnh tay đăng ký khoản\n",
            "Predicted: Xương Khớp - Actual: Thần Kinh\n",
            "\n",
            "Text: động mạch vành xơ vữa vôi hóa hẹp phương pháp tẩy sơ vữa mạch máu chia sẻ luận chụp msct động mạch chủ mm bac luận\n",
            "Predicted: Ngoại Tim Mạch - Actual: Tim Mạch\n",
            "\n",
            "Text: ngứa gãy sưng đỏ nhiệt đới xét nghiệm máu xét nghiệm nhiễm giun đũa chó dạng nhẹ bảo sẽ những gãy nổi đỏ lặng gãy sưng\n",
            "Predicted: Dị Ứng - Miễn Dịch Lâm Sàng - Actual: Huyết Học\n",
            "\n",
            "Text: hôm sức khỏe khoa tầm soát sức khỏe siêu âm nghi đầu tụy chụp ctscan chất cản quang chụp ctscan lê lợi vũng tàu gửi phim chụp ctscan chuẩn liên hệ phòng\n",
            "Predicted: Nội Tiết - Actual: Tiêu Hóa - Gan Mật\n",
            "\n",
            "Text: trịnh quốc soi tràng bvyd tphcm số thứ tự luận nội soi niêm mạc trựng tràng viêm sưng huyết toa thuóc nguyễn hữu thịnh triệu đau giảm thịnh hẹn quảng ngãi nghỉ hè tám sai gòn học toa trimebutine meburatin mg lactulose lupogel bilactin mesalazine mg sunmesacol kinh lời khuyên duy trì toa thuóc nầy on\n",
            "Predicted: Tiêu Hóa - Gan Mật - Actual: Hậu Môn - Trực Tràng\n",
            "\n",
            "Text: dùng mifepriston ngừa thai quan hệ quan hệ ngay\n",
            "Predicted: Sản - Phụ Khoa - Actual: Nội Tiết\n",
            "\n",
            "Text: xuyên bi tức gây chịu vùng giữa lưng ngay vùng phổi kèm thở chụp quang chuẩn đau căn cơ trạng thở khỏi chuyên khoa\n",
            "Predicted: Tdcn Hô Hấp - Actual: Lồng Ngực - Mạch Máu\n",
            "\n",
            "Text: lở miệng xuyên niêm mạc miệng loang lỗ vết loang môi mất thẩm mỹ khoa răng hàm mặt khoa liễu\n",
            "Predicted: Phẫu Thuật Răng Hàm Mặt - Actual: Thẩm Mỹ Da - Da Liễu\n",
            "\n",
            "Text: kính gưởi tên lộc số chiệu lo lắng cứ sợ đên lo sợ mổi đy chơi xa xem chương chình gay cấn tim đập loạn trống ngực hiểu kiểm soát chaáu mất ngủ mổi giấc ngủ suy ngỉ linh tinh đầu kiểm soát cáu gắt bực bội chá sợ ánh sáng mổi nhìn điện thoại ti vi đau đầu mắc chửa đy khá sin\n",
            "Predicted: Tâm Lý - Actual: Thần Kinh\n",
            "\n"
          ]
        }
      ],
      "source": [
        "y_pred_probs = best_gru_model.predict(X_test_pad)\n",
        "\n",
        "# Check wrong predictions for GRU model\n",
        "check_wrong(y_test, y_pred_probs, le)"
      ]
    },
    {
      "cell_type": "markdown",
      "metadata": {
        "id": "VEBATiCYR3bt"
      },
      "source": [
        "# 4. ML model"
      ]
    },
    {
      "cell_type": "code",
      "execution_count": null,
      "metadata": {
        "id": "N8m7EFJGR6SU"
      },
      "outputs": [],
      "source": [
        "from sklearn.svm import SVC\n",
        "from sklearn.linear_model import LogisticRegression\n",
        "from xgboost import XGBClassifier\n",
        "from sklearn.linear_model import SGDClassifier\n",
        "from sklearn.tree import DecisionTreeClassifier\n",
        "from sklearn.ensemble import RandomForestClassifier, GradientBoostingClassifier\n",
        "from sklearn.neighbors import KNeighborsClassifier\n",
        "from sklearn.discriminant_analysis import LinearDiscriminantAnalysis\n",
        "from sklearn.naive_bayes import MultinomialNB\n",
        "from sklearn.naive_bayes import GaussianNB\n",
        "# Create a list of classifiers\n",
        "classifiers = [\n",
        "    #(\"SGD\", SGDClassifier(loss = \"hinge\", penalty = \"l2\", class_weight = None)),\n",
        "    #('Linear Discriminant Analysis', LinearDiscriminantAnalysis()),\n",
        "    ('SVM', SVC(class_weight = None)),\n",
        "    ('Logistic Regression', LogisticRegression(solver='newton-cg', max_iter=1000, class_weight = \"balanced\")),\n",
        "    #('XGBoost', XGBClassifier()),\n",
        "    ('Decision Tree', DecisionTreeClassifier(class_weight = \"balanced\")),\n",
        "    ('Random Forest', RandomForestClassifier(class_weight = \"balanced\")),\n",
        "]"
      ]
    },
    {
      "cell_type": "code",
      "execution_count": null,
      "metadata": {
        "id": "QpeiY0_RTuV2"
      },
      "outputs": [],
      "source": [
        "from sklearn.metrics import classification_report\n",
        "\n",
        "import time\n",
        "\n",
        "def evaluate_classifier(clf, X_train, y_train, X_valid, y_valid, label_encoder):\n",
        "    # Measure the training start time\n",
        "    train_start = time.time()\n",
        "\n",
        "    # Fit the classifier on the training data\n",
        "    clf.fit(X_train, y_train)\n",
        "\n",
        "    # Measure the training end time\n",
        "    train_end = time.time()\n",
        "\n",
        "    # Calculate the training time\n",
        "    train_time = train_end - train_start\n",
        "\n",
        "    # Measure the testing start time\n",
        "    test_start = time.time()\n",
        "\n",
        "    # Make predictions on the validation data\n",
        "    valid_predictions = clf.predict(X_valid)\n",
        "\n",
        "    # Measure the testing end time\n",
        "    test_end = time.time()\n",
        "\n",
        "    # Calculate the testing time\n",
        "    test_time = test_end - test_start\n",
        "\n",
        "    # Convert the numerical labels back into text labels\n",
        "    y_valid_text = label_encoder.inverse_transform(y_valid)\n",
        "    valid_predictions_text = label_encoder.inverse_transform(valid_predictions)\n",
        "\n",
        "    #print(len(y_valid_text))\n",
        "    #print(len(valid_predictions_text))\n",
        "    # Print the classification report with text labels\n",
        "    print(classification_report(y_valid_text, valid_predictions_text))\n",
        "\n",
        "    # Print the training and testing time\n",
        "    print(f\"Training time: {train_time:.2f} seconds\")\n",
        "    print(f\"Testing time: {test_time:.2f} seconds\")"
      ]
    },
    {
      "cell_type": "code",
      "execution_count": null,
      "metadata": {
        "id": "2vGakZuRbRok"
      },
      "outputs": [],
      "source": [
        "y_train_ml = np.argmax(y_train, axis=1)\n",
        "y_valid_ml = np.argmax(y_valid, axis=1)\n",
        "y_test_ml = np.argmax(y_test, axis=1)"
      ]
    },
    {
      "cell_type": "markdown",
      "metadata": {
        "id": "bmsqoinWUz0a"
      },
      "source": [
        "For word2vec"
      ]
    },
    {
      "cell_type": "code",
      "execution_count": null,
      "metadata": {
        "colab": {
          "base_uri": "https://localhost:8080/"
        },
        "id": "UDajNIJrT17D",
        "outputId": "1cb91a41-decf-4a42-f36e-62eeb72fd173"
      },
      "outputs": [
        {
          "output_type": "stream",
          "name": "stdout",
          "text": [
            "Evaluating classifier: SGD\n",
            "                             precision    recall  f1-score   support\n",
            "\n",
            "Dị Ứng - Miễn Dịch Lâm Sàng       0.38      0.50      0.43        44\n",
            "                  Huyết Học       0.56      0.56      0.56        55\n",
            "                    Hóa Trị       0.07      0.04      0.05        24\n",
            "       Hậu Môn - Trực Tràng       0.91      0.92      0.92       363\n",
            "       Lồng Ngực - Mạch Máu       0.60      0.44      0.51       114\n",
            "                        Mắt       0.86      0.79      0.83       199\n",
            "                   Nam Khoa       0.77      0.59      0.67       134\n",
            "             Ngoại Tim Mạch       0.43      0.64      0.51       116\n",
            "            Nhi - Tiêm Ngừa       0.53      0.64      0.58       135\n",
            "                   Nội Thận       0.46      0.39      0.42        56\n",
            "                   Nội Tiết       0.44      0.36      0.40        92\n",
            "    Phẫu Thuật Răng Hàm Mặt       0.86      0.81      0.83       163\n",
            "                       Phổi       0.89      0.82      0.85       205\n",
            "             Sản - Phụ Khoa       0.54      0.52      0.53       125\n",
            "               Tai Mũi Họng       0.67      0.42      0.52       137\n",
            "                Tdcn Hô Hấp       0.45      0.34      0.39        41\n",
            "                  Thần Kinh       0.39      0.39      0.39       174\n",
            "       Thẩm Mỹ Da - Da Liễu       0.45      0.56      0.50       186\n",
            "                   Tim Mạch       0.69      0.60      0.65       296\n",
            "         Tiêu Hóa - Gan Mật       0.56      0.67      0.61       312\n",
            "                  Tiết Niệu       0.39      0.22      0.29        58\n",
            "                     Tâm Lý       0.78      0.73      0.75       215\n",
            "           Tạo Hình Thẩm Mỹ       0.57      0.55      0.56       173\n",
            " Tổng Quát - Y Học Gia Đình       0.17      0.38      0.24        80\n",
            "                      U Gan       0.41      0.46      0.43        46\n",
            "                   Viêm Gan       0.80      0.73      0.77       180\n",
            "                   Vú - Fna       0.74      0.74      0.74       102\n",
            "                 Xương Khớp       0.56      0.56      0.56       126\n",
            "\n",
            "                   accuracy                           0.63      3951\n",
            "                  macro avg       0.57      0.55      0.55      3951\n",
            "               weighted avg       0.65      0.63      0.63      3951\n",
            "\n",
            "Training time: 669.43 seconds\n",
            "Testing time: 0.02 seconds\n"
          ]
        },
        {
          "output_type": "stream",
          "name": "stderr",
          "text": [
            "/usr/local/lib/python3.10/dist-packages/sklearn/linear_model/_stochastic_gradient.py:702: ConvergenceWarning: Maximum number of iteration reached before convergence. Consider increasing max_iter to improve the fit.\n",
            "  warnings.warn(\n"
          ]
        }
      ],
      "source": [
        "for name, clf in classifiers:\n",
        "    print(f\"Evaluating classifier: {name}\")\n",
        "    evaluate_classifier(clf, X_train_w2v, Y_train, X_valid_w2v, Y_valid, le)"
      ]
    },
    {
      "cell_type": "markdown",
      "metadata": {
        "id": "Wo6T7_SFU175"
      },
      "source": [
        "For TF-IDF"
      ]
    },
    {
      "cell_type": "code",
      "execution_count": null,
      "metadata": {
        "colab": {
          "base_uri": "https://localhost:8080/"
        },
        "id": "-HBDb5IeUyiB",
        "outputId": "790c41df-4fac-404e-a422-2f19a28b0942"
      },
      "outputs": [
        {
          "output_type": "stream",
          "name": "stdout",
          "text": [
            "Evaluating classifier: SVM\n",
            "                             precision    recall  f1-score   support\n",
            "\n",
            "Dị Ứng - Miễn Dịch Lâm Sàng       0.58      0.64      0.61        44\n",
            "                  Huyết Học       0.67      0.78      0.72        55\n",
            "                    Hóa Trị       0.83      0.42      0.56        24\n",
            "       Hậu Môn - Trực Tràng       0.91      0.93      0.92       363\n",
            "       Lồng Ngực - Mạch Máu       0.84      0.68      0.75       114\n",
            "                        Mắt       0.91      0.88      0.90       199\n",
            "                   Nam Khoa       0.90      0.69      0.78       134\n",
            "             Ngoại Tim Mạch       0.85      0.72      0.78       116\n",
            "            Nhi - Tiêm Ngừa       0.65      0.70      0.68       135\n",
            "                   Nội Thận       0.69      0.52      0.59        56\n",
            "                   Nội Tiết       0.75      0.57      0.65        92\n",
            "    Phẫu Thuật Răng Hàm Mặt       0.87      0.83      0.85       163\n",
            "                       Phổi       0.87      0.84      0.85       205\n",
            "             Sản - Phụ Khoa       0.74      0.66      0.70       125\n",
            "               Tai Mũi Họng       0.70      0.60      0.65       137\n",
            "                Tdcn Hô Hấp       0.78      0.34      0.47        41\n",
            "                  Thần Kinh       0.46      0.60      0.52       174\n",
            "       Thẩm Mỹ Da - Da Liễu       0.61      0.70      0.66       186\n",
            "                   Tim Mạch       0.78      0.81      0.79       296\n",
            "         Tiêu Hóa - Gan Mật       0.58      0.81      0.68       312\n",
            "                  Tiết Niệu       0.43      0.31      0.36        58\n",
            "                     Tâm Lý       0.86      0.92      0.89       215\n",
            "           Tạo Hình Thẩm Mỹ       0.80      0.68      0.74       173\n",
            " Tổng Quát - Y Học Gia Đình       0.48      0.35      0.41        80\n",
            "                      U Gan       0.93      0.57      0.70        46\n",
            "                   Viêm Gan       0.86      0.90      0.88       180\n",
            "                   Vú - Fna       0.89      0.81      0.85       102\n",
            "                 Xương Khớp       0.63      0.71      0.67       126\n",
            "\n",
            "                   accuracy                           0.75      3951\n",
            "                  macro avg       0.75      0.68      0.70      3951\n",
            "               weighted avg       0.76      0.75      0.75      3951\n",
            "\n",
            "Training time: 140.31 seconds\n",
            "Testing time: 19.59 seconds\n",
            "Evaluating classifier: Logistic Regression\n",
            "                             precision    recall  f1-score   support\n",
            "\n",
            "Dị Ứng - Miễn Dịch Lâm Sàng       0.44      0.77      0.56        44\n",
            "                  Huyết Học       0.54      0.85      0.66        55\n",
            "                    Hóa Trị       0.65      0.71      0.68        24\n",
            "       Hậu Môn - Trực Tràng       0.94      0.89      0.92       363\n",
            "       Lồng Ngực - Mạch Máu       0.72      0.71      0.71       114\n",
            "                        Mắt       0.92      0.87      0.89       199\n",
            "                   Nam Khoa       0.79      0.71      0.75       134\n",
            "             Ngoại Tim Mạch       0.70      0.83      0.76       116\n",
            "            Nhi - Tiêm Ngừa       0.70      0.69      0.69       135\n",
            "                   Nội Thận       0.65      0.57      0.61        56\n",
            "                   Nội Tiết       0.68      0.66      0.67        92\n",
            "    Phẫu Thuật Răng Hàm Mặt       0.90      0.82      0.86       163\n",
            "                       Phổi       0.91      0.81      0.86       205\n",
            "             Sản - Phụ Khoa       0.70      0.72      0.71       125\n",
            "               Tai Mũi Họng       0.68      0.66      0.67       137\n",
            "                Tdcn Hô Hấp       0.40      0.63      0.49        41\n",
            "                  Thần Kinh       0.51      0.55      0.53       174\n",
            "       Thẩm Mỹ Da - Da Liễu       0.65      0.62      0.64       186\n",
            "                   Tim Mạch       0.85      0.70      0.77       296\n",
            "         Tiêu Hóa - Gan Mật       0.81      0.73      0.77       312\n",
            "                  Tiết Niệu       0.40      0.43      0.42        58\n",
            "                     Tâm Lý       0.81      0.84      0.82       215\n",
            "           Tạo Hình Thẩm Mỹ       0.74      0.75      0.74       173\n",
            " Tổng Quát - Y Học Gia Đình       0.41      0.49      0.44        80\n",
            "                      U Gan       0.73      0.80      0.76        46\n",
            "                   Viêm Gan       0.91      0.88      0.89       180\n",
            "                   Vú - Fna       0.79      0.79      0.79       102\n",
            "                 Xương Khớp       0.58      0.73      0.65       126\n",
            "\n",
            "                   accuracy                           0.75      3951\n",
            "                  macro avg       0.70      0.72      0.70      3951\n",
            "               weighted avg       0.76      0.75      0.75      3951\n",
            "\n",
            "Training time: 29.73 seconds\n",
            "Testing time: 0.02 seconds\n",
            "Evaluating classifier: Decision Tree\n",
            "                             precision    recall  f1-score   support\n",
            "\n",
            "Dị Ứng - Miễn Dịch Lâm Sàng       0.33      0.50      0.40        44\n",
            "                  Huyết Học       0.33      0.49      0.40        55\n",
            "                    Hóa Trị       0.48      0.46      0.47        24\n",
            "       Hậu Môn - Trực Tràng       0.86      0.85      0.86       363\n",
            "       Lồng Ngực - Mạch Máu       0.66      0.59      0.62       114\n",
            "                        Mắt       0.78      0.78      0.78       199\n",
            "                   Nam Khoa       0.78      0.63      0.69       134\n",
            "             Ngoại Tim Mạch       0.56      0.54      0.55       116\n",
            "            Nhi - Tiêm Ngừa       0.53      0.55      0.54       135\n",
            "                   Nội Thận       0.52      0.50      0.51        56\n",
            "                   Nội Tiết       0.57      0.57      0.57        92\n",
            "    Phẫu Thuật Răng Hàm Mặt       0.58      0.71      0.64       163\n",
            "                       Phổi       0.78      0.76      0.77       205\n",
            "             Sản - Phụ Khoa       0.52      0.52      0.52       125\n",
            "               Tai Mũi Họng       0.47      0.46      0.47       137\n",
            "                Tdcn Hô Hấp       0.33      0.41      0.37        41\n",
            "                  Thần Kinh       0.30      0.31      0.31       174\n",
            "       Thẩm Mỹ Da - Da Liễu       0.54      0.51      0.52       186\n",
            "                   Tim Mạch       0.67      0.64      0.65       296\n",
            "         Tiêu Hóa - Gan Mật       0.60      0.54      0.57       312\n",
            "                  Tiết Niệu       0.33      0.34      0.34        58\n",
            "                     Tâm Lý       0.74      0.83      0.78       215\n",
            "           Tạo Hình Thẩm Mỹ       0.54      0.42      0.48       173\n",
            " Tổng Quát - Y Học Gia Đình       0.28      0.28      0.28        80\n",
            "                      U Gan       0.71      0.87      0.78        46\n",
            "                   Viêm Gan       0.82      0.78      0.80       180\n",
            "                   Vú - Fna       0.59      0.68      0.63       102\n",
            "                 Xương Khớp       0.44      0.47      0.46       126\n",
            "\n",
            "                   accuracy                           0.61      3951\n",
            "                  macro avg       0.56      0.57      0.56      3951\n",
            "               weighted avg       0.62      0.61      0.61      3951\n",
            "\n",
            "Training time: 13.66 seconds\n",
            "Testing time: 0.00 seconds\n",
            "Evaluating classifier: Random Forest\n",
            "                             precision    recall  f1-score   support\n",
            "\n",
            "Dị Ứng - Miễn Dịch Lâm Sàng       0.57      0.45      0.51        44\n",
            "                  Huyết Học       0.54      0.80      0.65        55\n",
            "                    Hóa Trị       1.00      0.38      0.55        24\n",
            "       Hậu Môn - Trực Tràng       0.84      0.94      0.89       363\n",
            "       Lồng Ngực - Mạch Máu       0.83      0.59      0.69       114\n",
            "                        Mắt       0.80      0.91      0.85       199\n",
            "                   Nam Khoa       0.87      0.72      0.79       134\n",
            "             Ngoại Tim Mạch       0.74      0.70      0.72       116\n",
            "            Nhi - Tiêm Ngừa       0.64      0.70      0.66       135\n",
            "                   Nội Thận       0.64      0.64      0.64        56\n",
            "                   Nội Tiết       0.71      0.57      0.63        92\n",
            "    Phẫu Thuật Răng Hàm Mặt       0.76      0.84      0.80       163\n",
            "                       Phổi       0.82      0.89      0.85       205\n",
            "             Sản - Phụ Khoa       0.74      0.59      0.66       125\n",
            "               Tai Mũi Họng       0.65      0.56      0.60       137\n",
            "                Tdcn Hô Hấp       0.71      0.37      0.48        41\n",
            "                  Thần Kinh       0.54      0.39      0.45       174\n",
            "       Thẩm Mỹ Da - Da Liễu       0.65      0.67      0.66       186\n",
            "                   Tim Mạch       0.71      0.79      0.75       296\n",
            "         Tiêu Hóa - Gan Mật       0.69      0.72      0.71       312\n",
            "                  Tiết Niệu       0.46      0.31      0.37        58\n",
            "                     Tâm Lý       0.77      0.94      0.84       215\n",
            "           Tạo Hình Thẩm Mỹ       0.74      0.67      0.71       173\n",
            " Tổng Quát - Y Học Gia Đình       0.45      0.26      0.33        80\n",
            "                      U Gan       0.78      0.78      0.78        46\n",
            "                   Viêm Gan       0.85      0.90      0.88       180\n",
            "                   Vú - Fna       0.76      0.83      0.79       102\n",
            "                 Xương Khớp       0.59      0.68      0.63       126\n",
            "\n",
            "                   accuracy                           0.73      3951\n",
            "                  macro avg       0.71      0.66      0.67      3951\n",
            "               weighted avg       0.73      0.73      0.72      3951\n",
            "\n",
            "Training time: 200.87 seconds\n",
            "Testing time: 0.40 seconds\n"
          ]
        }
      ],
      "source": [
        "for name, clf in classifiers:\n",
        "    print(f\"Evaluating classifier: {name}\")\n",
        "\n",
        "    if name == 'Linear Discriminant Analysis':\n",
        "        X_train_dense = X_train_tfidf.toarray()\n",
        "        X_valid_dense = X_valid_tfidf.toarray()\n",
        "        evaluate_classifier(clf, X_train_dense, y_train_ml, X_valid_dense, y_valid_ml, le)\n",
        "    else:\n",
        "        evaluate_classifier(clf, X_train_tfidf, y_train_ml, X_valid_tfidf, y_valid_ml, le)"
      ]
    },
    {
      "cell_type": "markdown",
      "metadata": {
        "id": "qldzgPH2g0N0"
      },
      "source": [
        "# 5. PhoBERT model"
      ]
    },
    {
      "cell_type": "code",
      "execution_count": null,
      "metadata": {
        "id": "i44d6K9og2-5"
      },
      "outputs": [],
      "source": [
        "import torch\n",
        "import numpy as np\n",
        "import pandas as pd\n",
        "import seaborn as sns\n",
        "import matplotlib.pyplot as plt\n",
        "from sklearn.model_selection import train_test_split\n",
        "from gensim.utils import simple_preprocess\n",
        "from sklearn.model_selection import StratifiedKFold\n",
        "from sklearn.metrics import classification_report, confusion_matrix\n",
        "import openpyxl\n",
        "import underthesea\n",
        "import torch.nn as nn\n",
        "from torch.optim import AdamW\n",
        "from torch.utils.data import Dataset, DataLoader\n",
        "\n",
        "from transformers import get_linear_schedule_with_warmup, AutoTokenizer, AutoModel, logging\n",
        "\n",
        "import warnings\n",
        "warnings.filterwarnings(\"ignore\")\n",
        "\n",
        "logging.set_verbosity_error()"
      ]
    },
    {
      "cell_type": "code",
      "execution_count": null,
      "metadata": {
        "id": "fxDzcrh1QSBC"
      },
      "outputs": [],
      "source": [
        "torch.cuda.is_available()"
      ]
    },
    {
      "cell_type": "code",
      "execution_count": null,
      "metadata": {
        "id": "JjJkcVE1QTMY"
      },
      "outputs": [],
      "source": [
        "def seed_everything(seed_value):\n",
        "    np.random.seed(seed_value)\n",
        "    torch.manual_seed(seed_value)\n",
        "\n",
        "    if torch.cuda.is_available():\n",
        "        torch.cuda.manual_seed(seed_value)\n",
        "        torch.cuda.manual_seed_all(seed_value)\n",
        "        torch.backends.cudnn.deterministic = True\n",
        "        torch.backends.cudnn.benchmark = True\n",
        "\n",
        "seed_everything(86)"
      ]
    },
    {
      "cell_type": "code",
      "execution_count": null,
      "metadata": {
        "id": "4rNjmJffQUn8"
      },
      "outputs": [],
      "source": [
        "device = torch.device('cuda:0' if torch.cuda.is_available() else 'cpu')\n",
        "EPOCHS = 5\n",
        "N_SPLITS = 6"
      ]
    },
    {
      "cell_type": "code",
      "execution_count": null,
      "metadata": {
        "id": "saRyCMRlQX50"
      },
      "outputs": [],
      "source": [
        "df = pd.read_excel('/content/drive/MyDrive/data2607_Q_label.xlsx')\n",
        "df.info()"
      ]
    },
    {
      "cell_type": "code",
      "execution_count": null,
      "metadata": {
        "id": "wHZXlfJPQgk5"
      },
      "outputs": [],
      "source": [
        "threshold = 60\n",
        "\n",
        "label_counts = df['LABEL'].value_counts()\n",
        "labels_to_remove = label_counts[label_counts < threshold].index\n",
        "df = df[~df['LABEL'].isin(labels_to_remove)]"
      ]
    },
    {
      "cell_type": "code",
      "execution_count": null,
      "metadata": {
        "id": "KKS6V7KQQYUa"
      },
      "outputs": [],
      "source": [
        "unique_elements = df['LABEL'].unique()\n",
        "\n",
        "# Print the unique elements with count numbers\n",
        "for i, element in enumerate(unique_elements, start=0):\n",
        "    print(f\"{i}. {element}\")"
      ]
    },
    {
      "cell_type": "code",
      "execution_count": null,
      "metadata": {
        "id": "8mo8lw9CQnJ4"
      },
      "outputs": [],
      "source": [
        "df = df.dropna()\n",
        "df"
      ]
    },
    {
      "cell_type": "code",
      "execution_count": null,
      "metadata": {
        "id": "q_CfeVMVQnkI"
      },
      "outputs": [],
      "source": [
        "def get_data_csv(path):\n",
        "  data = pd.read_csv(path,encoding='utf-16')\n",
        "  df = pd.DataFrame(data)\n",
        "  df.drop(columns=['Unnamed: 0'], inplace = True)\n",
        "  return df"
      ]
    },
    {
      "cell_type": "code",
      "execution_count": null,
      "metadata": {
        "id": "XvaH0XkwQrN5"
      },
      "outputs": [],
      "source": [
        "def get_json_data(path):\n",
        "  data = pd.read_json(path)\n",
        "  df = pd.DataFrame(data)\n",
        "  df.drop(columns=['seq_label'], inplace = True)\n",
        "  return df"
      ]
    },
    {
      "cell_type": "code",
      "execution_count": null,
      "metadata": {
        "id": "kYvisX13QsUK"
      },
      "outputs": [],
      "source": [
        "def get_data(path):\n",
        "    df = pd.read_excel(path, sheet_name=None)['Sheet1']\n",
        "    df.columns = ['index', 'Emotion', 'Sentence']\n",
        "    # unused column\n",
        "    df.drop(columns=['index'], inplace=True)\n",
        "    return df"
      ]
    },
    {
      "cell_type": "code",
      "execution_count": null,
      "metadata": {
        "id": "PLRDRVFoQymU"
      },
      "outputs": [],
      "source": [
        "plt.figure(figsize=(12,10))\n",
        "sns.countplot(data=df, y='LABEL', width=0.8)\n",
        "plt.show()"
      ]
    },
    {
      "cell_type": "code",
      "execution_count": null,
      "metadata": {
        "id": "LVOL_qqyQt88"
      },
      "outputs": [],
      "source": [
        "X = df['Q1']\n",
        "y = df['LABEL'].values\n",
        "\n",
        "# Split the data\n",
        "X_train, X_test, y_train, y_test = train_test_split(X, y, test_size=0.2, stratify=y, random_state=42)\n",
        "\n",
        "train_df = pd.DataFrame({'Q1': X_train, 'LABEL': y_train})\n",
        "test_df = pd.DataFrame({'Q1': X_test, 'LABEL': y_test})\n",
        "\n",
        "train_df.to_csv('train.csv', index=False)\n",
        "test_df.to_csv('test.csv', index=False)\n",
        "\n",
        "train_df = pd.read_csv('train.csv')\n",
        "test_df = pd.read_csv('test.csv')"
      ]
    },
    {
      "cell_type": "code",
      "execution_count": null,
      "metadata": {
        "id": "ArnDA3KSQwe6"
      },
      "outputs": [],
      "source": [
        "# We will use Kfold later\n",
        "train_df = pd.concat([train_df, test_df], ignore_index=True)\n",
        "skf = StratifiedKFold(n_splits=N_SPLITS)\n",
        "for fold, (_, val_) in enumerate(skf.split(X=train_df, y=train_df.LABEL)):\n",
        "    train_df.loc[val_, \"kfold\"] = fold"
      ]
    },
    {
      "cell_type": "code",
      "execution_count": null,
      "metadata": {
        "id": "Dq9MWgh4Q2Pf"
      },
      "outputs": [],
      "source": [
        "tokenizer = AutoTokenizer.from_pretrained(\"vinai/phobert-base\", use_fast=False)\n",
        "tokenizer"
      ]
    },
    {
      "cell_type": "code",
      "execution_count": null,
      "metadata": {
        "id": "48_1eMOaQ34a"
      },
      "outputs": [],
      "source": [
        "def get_input_data(self, row):\n",
        "    # Preprocessing: {remove icon, special character, lower}\n",
        "    text = row['Q1']\n",
        "    text = ' '.join(simple_preprocess(text))\n",
        "    label = self.labelencoder(row['LABEL'])\n",
        "\n",
        "    # Handle unknown labels\n",
        "    if label is None:\n",
        "        raise ValueError(f\"Unknown label: {row['LABEL']}\")\n",
        "\n",
        "    return text, label"
      ]
    },
    {
      "cell_type": "code",
      "execution_count": null,
      "metadata": {
        "id": "nP5UcRKPQ5Rl"
      },
      "outputs": [],
      "source": [
        "class SentimentDataset(Dataset):\n",
        "    def __init__(self, df, tokenizer, max_len=500):\n",
        "        self.df = df\n",
        "        self.max_len = max_len\n",
        "        self.tokenizer = tokenizer\n",
        "\n",
        "    def __len__(self):\n",
        "        return len(self.df)\n",
        "\n",
        "    def __getitem__(self, index):\n",
        "        \"\"\"\n",
        "        To customize dataset, inherit from Dataset class and implement\n",
        "        __len__ & __getitem__\n",
        "        __getitem__ should return\n",
        "            data:\n",
        "                input_ids\n",
        "                attention_masks\n",
        "                text\n",
        "                targets\n",
        "        \"\"\"\n",
        "        row = self.df.iloc[index]\n",
        "        text, label = self.get_input_data(row)\n",
        "\n",
        "        # Encode_plus will:\n",
        "        # (1) split text into token\n",
        "        # (2) Add the '[CLS]' and '[SEP]' token to the start and end\n",
        "        # (3) Truncate/Pad sentence to max length\n",
        "        # (4) Map token to their IDS\n",
        "        # (5) Create attention mask\n",
        "        # (6) Return a dictionary of outputs\n",
        "        encoding = self.tokenizer.encode_plus(\n",
        "            text,\n",
        "            truncation=True,\n",
        "            add_special_tokens=True,\n",
        "            max_length=self.max_len,\n",
        "            padding='max_length',\n",
        "            return_attention_mask=True,\n",
        "            return_token_type_ids=False,\n",
        "            return_tensors='pt',\n",
        "        )\n",
        "\n",
        "        return {\n",
        "            'text': text,\n",
        "            'input_ids': encoding['input_ids'].flatten(),\n",
        "            'attention_masks': encoding['attention_mask'].flatten(),\n",
        "            'targets': torch.tensor(label, dtype=torch.long),\n",
        "        }\n",
        "\n",
        "\n",
        "    def labelencoder(self,text):\n",
        "        if text=='Dị ứng - Miễn dịch lâm sàng':\n",
        "            return 0\n",
        "        elif text=='Tiêu hóa - Gan mật':\n",
        "            return 1\n",
        "        elif text=='Thẩm mỹ da - Da liễu':\n",
        "            return 2\n",
        "        elif text=='Tai Mũi Họng':\n",
        "            return 3\n",
        "        elif text=='Nhi - Tiêm ngừa':\n",
        "            return 4\n",
        "        elif text=='Hậu môn - Trực tràng':\n",
        "            return 5\n",
        "        elif text=='Lồng ngực - Mạch máu':\n",
        "            return 6\n",
        "        elif text=='Xương khớp':\n",
        "            return 7\n",
        "        elif text=='Tạo hình Thẩm mỹ':\n",
        "            return 8\n",
        "        elif text=='Tim mạch':\n",
        "            return 9\n",
        "        elif text=='Tiết niệu':\n",
        "            return 10\n",
        "        elif text=='Tổng quát - Y học gia đình':\n",
        "            return 11\n",
        "        elif text=='Thần Kinh':\n",
        "            return 12\n",
        "        elif text=='Phổi':\n",
        "            return 13\n",
        "        elif text=='Viêm gan':\n",
        "            return 14\n",
        "        elif text=='Mắt':\n",
        "            return 15\n",
        "        elif text=='Nội Tiết':\n",
        "            return 16\n",
        "        elif text=='Nam Khoa':\n",
        "            return 17\n",
        "        elif text=='Sản - Phụ Khoa':\n",
        "            return 18\n",
        "        elif text=='Vú - FNA':\n",
        "            return 19\n",
        "        elif text=='Phẫu thuật răng hàm mặt':\n",
        "            return 20\n",
        "        elif text=='Ngoại tim mạch':\n",
        "            return 21\n",
        "        elif text=='Sức khỏe':\n",
        "            return 22\n",
        "        elif text== 'TDCN Hô hấp':\n",
        "            return 23\n",
        "        elif text== 'Vấn đề khác':\n",
        "            return 24\n",
        "\n",
        "    def get_input_data(self, row):\n",
        "        # Preprocessing: {remove icon, special character, lower}\n",
        "        text = row['Q1']\n",
        "        text = ' '.join(simple_preprocess(text))\n",
        "        label = self.labelencoder(row['LABEL'])\n",
        "        # Handle unknown labels\n",
        "        if label is None:\n",
        "          raise ValueError(f\"Unknown label: {row['LABEL']}\")\n",
        "\n",
        "        return text, label"
      ]
    },
    {
      "cell_type": "code",
      "execution_count": null,
      "metadata": {
        "id": "Sy1BE6CbQ6zC"
      },
      "outputs": [],
      "source": [
        "# Distribution of length of Sentence\n",
        "all_data = train_df.Q1.tolist() + test_df.Q1.tolist()\n",
        "all_data = [' '.join(simple_preprocess(text)) for text in all_data]\n",
        "encoded_text = [tokenizer.encode(text, add_special_tokens=True) for text in all_data]\n",
        "token_lens = [len(text) for text in encoded_text]\n",
        "sns.displot(token_lens)\n",
        "plt.xlim([0,max(token_lens)])\n",
        "plt.xlabel('Token Count')"
      ]
    },
    {
      "cell_type": "code",
      "execution_count": null,
      "metadata": {
        "id": "1VifGbN0Q8Tl"
      },
      "outputs": [],
      "source": [
        "class DepartmentClassifier(nn.Module):\n",
        "    def __init__(self, n_classes):\n",
        "        super(DepartmentClassifier, self).__init__()\n",
        "        self.bert = AutoModel.from_pretrained(\"vinai/phobert-base\", from_tf=False)\n",
        "        self.drop = nn.Dropout(p=0.3)\n",
        "        self.fc = nn.Linear(self.bert.config.hidden_size, n_classes)\n",
        "        nn.init.normal_(self.fc.weight, std=0.02)\n",
        "        nn.init.normal_(self.fc.bias, 0)\n",
        "\n",
        "    def forward(self, input_ids, attention_mask):\n",
        "        last_hidden_state, output = self.bert(\n",
        "            input_ids=input_ids,\n",
        "            attention_mask=attention_mask,\n",
        "            return_dict=False\n",
        "        )\n",
        "\n",
        "        x = self.drop(output)\n",
        "        x = self.fc(x)\n",
        "        return x"
      ]
    },
    {
      "cell_type": "code",
      "execution_count": null,
      "metadata": {
        "id": "nfoIKPglQ91b"
      },
      "outputs": [],
      "source": [
        "import argparse\n",
        "import sys\n",
        "\n",
        "# Define the load_args() function to parse command-line arguments\n",
        "def load_args():\n",
        "    parser = argparse.ArgumentParser()\n",
        "    parser.add_argument('--gradient_accumulation_steps', default=1, type=int)\n",
        "\n",
        "    if 'ipykernel_launcher' in sys.argv[0]:\n",
        "        args = parser.parse_args([])\n",
        "    else:\n",
        "        args = parser.parse_args()\n",
        "\n",
        "    return args\n",
        "\n",
        "args = load_args()"
      ]
    },
    {
      "cell_type": "code",
      "execution_count": null,
      "metadata": {
        "id": "Ews8pZsqQ_Os"
      },
      "outputs": [],
      "source": [
        "def train(model, criterion, optimizer, train_loader):\n",
        "    model.train()\n",
        "    losses = []\n",
        "    correct = 0\n",
        "\n",
        "    for batch_idx, data in enumerate(train_loader):\n",
        "        input_ids = data['input_ids'].to(device)\n",
        "        attention_mask = data['attention_masks'].to(device)\n",
        "        targets = data['targets'].to(device)\n",
        "\n",
        "        optimizer.zero_grad()\n",
        "        outputs = model(\n",
        "            input_ids=input_ids,\n",
        "            attention_mask=attention_mask\n",
        "        )\n",
        "\n",
        "        loss = criterion(outputs, targets)\n",
        "        _, pred = torch.max(outputs, dim=1)\n",
        "\n",
        "        correct += torch.sum(pred == targets)\n",
        "        losses.append(loss.item())\n",
        "        loss.backward()\n",
        "\n",
        "        if (batch_idx + 1) % args.gradient_accumulation_steps == 0:\n",
        "            nn.utils.clip_grad_norm_(model.parameters(), max_norm=1.0)\n",
        "            optimizer.step()\n",
        "            optimizer.zero_grad()\n",
        "            lr_scheduler.step()\n",
        "\n",
        "    print(f'Train Accuracy: {correct.double()/len(train_loader.dataset)} Loss: {np.mean(losses)}')\n",
        "\n",
        "def eval(test_data = False):\n",
        "    model.eval()\n",
        "    losses = []\n",
        "    correct = 0\n",
        "\n",
        "    with torch.no_grad():\n",
        "        data_loader = test_loader if test_data else valid_loader\n",
        "        for data in data_loader:\n",
        "            input_ids = data['input_ids'].to(device)\n",
        "            attention_mask = data['attention_masks'].to(device)\n",
        "            targets = data['targets'].to(device)\n",
        "\n",
        "            outputs = model(\n",
        "                input_ids=input_ids,\n",
        "                attention_mask=attention_mask\n",
        "            )\n",
        "\n",
        "            _, pred = torch.max(outputs, dim=1)\n",
        "\n",
        "            loss = criterion(outputs, targets)\n",
        "            correct += torch.sum(pred == targets)\n",
        "            losses.append(loss.item())\n",
        "\n",
        "    if test_data:\n",
        "        print(f'Test Accuracy: {correct.double()/len(test_loader.dataset)} Loss: {np.mean(losses)}')\n",
        "        return correct.double()/len(test_loader.dataset)\n",
        "    else:\n",
        "        print(f'Valid Accuracy: {correct.double()/len(valid_loader.dataset)} Loss: {np.mean(losses)}')\n",
        "        return correct.double()/len(valid_loader.dataset)"
      ]
    },
    {
      "cell_type": "code",
      "execution_count": null,
      "metadata": {
        "id": "s3FIjgBxRA42"
      },
      "outputs": [],
      "source": [
        "def prepare_loaders(df, fold, batch_size):\n",
        "    df_train = df[df.kfold != fold].reset_index(drop=True)\n",
        "    df_valid = df[df.kfold == fold].reset_index(drop=True)\n",
        "\n",
        "    train_dataset = SentimentDataset(df_train, tokenizer, max_len=120)\n",
        "    valid_dataset = SentimentDataset(df_valid, tokenizer, max_len=120)\n",
        "\n",
        "    train_loader = DataLoader(train_dataset, batch_size=batch_size, shuffle=True, num_workers=2)\n",
        "    valid_loader = DataLoader(valid_dataset, batch_size=batch_size, shuffle=True, num_workers=2)\n",
        "    return train_loader, valid_loader\n",
        "\n",
        "\n",
        "batch_size = 16\n",
        "gradient_accumulation_steps = args.gradient_accumulation_steps"
      ]
    },
    {
      "cell_type": "code",
      "execution_count": null,
      "metadata": {
        "id": "bOL5HNa6RCWB"
      },
      "outputs": [],
      "source": [
        "for fold in range(skf.n_splits):\n",
        "    print(f'-----------Fold: {fold+1} ------------------')\n",
        "    train_loader, valid_loader = prepare_loaders(train_df, fold=fold, batch_size=batch_size)\n",
        "    model = DepartmentClassifier(n_classes=25).to(device)\n",
        "    criterion = nn.CrossEntropyLoss()\n",
        "    optimizer = AdamW(model.parameters(), lr=2e-5)\n",
        "\n",
        "    lr_scheduler = get_linear_schedule_with_warmup(\n",
        "        optimizer,\n",
        "        num_warmup_steps=0,\n",
        "        num_training_steps=len(train_loader) * EPOCHS // gradient_accumulation_steps\n",
        "    )\n",
        "    best_acc = 0\n",
        "    for epoch in range(EPOCHS):\n",
        "        print(f'Epoch {epoch+1}/{EPOCHS}')\n",
        "        print('-' * 30)\n",
        "\n",
        "        train(model, criterion, optimizer, train_loader)\n",
        "        val_acc = eval()\n",
        "\n",
        "        if val_acc > best_acc:\n",
        "            torch.save(model.state_dict(), f'phobert_fold{fold+1}.pth')\n",
        "            best_acc = val_acc"
      ]
    },
    {
      "cell_type": "code",
      "execution_count": null,
      "metadata": {
        "id": "W1CiUf9-RFOZ"
      },
      "outputs": [],
      "source": [
        "def test(data_loader):\n",
        "    models = []\n",
        "    for fold in range(skf.n_splits):\n",
        "        model = DepartmentClassifier(n_classes=25)\n",
        "        model.to(device)\n",
        "        model.load_state_dict(torch.load(f'phobert_fold{fold+1}.pth'))\n",
        "        model.eval()\n",
        "        models.append(model)\n",
        "\n",
        "    texts = []\n",
        "    predicts = []\n",
        "    predict_probs = []\n",
        "    real_values = []\n",
        "\n",
        "    for data in data_loader:\n",
        "        text = data['text']\n",
        "        input_ids = data['input_ids'].to(device)\n",
        "        attention_mask = data['attention_masks'].to(device)\n",
        "        targets = data['targets'].to(device)\n",
        "\n",
        "        total_outs = []\n",
        "        for model in models:\n",
        "            with torch.no_grad():\n",
        "                outputs = model(\n",
        "                    input_ids=input_ids,\n",
        "                    attention_mask=attention_mask\n",
        "                )\n",
        "                total_outs.append(outputs)\n",
        "\n",
        "        total_outs = torch.stack(total_outs)\n",
        "        _, pred = torch.max(total_outs.mean(0), dim=1)\n",
        "        texts.extend(text)\n",
        "        predicts.extend(pred)\n",
        "        predict_probs.extend(total_outs.mean(0))\n",
        "        real_values.extend(targets)\n",
        "\n",
        "    predicts = torch.stack(predicts).cpu()\n",
        "    predict_probs = torch.stack(predict_probs).cpu()\n",
        "    real_values = torch.stack(real_values).cpu()\n",
        "    print(classification_report(real_values, predicts))\n",
        "    return real_values, predicts"
      ]
    },
    {
      "cell_type": "code",
      "execution_count": null,
      "metadata": {
        "id": "m3sR0qP-RGWQ"
      },
      "outputs": [],
      "source": [
        "test_dataset = SentimentDataset(test_df, tokenizer, max_len=50)\n",
        "test_loader = DataLoader(test_dataset, batch_size=16, shuffle=True, num_workers=2)\n",
        "real_values, predicts = test(test_loader)"
      ]
    },
    {
      "cell_type": "code",
      "execution_count": null,
      "metadata": {
        "id": "O1O6pC-WRH8G"
      },
      "outputs": [],
      "source": [
        "class_names = ['0','1','2','3','4','5','6','7','8','9','10','11','12','13','14','15','16','17','18','19','20','21','22','23','24']\n",
        "sns.heatmap(confusion_matrix(real_values, predicts), annot=False, xticklabels = class_names, yticklabels = class_names)"
      ]
    },
    {
      "cell_type": "code",
      "execution_count": null,
      "metadata": {
        "id": "5D9D-k6HRJSJ"
      },
      "outputs": [],
      "source": [
        "def check_wrong(real_values, predicts):\n",
        "    wrong_arr = []\n",
        "    wrong_label = []\n",
        "    for i in range(len(predicts)):\n",
        "        if predicts[i] != real_values[i]:\n",
        "            wrong_arr.append(i)\n",
        "            wrong_label.append(predicts[i])\n",
        "    return wrong_arr, wrong_label\n",
        "\n",
        "for i in range(30):\n",
        "    print('-'*50)\n",
        "    wrong_arr, wrong_label = check_wrong(real_values, predicts)\n",
        "    print(test_df.iloc[wrong_arr[i]].Q1)\n",
        "    print(f'Predicted: ({class_names[wrong_label[i]]}) --vs-- Real label: ({class_names[real_values[wrong_arr[i]]]})')"
      ]
    },
    {
      "cell_type": "code",
      "execution_count": null,
      "metadata": {
        "id": "9tuuBkjORKpY"
      },
      "outputs": [],
      "source": [
        "def infer(text, tokenizer, max_len=120):\n",
        "    encoded_review = tokenizer.encode_plus(\n",
        "        text,\n",
        "        max_length=max_len,\n",
        "        truncation=True,\n",
        "        add_special_tokens=True,\n",
        "        padding='max_length',\n",
        "        return_attention_mask=True,\n",
        "        return_token_type_ids=False,\n",
        "        return_tensors='pt',\n",
        "    )\n",
        "\n",
        "    input_ids = encoded_review['input_ids'].to(device)\n",
        "    attention_mask = encoded_review['attention_mask'].to(device)\n",
        "\n",
        "    output = model(input_ids, attention_mask)\n",
        "    _, y_pred = torch.max(output, dim=1)\n",
        "\n",
        "    print(f'Text: {text}')\n",
        "    print(f'Sentiment: {class_names[y_pred]}')"
      ]
    },
    {
      "cell_type": "code",
      "execution_count": null,
      "metadata": {
        "id": "3mr_hpEKRM7q"
      },
      "outputs": [],
      "source": [
        "infer('cô ấy muốn làm phẫu thuật thẩm mỹ ', tokenizer)"
      ]
    },
    {
      "cell_type": "code",
      "execution_count": null,
      "metadata": {
        "id": "Ob7PZUxbRPz_"
      },
      "outputs": [],
      "source": [
        "test_dataset"
      ]
    }
  ],
  "metadata": {
    "colab": {
      "collapsed_sections": [
        "yGYQWbxbQdtl",
        "3te7YTDM0zHW",
        "CE7wr-Y71AnQ",
        "v4gYFu1U1DE-"
      ],
      "provenance": [],
      "gpuType": "T4"
    },
    "kernelspec": {
      "display_name": "Python 3",
      "name": "python3"
    },
    "language_info": {
      "name": "python"
    },
    "widgets": {
      "application/vnd.jupyter.widget-state+json": {
        "20f36b9169ca4532bd4f0d111de1d1a7": {
          "model_module": "@jupyter-widgets/controls",
          "model_name": "HBoxModel",
          "model_module_version": "1.5.0",
          "state": {
            "_dom_classes": [],
            "_model_module": "@jupyter-widgets/controls",
            "_model_module_version": "1.5.0",
            "_model_name": "HBoxModel",
            "_view_count": null,
            "_view_module": "@jupyter-widgets/controls",
            "_view_module_version": "1.5.0",
            "_view_name": "HBoxView",
            "box_style": "",
            "children": [
              "IPY_MODEL_e497516016e146bea42493a5649753a4",
              "IPY_MODEL_dc473abe8a304c50b7d1e3e5ecbdd35b",
              "IPY_MODEL_19900f22699a47fbbefedd895f6c4747"
            ],
            "layout": "IPY_MODEL_f13898ff86f24fe8ae5fd75f60aadc8f"
          }
        },
        "e497516016e146bea42493a5649753a4": {
          "model_module": "@jupyter-widgets/controls",
          "model_name": "HTMLModel",
          "model_module_version": "1.5.0",
          "state": {
            "_dom_classes": [],
            "_model_module": "@jupyter-widgets/controls",
            "_model_module_version": "1.5.0",
            "_model_name": "HTMLModel",
            "_view_count": null,
            "_view_module": "@jupyter-widgets/controls",
            "_view_module_version": "1.5.0",
            "_view_name": "HTMLView",
            "description": "",
            "description_tooltip": null,
            "layout": "IPY_MODEL_65af48fc1db14e1db38ef98993695d9b",
            "placeholder": "​",
            "style": "IPY_MODEL_2585fa495b064b09b75c66319c2831a0",
            "value": "Downloading (…)lve/main/config.json: 100%"
          }
        },
        "dc473abe8a304c50b7d1e3e5ecbdd35b": {
          "model_module": "@jupyter-widgets/controls",
          "model_name": "FloatProgressModel",
          "model_module_version": "1.5.0",
          "state": {
            "_dom_classes": [],
            "_model_module": "@jupyter-widgets/controls",
            "_model_module_version": "1.5.0",
            "_model_name": "FloatProgressModel",
            "_view_count": null,
            "_view_module": "@jupyter-widgets/controls",
            "_view_module_version": "1.5.0",
            "_view_name": "ProgressView",
            "bar_style": "success",
            "description": "",
            "description_tooltip": null,
            "layout": "IPY_MODEL_d8800c7f0272478d9b5b642be7093435",
            "max": 557,
            "min": 0,
            "orientation": "horizontal",
            "style": "IPY_MODEL_5cdc502eb0b2469b9faf1a00971be77e",
            "value": 557
          }
        },
        "19900f22699a47fbbefedd895f6c4747": {
          "model_module": "@jupyter-widgets/controls",
          "model_name": "HTMLModel",
          "model_module_version": "1.5.0",
          "state": {
            "_dom_classes": [],
            "_model_module": "@jupyter-widgets/controls",
            "_model_module_version": "1.5.0",
            "_model_name": "HTMLModel",
            "_view_count": null,
            "_view_module": "@jupyter-widgets/controls",
            "_view_module_version": "1.5.0",
            "_view_name": "HTMLView",
            "description": "",
            "description_tooltip": null,
            "layout": "IPY_MODEL_720615f234984791a4e2a7579bfb7ea9",
            "placeholder": "​",
            "style": "IPY_MODEL_ba7db856acca4011a5d37b83c59736c3",
            "value": " 557/557 [00:00&lt;00:00, 17.1kB/s]"
          }
        },
        "f13898ff86f24fe8ae5fd75f60aadc8f": {
          "model_module": "@jupyter-widgets/base",
          "model_name": "LayoutModel",
          "model_module_version": "1.2.0",
          "state": {
            "_model_module": "@jupyter-widgets/base",
            "_model_module_version": "1.2.0",
            "_model_name": "LayoutModel",
            "_view_count": null,
            "_view_module": "@jupyter-widgets/base",
            "_view_module_version": "1.2.0",
            "_view_name": "LayoutView",
            "align_content": null,
            "align_items": null,
            "align_self": null,
            "border": null,
            "bottom": null,
            "display": null,
            "flex": null,
            "flex_flow": null,
            "grid_area": null,
            "grid_auto_columns": null,
            "grid_auto_flow": null,
            "grid_auto_rows": null,
            "grid_column": null,
            "grid_gap": null,
            "grid_row": null,
            "grid_template_areas": null,
            "grid_template_columns": null,
            "grid_template_rows": null,
            "height": null,
            "justify_content": null,
            "justify_items": null,
            "left": null,
            "margin": null,
            "max_height": null,
            "max_width": null,
            "min_height": null,
            "min_width": null,
            "object_fit": null,
            "object_position": null,
            "order": null,
            "overflow": null,
            "overflow_x": null,
            "overflow_y": null,
            "padding": null,
            "right": null,
            "top": null,
            "visibility": null,
            "width": null
          }
        },
        "65af48fc1db14e1db38ef98993695d9b": {
          "model_module": "@jupyter-widgets/base",
          "model_name": "LayoutModel",
          "model_module_version": "1.2.0",
          "state": {
            "_model_module": "@jupyter-widgets/base",
            "_model_module_version": "1.2.0",
            "_model_name": "LayoutModel",
            "_view_count": null,
            "_view_module": "@jupyter-widgets/base",
            "_view_module_version": "1.2.0",
            "_view_name": "LayoutView",
            "align_content": null,
            "align_items": null,
            "align_self": null,
            "border": null,
            "bottom": null,
            "display": null,
            "flex": null,
            "flex_flow": null,
            "grid_area": null,
            "grid_auto_columns": null,
            "grid_auto_flow": null,
            "grid_auto_rows": null,
            "grid_column": null,
            "grid_gap": null,
            "grid_row": null,
            "grid_template_areas": null,
            "grid_template_columns": null,
            "grid_template_rows": null,
            "height": null,
            "justify_content": null,
            "justify_items": null,
            "left": null,
            "margin": null,
            "max_height": null,
            "max_width": null,
            "min_height": null,
            "min_width": null,
            "object_fit": null,
            "object_position": null,
            "order": null,
            "overflow": null,
            "overflow_x": null,
            "overflow_y": null,
            "padding": null,
            "right": null,
            "top": null,
            "visibility": null,
            "width": null
          }
        },
        "2585fa495b064b09b75c66319c2831a0": {
          "model_module": "@jupyter-widgets/controls",
          "model_name": "DescriptionStyleModel",
          "model_module_version": "1.5.0",
          "state": {
            "_model_module": "@jupyter-widgets/controls",
            "_model_module_version": "1.5.0",
            "_model_name": "DescriptionStyleModel",
            "_view_count": null,
            "_view_module": "@jupyter-widgets/base",
            "_view_module_version": "1.2.0",
            "_view_name": "StyleView",
            "description_width": ""
          }
        },
        "d8800c7f0272478d9b5b642be7093435": {
          "model_module": "@jupyter-widgets/base",
          "model_name": "LayoutModel",
          "model_module_version": "1.2.0",
          "state": {
            "_model_module": "@jupyter-widgets/base",
            "_model_module_version": "1.2.0",
            "_model_name": "LayoutModel",
            "_view_count": null,
            "_view_module": "@jupyter-widgets/base",
            "_view_module_version": "1.2.0",
            "_view_name": "LayoutView",
            "align_content": null,
            "align_items": null,
            "align_self": null,
            "border": null,
            "bottom": null,
            "display": null,
            "flex": null,
            "flex_flow": null,
            "grid_area": null,
            "grid_auto_columns": null,
            "grid_auto_flow": null,
            "grid_auto_rows": null,
            "grid_column": null,
            "grid_gap": null,
            "grid_row": null,
            "grid_template_areas": null,
            "grid_template_columns": null,
            "grid_template_rows": null,
            "height": null,
            "justify_content": null,
            "justify_items": null,
            "left": null,
            "margin": null,
            "max_height": null,
            "max_width": null,
            "min_height": null,
            "min_width": null,
            "object_fit": null,
            "object_position": null,
            "order": null,
            "overflow": null,
            "overflow_x": null,
            "overflow_y": null,
            "padding": null,
            "right": null,
            "top": null,
            "visibility": null,
            "width": null
          }
        },
        "5cdc502eb0b2469b9faf1a00971be77e": {
          "model_module": "@jupyter-widgets/controls",
          "model_name": "ProgressStyleModel",
          "model_module_version": "1.5.0",
          "state": {
            "_model_module": "@jupyter-widgets/controls",
            "_model_module_version": "1.5.0",
            "_model_name": "ProgressStyleModel",
            "_view_count": null,
            "_view_module": "@jupyter-widgets/base",
            "_view_module_version": "1.2.0",
            "_view_name": "StyleView",
            "bar_color": null,
            "description_width": ""
          }
        },
        "720615f234984791a4e2a7579bfb7ea9": {
          "model_module": "@jupyter-widgets/base",
          "model_name": "LayoutModel",
          "model_module_version": "1.2.0",
          "state": {
            "_model_module": "@jupyter-widgets/base",
            "_model_module_version": "1.2.0",
            "_model_name": "LayoutModel",
            "_view_count": null,
            "_view_module": "@jupyter-widgets/base",
            "_view_module_version": "1.2.0",
            "_view_name": "LayoutView",
            "align_content": null,
            "align_items": null,
            "align_self": null,
            "border": null,
            "bottom": null,
            "display": null,
            "flex": null,
            "flex_flow": null,
            "grid_area": null,
            "grid_auto_columns": null,
            "grid_auto_flow": null,
            "grid_auto_rows": null,
            "grid_column": null,
            "grid_gap": null,
            "grid_row": null,
            "grid_template_areas": null,
            "grid_template_columns": null,
            "grid_template_rows": null,
            "height": null,
            "justify_content": null,
            "justify_items": null,
            "left": null,
            "margin": null,
            "max_height": null,
            "max_width": null,
            "min_height": null,
            "min_width": null,
            "object_fit": null,
            "object_position": null,
            "order": null,
            "overflow": null,
            "overflow_x": null,
            "overflow_y": null,
            "padding": null,
            "right": null,
            "top": null,
            "visibility": null,
            "width": null
          }
        },
        "ba7db856acca4011a5d37b83c59736c3": {
          "model_module": "@jupyter-widgets/controls",
          "model_name": "DescriptionStyleModel",
          "model_module_version": "1.5.0",
          "state": {
            "_model_module": "@jupyter-widgets/controls",
            "_model_module_version": "1.5.0",
            "_model_name": "DescriptionStyleModel",
            "_view_count": null,
            "_view_module": "@jupyter-widgets/base",
            "_view_module_version": "1.2.0",
            "_view_name": "StyleView",
            "description_width": ""
          }
        },
        "cc9a4209fb764a6a9889bb4c8767b3da": {
          "model_module": "@jupyter-widgets/controls",
          "model_name": "HBoxModel",
          "model_module_version": "1.5.0",
          "state": {
            "_dom_classes": [],
            "_model_module": "@jupyter-widgets/controls",
            "_model_module_version": "1.5.0",
            "_model_name": "HBoxModel",
            "_view_count": null,
            "_view_module": "@jupyter-widgets/controls",
            "_view_module_version": "1.5.0",
            "_view_name": "HBoxView",
            "box_style": "",
            "children": [
              "IPY_MODEL_06089ea730734872b31e952b7ee7b552",
              "IPY_MODEL_5844619a1bc2412cbeaf89f2ce205a5c",
              "IPY_MODEL_6a343578e52a4a13a2606fcede0770de"
            ],
            "layout": "IPY_MODEL_f26e0ae72d9c4f93a8ba12bdea8889c0"
          }
        },
        "06089ea730734872b31e952b7ee7b552": {
          "model_module": "@jupyter-widgets/controls",
          "model_name": "HTMLModel",
          "model_module_version": "1.5.0",
          "state": {
            "_dom_classes": [],
            "_model_module": "@jupyter-widgets/controls",
            "_model_module_version": "1.5.0",
            "_model_name": "HTMLModel",
            "_view_count": null,
            "_view_module": "@jupyter-widgets/controls",
            "_view_module_version": "1.5.0",
            "_view_name": "HTMLView",
            "description": "",
            "description_tooltip": null,
            "layout": "IPY_MODEL_b107c24d73c74f24ac68370565907652",
            "placeholder": "​",
            "style": "IPY_MODEL_f5071c10bf704541b91c8b98d4ec6c87",
            "value": "Downloading (…)solve/main/vocab.txt: 100%"
          }
        },
        "5844619a1bc2412cbeaf89f2ce205a5c": {
          "model_module": "@jupyter-widgets/controls",
          "model_name": "FloatProgressModel",
          "model_module_version": "1.5.0",
          "state": {
            "_dom_classes": [],
            "_model_module": "@jupyter-widgets/controls",
            "_model_module_version": "1.5.0",
            "_model_name": "FloatProgressModel",
            "_view_count": null,
            "_view_module": "@jupyter-widgets/controls",
            "_view_module_version": "1.5.0",
            "_view_name": "ProgressView",
            "bar_style": "success",
            "description": "",
            "description_tooltip": null,
            "layout": "IPY_MODEL_60931c56a83649089c9daf168346aa91",
            "max": 895321,
            "min": 0,
            "orientation": "horizontal",
            "style": "IPY_MODEL_ae787c85166a4e31b0685af796569ab2",
            "value": 895321
          }
        },
        "6a343578e52a4a13a2606fcede0770de": {
          "model_module": "@jupyter-widgets/controls",
          "model_name": "HTMLModel",
          "model_module_version": "1.5.0",
          "state": {
            "_dom_classes": [],
            "_model_module": "@jupyter-widgets/controls",
            "_model_module_version": "1.5.0",
            "_model_name": "HTMLModel",
            "_view_count": null,
            "_view_module": "@jupyter-widgets/controls",
            "_view_module_version": "1.5.0",
            "_view_name": "HTMLView",
            "description": "",
            "description_tooltip": null,
            "layout": "IPY_MODEL_f14086fa47bb4ad1abeed8bc00b4ec9b",
            "placeholder": "​",
            "style": "IPY_MODEL_75391442475149c28d305b844c85c046",
            "value": " 895k/895k [00:00&lt;00:00, 6.94MB/s]"
          }
        },
        "f26e0ae72d9c4f93a8ba12bdea8889c0": {
          "model_module": "@jupyter-widgets/base",
          "model_name": "LayoutModel",
          "model_module_version": "1.2.0",
          "state": {
            "_model_module": "@jupyter-widgets/base",
            "_model_module_version": "1.2.0",
            "_model_name": "LayoutModel",
            "_view_count": null,
            "_view_module": "@jupyter-widgets/base",
            "_view_module_version": "1.2.0",
            "_view_name": "LayoutView",
            "align_content": null,
            "align_items": null,
            "align_self": null,
            "border": null,
            "bottom": null,
            "display": null,
            "flex": null,
            "flex_flow": null,
            "grid_area": null,
            "grid_auto_columns": null,
            "grid_auto_flow": null,
            "grid_auto_rows": null,
            "grid_column": null,
            "grid_gap": null,
            "grid_row": null,
            "grid_template_areas": null,
            "grid_template_columns": null,
            "grid_template_rows": null,
            "height": null,
            "justify_content": null,
            "justify_items": null,
            "left": null,
            "margin": null,
            "max_height": null,
            "max_width": null,
            "min_height": null,
            "min_width": null,
            "object_fit": null,
            "object_position": null,
            "order": null,
            "overflow": null,
            "overflow_x": null,
            "overflow_y": null,
            "padding": null,
            "right": null,
            "top": null,
            "visibility": null,
            "width": null
          }
        },
        "b107c24d73c74f24ac68370565907652": {
          "model_module": "@jupyter-widgets/base",
          "model_name": "LayoutModel",
          "model_module_version": "1.2.0",
          "state": {
            "_model_module": "@jupyter-widgets/base",
            "_model_module_version": "1.2.0",
            "_model_name": "LayoutModel",
            "_view_count": null,
            "_view_module": "@jupyter-widgets/base",
            "_view_module_version": "1.2.0",
            "_view_name": "LayoutView",
            "align_content": null,
            "align_items": null,
            "align_self": null,
            "border": null,
            "bottom": null,
            "display": null,
            "flex": null,
            "flex_flow": null,
            "grid_area": null,
            "grid_auto_columns": null,
            "grid_auto_flow": null,
            "grid_auto_rows": null,
            "grid_column": null,
            "grid_gap": null,
            "grid_row": null,
            "grid_template_areas": null,
            "grid_template_columns": null,
            "grid_template_rows": null,
            "height": null,
            "justify_content": null,
            "justify_items": null,
            "left": null,
            "margin": null,
            "max_height": null,
            "max_width": null,
            "min_height": null,
            "min_width": null,
            "object_fit": null,
            "object_position": null,
            "order": null,
            "overflow": null,
            "overflow_x": null,
            "overflow_y": null,
            "padding": null,
            "right": null,
            "top": null,
            "visibility": null,
            "width": null
          }
        },
        "f5071c10bf704541b91c8b98d4ec6c87": {
          "model_module": "@jupyter-widgets/controls",
          "model_name": "DescriptionStyleModel",
          "model_module_version": "1.5.0",
          "state": {
            "_model_module": "@jupyter-widgets/controls",
            "_model_module_version": "1.5.0",
            "_model_name": "DescriptionStyleModel",
            "_view_count": null,
            "_view_module": "@jupyter-widgets/base",
            "_view_module_version": "1.2.0",
            "_view_name": "StyleView",
            "description_width": ""
          }
        },
        "60931c56a83649089c9daf168346aa91": {
          "model_module": "@jupyter-widgets/base",
          "model_name": "LayoutModel",
          "model_module_version": "1.2.0",
          "state": {
            "_model_module": "@jupyter-widgets/base",
            "_model_module_version": "1.2.0",
            "_model_name": "LayoutModel",
            "_view_count": null,
            "_view_module": "@jupyter-widgets/base",
            "_view_module_version": "1.2.0",
            "_view_name": "LayoutView",
            "align_content": null,
            "align_items": null,
            "align_self": null,
            "border": null,
            "bottom": null,
            "display": null,
            "flex": null,
            "flex_flow": null,
            "grid_area": null,
            "grid_auto_columns": null,
            "grid_auto_flow": null,
            "grid_auto_rows": null,
            "grid_column": null,
            "grid_gap": null,
            "grid_row": null,
            "grid_template_areas": null,
            "grid_template_columns": null,
            "grid_template_rows": null,
            "height": null,
            "justify_content": null,
            "justify_items": null,
            "left": null,
            "margin": null,
            "max_height": null,
            "max_width": null,
            "min_height": null,
            "min_width": null,
            "object_fit": null,
            "object_position": null,
            "order": null,
            "overflow": null,
            "overflow_x": null,
            "overflow_y": null,
            "padding": null,
            "right": null,
            "top": null,
            "visibility": null,
            "width": null
          }
        },
        "ae787c85166a4e31b0685af796569ab2": {
          "model_module": "@jupyter-widgets/controls",
          "model_name": "ProgressStyleModel",
          "model_module_version": "1.5.0",
          "state": {
            "_model_module": "@jupyter-widgets/controls",
            "_model_module_version": "1.5.0",
            "_model_name": "ProgressStyleModel",
            "_view_count": null,
            "_view_module": "@jupyter-widgets/base",
            "_view_module_version": "1.2.0",
            "_view_name": "StyleView",
            "bar_color": null,
            "description_width": ""
          }
        },
        "f14086fa47bb4ad1abeed8bc00b4ec9b": {
          "model_module": "@jupyter-widgets/base",
          "model_name": "LayoutModel",
          "model_module_version": "1.2.0",
          "state": {
            "_model_module": "@jupyter-widgets/base",
            "_model_module_version": "1.2.0",
            "_model_name": "LayoutModel",
            "_view_count": null,
            "_view_module": "@jupyter-widgets/base",
            "_view_module_version": "1.2.0",
            "_view_name": "LayoutView",
            "align_content": null,
            "align_items": null,
            "align_self": null,
            "border": null,
            "bottom": null,
            "display": null,
            "flex": null,
            "flex_flow": null,
            "grid_area": null,
            "grid_auto_columns": null,
            "grid_auto_flow": null,
            "grid_auto_rows": null,
            "grid_column": null,
            "grid_gap": null,
            "grid_row": null,
            "grid_template_areas": null,
            "grid_template_columns": null,
            "grid_template_rows": null,
            "height": null,
            "justify_content": null,
            "justify_items": null,
            "left": null,
            "margin": null,
            "max_height": null,
            "max_width": null,
            "min_height": null,
            "min_width": null,
            "object_fit": null,
            "object_position": null,
            "order": null,
            "overflow": null,
            "overflow_x": null,
            "overflow_y": null,
            "padding": null,
            "right": null,
            "top": null,
            "visibility": null,
            "width": null
          }
        },
        "75391442475149c28d305b844c85c046": {
          "model_module": "@jupyter-widgets/controls",
          "model_name": "DescriptionStyleModel",
          "model_module_version": "1.5.0",
          "state": {
            "_model_module": "@jupyter-widgets/controls",
            "_model_module_version": "1.5.0",
            "_model_name": "DescriptionStyleModel",
            "_view_count": null,
            "_view_module": "@jupyter-widgets/base",
            "_view_module_version": "1.2.0",
            "_view_name": "StyleView",
            "description_width": ""
          }
        },
        "0b8e7cd99e194904ac9773130713979e": {
          "model_module": "@jupyter-widgets/controls",
          "model_name": "HBoxModel",
          "model_module_version": "1.5.0",
          "state": {
            "_dom_classes": [],
            "_model_module": "@jupyter-widgets/controls",
            "_model_module_version": "1.5.0",
            "_model_name": "HBoxModel",
            "_view_count": null,
            "_view_module": "@jupyter-widgets/controls",
            "_view_module_version": "1.5.0",
            "_view_name": "HBoxView",
            "box_style": "",
            "children": [
              "IPY_MODEL_5e8df91f986749139aeb380690128130",
              "IPY_MODEL_8b3e49f1921a48a4a7e2735dc6b79e6e",
              "IPY_MODEL_4a4af30505104cc7ba030c7066a0b27e"
            ],
            "layout": "IPY_MODEL_fa95f350efcd43209094993c05daf725"
          }
        },
        "5e8df91f986749139aeb380690128130": {
          "model_module": "@jupyter-widgets/controls",
          "model_name": "HTMLModel",
          "model_module_version": "1.5.0",
          "state": {
            "_dom_classes": [],
            "_model_module": "@jupyter-widgets/controls",
            "_model_module_version": "1.5.0",
            "_model_name": "HTMLModel",
            "_view_count": null,
            "_view_module": "@jupyter-widgets/controls",
            "_view_module_version": "1.5.0",
            "_view_name": "HTMLView",
            "description": "",
            "description_tooltip": null,
            "layout": "IPY_MODEL_f1299d63e64b45c9bcd37a74f45e52ec",
            "placeholder": "​",
            "style": "IPY_MODEL_a71080dff03b4c5a98cf86497050d564",
            "value": "Downloading (…)solve/main/bpe.codes: 100%"
          }
        },
        "8b3e49f1921a48a4a7e2735dc6b79e6e": {
          "model_module": "@jupyter-widgets/controls",
          "model_name": "FloatProgressModel",
          "model_module_version": "1.5.0",
          "state": {
            "_dom_classes": [],
            "_model_module": "@jupyter-widgets/controls",
            "_model_module_version": "1.5.0",
            "_model_name": "FloatProgressModel",
            "_view_count": null,
            "_view_module": "@jupyter-widgets/controls",
            "_view_module_version": "1.5.0",
            "_view_name": "ProgressView",
            "bar_style": "success",
            "description": "",
            "description_tooltip": null,
            "layout": "IPY_MODEL_fd090578672846f3b319abbc5598367e",
            "max": 1135173,
            "min": 0,
            "orientation": "horizontal",
            "style": "IPY_MODEL_447935c16f414749a4ad4d133b7b2fef",
            "value": 1135173
          }
        },
        "4a4af30505104cc7ba030c7066a0b27e": {
          "model_module": "@jupyter-widgets/controls",
          "model_name": "HTMLModel",
          "model_module_version": "1.5.0",
          "state": {
            "_dom_classes": [],
            "_model_module": "@jupyter-widgets/controls",
            "_model_module_version": "1.5.0",
            "_model_name": "HTMLModel",
            "_view_count": null,
            "_view_module": "@jupyter-widgets/controls",
            "_view_module_version": "1.5.0",
            "_view_name": "HTMLView",
            "description": "",
            "description_tooltip": null,
            "layout": "IPY_MODEL_7519943ba68641f2948ffb203fc9d4ec",
            "placeholder": "​",
            "style": "IPY_MODEL_d2a5d29c45284ae7b1729ad31e420cc9",
            "value": " 1.14M/1.14M [00:00&lt;00:00, 3.73MB/s]"
          }
        },
        "fa95f350efcd43209094993c05daf725": {
          "model_module": "@jupyter-widgets/base",
          "model_name": "LayoutModel",
          "model_module_version": "1.2.0",
          "state": {
            "_model_module": "@jupyter-widgets/base",
            "_model_module_version": "1.2.0",
            "_model_name": "LayoutModel",
            "_view_count": null,
            "_view_module": "@jupyter-widgets/base",
            "_view_module_version": "1.2.0",
            "_view_name": "LayoutView",
            "align_content": null,
            "align_items": null,
            "align_self": null,
            "border": null,
            "bottom": null,
            "display": null,
            "flex": null,
            "flex_flow": null,
            "grid_area": null,
            "grid_auto_columns": null,
            "grid_auto_flow": null,
            "grid_auto_rows": null,
            "grid_column": null,
            "grid_gap": null,
            "grid_row": null,
            "grid_template_areas": null,
            "grid_template_columns": null,
            "grid_template_rows": null,
            "height": null,
            "justify_content": null,
            "justify_items": null,
            "left": null,
            "margin": null,
            "max_height": null,
            "max_width": null,
            "min_height": null,
            "min_width": null,
            "object_fit": null,
            "object_position": null,
            "order": null,
            "overflow": null,
            "overflow_x": null,
            "overflow_y": null,
            "padding": null,
            "right": null,
            "top": null,
            "visibility": null,
            "width": null
          }
        },
        "f1299d63e64b45c9bcd37a74f45e52ec": {
          "model_module": "@jupyter-widgets/base",
          "model_name": "LayoutModel",
          "model_module_version": "1.2.0",
          "state": {
            "_model_module": "@jupyter-widgets/base",
            "_model_module_version": "1.2.0",
            "_model_name": "LayoutModel",
            "_view_count": null,
            "_view_module": "@jupyter-widgets/base",
            "_view_module_version": "1.2.0",
            "_view_name": "LayoutView",
            "align_content": null,
            "align_items": null,
            "align_self": null,
            "border": null,
            "bottom": null,
            "display": null,
            "flex": null,
            "flex_flow": null,
            "grid_area": null,
            "grid_auto_columns": null,
            "grid_auto_flow": null,
            "grid_auto_rows": null,
            "grid_column": null,
            "grid_gap": null,
            "grid_row": null,
            "grid_template_areas": null,
            "grid_template_columns": null,
            "grid_template_rows": null,
            "height": null,
            "justify_content": null,
            "justify_items": null,
            "left": null,
            "margin": null,
            "max_height": null,
            "max_width": null,
            "min_height": null,
            "min_width": null,
            "object_fit": null,
            "object_position": null,
            "order": null,
            "overflow": null,
            "overflow_x": null,
            "overflow_y": null,
            "padding": null,
            "right": null,
            "top": null,
            "visibility": null,
            "width": null
          }
        },
        "a71080dff03b4c5a98cf86497050d564": {
          "model_module": "@jupyter-widgets/controls",
          "model_name": "DescriptionStyleModel",
          "model_module_version": "1.5.0",
          "state": {
            "_model_module": "@jupyter-widgets/controls",
            "_model_module_version": "1.5.0",
            "_model_name": "DescriptionStyleModel",
            "_view_count": null,
            "_view_module": "@jupyter-widgets/base",
            "_view_module_version": "1.2.0",
            "_view_name": "StyleView",
            "description_width": ""
          }
        },
        "fd090578672846f3b319abbc5598367e": {
          "model_module": "@jupyter-widgets/base",
          "model_name": "LayoutModel",
          "model_module_version": "1.2.0",
          "state": {
            "_model_module": "@jupyter-widgets/base",
            "_model_module_version": "1.2.0",
            "_model_name": "LayoutModel",
            "_view_count": null,
            "_view_module": "@jupyter-widgets/base",
            "_view_module_version": "1.2.0",
            "_view_name": "LayoutView",
            "align_content": null,
            "align_items": null,
            "align_self": null,
            "border": null,
            "bottom": null,
            "display": null,
            "flex": null,
            "flex_flow": null,
            "grid_area": null,
            "grid_auto_columns": null,
            "grid_auto_flow": null,
            "grid_auto_rows": null,
            "grid_column": null,
            "grid_gap": null,
            "grid_row": null,
            "grid_template_areas": null,
            "grid_template_columns": null,
            "grid_template_rows": null,
            "height": null,
            "justify_content": null,
            "justify_items": null,
            "left": null,
            "margin": null,
            "max_height": null,
            "max_width": null,
            "min_height": null,
            "min_width": null,
            "object_fit": null,
            "object_position": null,
            "order": null,
            "overflow": null,
            "overflow_x": null,
            "overflow_y": null,
            "padding": null,
            "right": null,
            "top": null,
            "visibility": null,
            "width": null
          }
        },
        "447935c16f414749a4ad4d133b7b2fef": {
          "model_module": "@jupyter-widgets/controls",
          "model_name": "ProgressStyleModel",
          "model_module_version": "1.5.0",
          "state": {
            "_model_module": "@jupyter-widgets/controls",
            "_model_module_version": "1.5.0",
            "_model_name": "ProgressStyleModel",
            "_view_count": null,
            "_view_module": "@jupyter-widgets/base",
            "_view_module_version": "1.2.0",
            "_view_name": "StyleView",
            "bar_color": null,
            "description_width": ""
          }
        },
        "7519943ba68641f2948ffb203fc9d4ec": {
          "model_module": "@jupyter-widgets/base",
          "model_name": "LayoutModel",
          "model_module_version": "1.2.0",
          "state": {
            "_model_module": "@jupyter-widgets/base",
            "_model_module_version": "1.2.0",
            "_model_name": "LayoutModel",
            "_view_count": null,
            "_view_module": "@jupyter-widgets/base",
            "_view_module_version": "1.2.0",
            "_view_name": "LayoutView",
            "align_content": null,
            "align_items": null,
            "align_self": null,
            "border": null,
            "bottom": null,
            "display": null,
            "flex": null,
            "flex_flow": null,
            "grid_area": null,
            "grid_auto_columns": null,
            "grid_auto_flow": null,
            "grid_auto_rows": null,
            "grid_column": null,
            "grid_gap": null,
            "grid_row": null,
            "grid_template_areas": null,
            "grid_template_columns": null,
            "grid_template_rows": null,
            "height": null,
            "justify_content": null,
            "justify_items": null,
            "left": null,
            "margin": null,
            "max_height": null,
            "max_width": null,
            "min_height": null,
            "min_width": null,
            "object_fit": null,
            "object_position": null,
            "order": null,
            "overflow": null,
            "overflow_x": null,
            "overflow_y": null,
            "padding": null,
            "right": null,
            "top": null,
            "visibility": null,
            "width": null
          }
        },
        "d2a5d29c45284ae7b1729ad31e420cc9": {
          "model_module": "@jupyter-widgets/controls",
          "model_name": "DescriptionStyleModel",
          "model_module_version": "1.5.0",
          "state": {
            "_model_module": "@jupyter-widgets/controls",
            "_model_module_version": "1.5.0",
            "_model_name": "DescriptionStyleModel",
            "_view_count": null,
            "_view_module": "@jupyter-widgets/base",
            "_view_module_version": "1.2.0",
            "_view_name": "StyleView",
            "description_width": ""
          }
        },
        "c3cca8fc7a634871ba01fd7bb091b4d1": {
          "model_module": "@jupyter-widgets/controls",
          "model_name": "HBoxModel",
          "model_module_version": "1.5.0",
          "state": {
            "_dom_classes": [],
            "_model_module": "@jupyter-widgets/controls",
            "_model_module_version": "1.5.0",
            "_model_name": "HBoxModel",
            "_view_count": null,
            "_view_module": "@jupyter-widgets/controls",
            "_view_module_version": "1.5.0",
            "_view_name": "HBoxView",
            "box_style": "",
            "children": [
              "IPY_MODEL_056968313f924fb884b3e020fbded5c7",
              "IPY_MODEL_bb91fb49b67040bab3a511876400b770",
              "IPY_MODEL_91c63bdf3e88490180c4b9b0a5fab8ab"
            ],
            "layout": "IPY_MODEL_bfe51f7c4a8648bda0f5152653726e4c"
          }
        },
        "056968313f924fb884b3e020fbded5c7": {
          "model_module": "@jupyter-widgets/controls",
          "model_name": "HTMLModel",
          "model_module_version": "1.5.0",
          "state": {
            "_dom_classes": [],
            "_model_module": "@jupyter-widgets/controls",
            "_model_module_version": "1.5.0",
            "_model_name": "HTMLModel",
            "_view_count": null,
            "_view_module": "@jupyter-widgets/controls",
            "_view_module_version": "1.5.0",
            "_view_name": "HTMLView",
            "description": "",
            "description_tooltip": null,
            "layout": "IPY_MODEL_f8ed133daf2b4c04836d4d3e7dca07f4",
            "placeholder": "​",
            "style": "IPY_MODEL_a0c6d67fa58d45b1b4cb832be9cbf8db",
            "value": "Downloading (…)lve/main/config.json: 100%"
          }
        },
        "bb91fb49b67040bab3a511876400b770": {
          "model_module": "@jupyter-widgets/controls",
          "model_name": "FloatProgressModel",
          "model_module_version": "1.5.0",
          "state": {
            "_dom_classes": [],
            "_model_module": "@jupyter-widgets/controls",
            "_model_module_version": "1.5.0",
            "_model_name": "FloatProgressModel",
            "_view_count": null,
            "_view_module": "@jupyter-widgets/controls",
            "_view_module_version": "1.5.0",
            "_view_name": "ProgressView",
            "bar_style": "success",
            "description": "",
            "description_tooltip": null,
            "layout": "IPY_MODEL_306867d3ccc642f4b9066f79c270a46f",
            "max": 557,
            "min": 0,
            "orientation": "horizontal",
            "style": "IPY_MODEL_e639f689df8e483b9ee1ab510f2926e4",
            "value": 557
          }
        },
        "91c63bdf3e88490180c4b9b0a5fab8ab": {
          "model_module": "@jupyter-widgets/controls",
          "model_name": "HTMLModel",
          "model_module_version": "1.5.0",
          "state": {
            "_dom_classes": [],
            "_model_module": "@jupyter-widgets/controls",
            "_model_module_version": "1.5.0",
            "_model_name": "HTMLModel",
            "_view_count": null,
            "_view_module": "@jupyter-widgets/controls",
            "_view_module_version": "1.5.0",
            "_view_name": "HTMLView",
            "description": "",
            "description_tooltip": null,
            "layout": "IPY_MODEL_7681a768bd884be8b9558370351e923f",
            "placeholder": "​",
            "style": "IPY_MODEL_de387d0c88aa4dea900635007ee502b5",
            "value": " 557/557 [00:00&lt;00:00, 34.7kB/s]"
          }
        },
        "bfe51f7c4a8648bda0f5152653726e4c": {
          "model_module": "@jupyter-widgets/base",
          "model_name": "LayoutModel",
          "model_module_version": "1.2.0",
          "state": {
            "_model_module": "@jupyter-widgets/base",
            "_model_module_version": "1.2.0",
            "_model_name": "LayoutModel",
            "_view_count": null,
            "_view_module": "@jupyter-widgets/base",
            "_view_module_version": "1.2.0",
            "_view_name": "LayoutView",
            "align_content": null,
            "align_items": null,
            "align_self": null,
            "border": null,
            "bottom": null,
            "display": null,
            "flex": null,
            "flex_flow": null,
            "grid_area": null,
            "grid_auto_columns": null,
            "grid_auto_flow": null,
            "grid_auto_rows": null,
            "grid_column": null,
            "grid_gap": null,
            "grid_row": null,
            "grid_template_areas": null,
            "grid_template_columns": null,
            "grid_template_rows": null,
            "height": null,
            "justify_content": null,
            "justify_items": null,
            "left": null,
            "margin": null,
            "max_height": null,
            "max_width": null,
            "min_height": null,
            "min_width": null,
            "object_fit": null,
            "object_position": null,
            "order": null,
            "overflow": null,
            "overflow_x": null,
            "overflow_y": null,
            "padding": null,
            "right": null,
            "top": null,
            "visibility": null,
            "width": null
          }
        },
        "f8ed133daf2b4c04836d4d3e7dca07f4": {
          "model_module": "@jupyter-widgets/base",
          "model_name": "LayoutModel",
          "model_module_version": "1.2.0",
          "state": {
            "_model_module": "@jupyter-widgets/base",
            "_model_module_version": "1.2.0",
            "_model_name": "LayoutModel",
            "_view_count": null,
            "_view_module": "@jupyter-widgets/base",
            "_view_module_version": "1.2.0",
            "_view_name": "LayoutView",
            "align_content": null,
            "align_items": null,
            "align_self": null,
            "border": null,
            "bottom": null,
            "display": null,
            "flex": null,
            "flex_flow": null,
            "grid_area": null,
            "grid_auto_columns": null,
            "grid_auto_flow": null,
            "grid_auto_rows": null,
            "grid_column": null,
            "grid_gap": null,
            "grid_row": null,
            "grid_template_areas": null,
            "grid_template_columns": null,
            "grid_template_rows": null,
            "height": null,
            "justify_content": null,
            "justify_items": null,
            "left": null,
            "margin": null,
            "max_height": null,
            "max_width": null,
            "min_height": null,
            "min_width": null,
            "object_fit": null,
            "object_position": null,
            "order": null,
            "overflow": null,
            "overflow_x": null,
            "overflow_y": null,
            "padding": null,
            "right": null,
            "top": null,
            "visibility": null,
            "width": null
          }
        },
        "a0c6d67fa58d45b1b4cb832be9cbf8db": {
          "model_module": "@jupyter-widgets/controls",
          "model_name": "DescriptionStyleModel",
          "model_module_version": "1.5.0",
          "state": {
            "_model_module": "@jupyter-widgets/controls",
            "_model_module_version": "1.5.0",
            "_model_name": "DescriptionStyleModel",
            "_view_count": null,
            "_view_module": "@jupyter-widgets/base",
            "_view_module_version": "1.2.0",
            "_view_name": "StyleView",
            "description_width": ""
          }
        },
        "306867d3ccc642f4b9066f79c270a46f": {
          "model_module": "@jupyter-widgets/base",
          "model_name": "LayoutModel",
          "model_module_version": "1.2.0",
          "state": {
            "_model_module": "@jupyter-widgets/base",
            "_model_module_version": "1.2.0",
            "_model_name": "LayoutModel",
            "_view_count": null,
            "_view_module": "@jupyter-widgets/base",
            "_view_module_version": "1.2.0",
            "_view_name": "LayoutView",
            "align_content": null,
            "align_items": null,
            "align_self": null,
            "border": null,
            "bottom": null,
            "display": null,
            "flex": null,
            "flex_flow": null,
            "grid_area": null,
            "grid_auto_columns": null,
            "grid_auto_flow": null,
            "grid_auto_rows": null,
            "grid_column": null,
            "grid_gap": null,
            "grid_row": null,
            "grid_template_areas": null,
            "grid_template_columns": null,
            "grid_template_rows": null,
            "height": null,
            "justify_content": null,
            "justify_items": null,
            "left": null,
            "margin": null,
            "max_height": null,
            "max_width": null,
            "min_height": null,
            "min_width": null,
            "object_fit": null,
            "object_position": null,
            "order": null,
            "overflow": null,
            "overflow_x": null,
            "overflow_y": null,
            "padding": null,
            "right": null,
            "top": null,
            "visibility": null,
            "width": null
          }
        },
        "e639f689df8e483b9ee1ab510f2926e4": {
          "model_module": "@jupyter-widgets/controls",
          "model_name": "ProgressStyleModel",
          "model_module_version": "1.5.0",
          "state": {
            "_model_module": "@jupyter-widgets/controls",
            "_model_module_version": "1.5.0",
            "_model_name": "ProgressStyleModel",
            "_view_count": null,
            "_view_module": "@jupyter-widgets/base",
            "_view_module_version": "1.2.0",
            "_view_name": "StyleView",
            "bar_color": null,
            "description_width": ""
          }
        },
        "7681a768bd884be8b9558370351e923f": {
          "model_module": "@jupyter-widgets/base",
          "model_name": "LayoutModel",
          "model_module_version": "1.2.0",
          "state": {
            "_model_module": "@jupyter-widgets/base",
            "_model_module_version": "1.2.0",
            "_model_name": "LayoutModel",
            "_view_count": null,
            "_view_module": "@jupyter-widgets/base",
            "_view_module_version": "1.2.0",
            "_view_name": "LayoutView",
            "align_content": null,
            "align_items": null,
            "align_self": null,
            "border": null,
            "bottom": null,
            "display": null,
            "flex": null,
            "flex_flow": null,
            "grid_area": null,
            "grid_auto_columns": null,
            "grid_auto_flow": null,
            "grid_auto_rows": null,
            "grid_column": null,
            "grid_gap": null,
            "grid_row": null,
            "grid_template_areas": null,
            "grid_template_columns": null,
            "grid_template_rows": null,
            "height": null,
            "justify_content": null,
            "justify_items": null,
            "left": null,
            "margin": null,
            "max_height": null,
            "max_width": null,
            "min_height": null,
            "min_width": null,
            "object_fit": null,
            "object_position": null,
            "order": null,
            "overflow": null,
            "overflow_x": null,
            "overflow_y": null,
            "padding": null,
            "right": null,
            "top": null,
            "visibility": null,
            "width": null
          }
        },
        "de387d0c88aa4dea900635007ee502b5": {
          "model_module": "@jupyter-widgets/controls",
          "model_name": "DescriptionStyleModel",
          "model_module_version": "1.5.0",
          "state": {
            "_model_module": "@jupyter-widgets/controls",
            "_model_module_version": "1.5.0",
            "_model_name": "DescriptionStyleModel",
            "_view_count": null,
            "_view_module": "@jupyter-widgets/base",
            "_view_module_version": "1.2.0",
            "_view_name": "StyleView",
            "description_width": ""
          }
        },
        "444560c78aa94abdb7a4078566312c63": {
          "model_module": "@jupyter-widgets/controls",
          "model_name": "HBoxModel",
          "model_module_version": "1.5.0",
          "state": {
            "_dom_classes": [],
            "_model_module": "@jupyter-widgets/controls",
            "_model_module_version": "1.5.0",
            "_model_name": "HBoxModel",
            "_view_count": null,
            "_view_module": "@jupyter-widgets/controls",
            "_view_module_version": "1.5.0",
            "_view_name": "HBoxView",
            "box_style": "",
            "children": [
              "IPY_MODEL_7bc24b718bc64efabed89ac1be731264",
              "IPY_MODEL_6876a9221dba45989091b1ad82330837",
              "IPY_MODEL_b758a4f9863a4ba19050207b6666323d"
            ],
            "layout": "IPY_MODEL_521a70e815754e77ab4ce382385432be"
          }
        },
        "7bc24b718bc64efabed89ac1be731264": {
          "model_module": "@jupyter-widgets/controls",
          "model_name": "HTMLModel",
          "model_module_version": "1.5.0",
          "state": {
            "_dom_classes": [],
            "_model_module": "@jupyter-widgets/controls",
            "_model_module_version": "1.5.0",
            "_model_name": "HTMLModel",
            "_view_count": null,
            "_view_module": "@jupyter-widgets/controls",
            "_view_module_version": "1.5.0",
            "_view_name": "HTMLView",
            "description": "",
            "description_tooltip": null,
            "layout": "IPY_MODEL_45c7c6b640ea4006a1e23f3c126c541a",
            "placeholder": "​",
            "style": "IPY_MODEL_2dc97f2a8d7844e1ba02004812b3c379",
            "value": "Downloading (…)solve/main/vocab.txt: 100%"
          }
        },
        "6876a9221dba45989091b1ad82330837": {
          "model_module": "@jupyter-widgets/controls",
          "model_name": "FloatProgressModel",
          "model_module_version": "1.5.0",
          "state": {
            "_dom_classes": [],
            "_model_module": "@jupyter-widgets/controls",
            "_model_module_version": "1.5.0",
            "_model_name": "FloatProgressModel",
            "_view_count": null,
            "_view_module": "@jupyter-widgets/controls",
            "_view_module_version": "1.5.0",
            "_view_name": "ProgressView",
            "bar_style": "success",
            "description": "",
            "description_tooltip": null,
            "layout": "IPY_MODEL_f6fea8ae85684510ad81e33baaad495c",
            "max": 895321,
            "min": 0,
            "orientation": "horizontal",
            "style": "IPY_MODEL_78a77814f0b24d6cb63f6f5954694790",
            "value": 895321
          }
        },
        "b758a4f9863a4ba19050207b6666323d": {
          "model_module": "@jupyter-widgets/controls",
          "model_name": "HTMLModel",
          "model_module_version": "1.5.0",
          "state": {
            "_dom_classes": [],
            "_model_module": "@jupyter-widgets/controls",
            "_model_module_version": "1.5.0",
            "_model_name": "HTMLModel",
            "_view_count": null,
            "_view_module": "@jupyter-widgets/controls",
            "_view_module_version": "1.5.0",
            "_view_name": "HTMLView",
            "description": "",
            "description_tooltip": null,
            "layout": "IPY_MODEL_48969ad43b964a0e8a665473c566816f",
            "placeholder": "​",
            "style": "IPY_MODEL_bc52e5299d694041a96134c94b2096b9",
            "value": " 895k/895k [00:00&lt;00:00, 3.57MB/s]"
          }
        },
        "521a70e815754e77ab4ce382385432be": {
          "model_module": "@jupyter-widgets/base",
          "model_name": "LayoutModel",
          "model_module_version": "1.2.0",
          "state": {
            "_model_module": "@jupyter-widgets/base",
            "_model_module_version": "1.2.0",
            "_model_name": "LayoutModel",
            "_view_count": null,
            "_view_module": "@jupyter-widgets/base",
            "_view_module_version": "1.2.0",
            "_view_name": "LayoutView",
            "align_content": null,
            "align_items": null,
            "align_self": null,
            "border": null,
            "bottom": null,
            "display": null,
            "flex": null,
            "flex_flow": null,
            "grid_area": null,
            "grid_auto_columns": null,
            "grid_auto_flow": null,
            "grid_auto_rows": null,
            "grid_column": null,
            "grid_gap": null,
            "grid_row": null,
            "grid_template_areas": null,
            "grid_template_columns": null,
            "grid_template_rows": null,
            "height": null,
            "justify_content": null,
            "justify_items": null,
            "left": null,
            "margin": null,
            "max_height": null,
            "max_width": null,
            "min_height": null,
            "min_width": null,
            "object_fit": null,
            "object_position": null,
            "order": null,
            "overflow": null,
            "overflow_x": null,
            "overflow_y": null,
            "padding": null,
            "right": null,
            "top": null,
            "visibility": null,
            "width": null
          }
        },
        "45c7c6b640ea4006a1e23f3c126c541a": {
          "model_module": "@jupyter-widgets/base",
          "model_name": "LayoutModel",
          "model_module_version": "1.2.0",
          "state": {
            "_model_module": "@jupyter-widgets/base",
            "_model_module_version": "1.2.0",
            "_model_name": "LayoutModel",
            "_view_count": null,
            "_view_module": "@jupyter-widgets/base",
            "_view_module_version": "1.2.0",
            "_view_name": "LayoutView",
            "align_content": null,
            "align_items": null,
            "align_self": null,
            "border": null,
            "bottom": null,
            "display": null,
            "flex": null,
            "flex_flow": null,
            "grid_area": null,
            "grid_auto_columns": null,
            "grid_auto_flow": null,
            "grid_auto_rows": null,
            "grid_column": null,
            "grid_gap": null,
            "grid_row": null,
            "grid_template_areas": null,
            "grid_template_columns": null,
            "grid_template_rows": null,
            "height": null,
            "justify_content": null,
            "justify_items": null,
            "left": null,
            "margin": null,
            "max_height": null,
            "max_width": null,
            "min_height": null,
            "min_width": null,
            "object_fit": null,
            "object_position": null,
            "order": null,
            "overflow": null,
            "overflow_x": null,
            "overflow_y": null,
            "padding": null,
            "right": null,
            "top": null,
            "visibility": null,
            "width": null
          }
        },
        "2dc97f2a8d7844e1ba02004812b3c379": {
          "model_module": "@jupyter-widgets/controls",
          "model_name": "DescriptionStyleModel",
          "model_module_version": "1.5.0",
          "state": {
            "_model_module": "@jupyter-widgets/controls",
            "_model_module_version": "1.5.0",
            "_model_name": "DescriptionStyleModel",
            "_view_count": null,
            "_view_module": "@jupyter-widgets/base",
            "_view_module_version": "1.2.0",
            "_view_name": "StyleView",
            "description_width": ""
          }
        },
        "f6fea8ae85684510ad81e33baaad495c": {
          "model_module": "@jupyter-widgets/base",
          "model_name": "LayoutModel",
          "model_module_version": "1.2.0",
          "state": {
            "_model_module": "@jupyter-widgets/base",
            "_model_module_version": "1.2.0",
            "_model_name": "LayoutModel",
            "_view_count": null,
            "_view_module": "@jupyter-widgets/base",
            "_view_module_version": "1.2.0",
            "_view_name": "LayoutView",
            "align_content": null,
            "align_items": null,
            "align_self": null,
            "border": null,
            "bottom": null,
            "display": null,
            "flex": null,
            "flex_flow": null,
            "grid_area": null,
            "grid_auto_columns": null,
            "grid_auto_flow": null,
            "grid_auto_rows": null,
            "grid_column": null,
            "grid_gap": null,
            "grid_row": null,
            "grid_template_areas": null,
            "grid_template_columns": null,
            "grid_template_rows": null,
            "height": null,
            "justify_content": null,
            "justify_items": null,
            "left": null,
            "margin": null,
            "max_height": null,
            "max_width": null,
            "min_height": null,
            "min_width": null,
            "object_fit": null,
            "object_position": null,
            "order": null,
            "overflow": null,
            "overflow_x": null,
            "overflow_y": null,
            "padding": null,
            "right": null,
            "top": null,
            "visibility": null,
            "width": null
          }
        },
        "78a77814f0b24d6cb63f6f5954694790": {
          "model_module": "@jupyter-widgets/controls",
          "model_name": "ProgressStyleModel",
          "model_module_version": "1.5.0",
          "state": {
            "_model_module": "@jupyter-widgets/controls",
            "_model_module_version": "1.5.0",
            "_model_name": "ProgressStyleModel",
            "_view_count": null,
            "_view_module": "@jupyter-widgets/base",
            "_view_module_version": "1.2.0",
            "_view_name": "StyleView",
            "bar_color": null,
            "description_width": ""
          }
        },
        "48969ad43b964a0e8a665473c566816f": {
          "model_module": "@jupyter-widgets/base",
          "model_name": "LayoutModel",
          "model_module_version": "1.2.0",
          "state": {
            "_model_module": "@jupyter-widgets/base",
            "_model_module_version": "1.2.0",
            "_model_name": "LayoutModel",
            "_view_count": null,
            "_view_module": "@jupyter-widgets/base",
            "_view_module_version": "1.2.0",
            "_view_name": "LayoutView",
            "align_content": null,
            "align_items": null,
            "align_self": null,
            "border": null,
            "bottom": null,
            "display": null,
            "flex": null,
            "flex_flow": null,
            "grid_area": null,
            "grid_auto_columns": null,
            "grid_auto_flow": null,
            "grid_auto_rows": null,
            "grid_column": null,
            "grid_gap": null,
            "grid_row": null,
            "grid_template_areas": null,
            "grid_template_columns": null,
            "grid_template_rows": null,
            "height": null,
            "justify_content": null,
            "justify_items": null,
            "left": null,
            "margin": null,
            "max_height": null,
            "max_width": null,
            "min_height": null,
            "min_width": null,
            "object_fit": null,
            "object_position": null,
            "order": null,
            "overflow": null,
            "overflow_x": null,
            "overflow_y": null,
            "padding": null,
            "right": null,
            "top": null,
            "visibility": null,
            "width": null
          }
        },
        "bc52e5299d694041a96134c94b2096b9": {
          "model_module": "@jupyter-widgets/controls",
          "model_name": "DescriptionStyleModel",
          "model_module_version": "1.5.0",
          "state": {
            "_model_module": "@jupyter-widgets/controls",
            "_model_module_version": "1.5.0",
            "_model_name": "DescriptionStyleModel",
            "_view_count": null,
            "_view_module": "@jupyter-widgets/base",
            "_view_module_version": "1.2.0",
            "_view_name": "StyleView",
            "description_width": ""
          }
        },
        "eeeaa46d32c64f07abd1f97d22a73a7a": {
          "model_module": "@jupyter-widgets/controls",
          "model_name": "HBoxModel",
          "model_module_version": "1.5.0",
          "state": {
            "_dom_classes": [],
            "_model_module": "@jupyter-widgets/controls",
            "_model_module_version": "1.5.0",
            "_model_name": "HBoxModel",
            "_view_count": null,
            "_view_module": "@jupyter-widgets/controls",
            "_view_module_version": "1.5.0",
            "_view_name": "HBoxView",
            "box_style": "",
            "children": [
              "IPY_MODEL_400be96544514103862ad641702323b6",
              "IPY_MODEL_0b20a7b5305f43a6a158924cb8daeb28",
              "IPY_MODEL_5bf3aae283724cb9a72716c2a45a649e"
            ],
            "layout": "IPY_MODEL_750d7e9cef984e7988dedf871c46ccf2"
          }
        },
        "400be96544514103862ad641702323b6": {
          "model_module": "@jupyter-widgets/controls",
          "model_name": "HTMLModel",
          "model_module_version": "1.5.0",
          "state": {
            "_dom_classes": [],
            "_model_module": "@jupyter-widgets/controls",
            "_model_module_version": "1.5.0",
            "_model_name": "HTMLModel",
            "_view_count": null,
            "_view_module": "@jupyter-widgets/controls",
            "_view_module_version": "1.5.0",
            "_view_name": "HTMLView",
            "description": "",
            "description_tooltip": null,
            "layout": "IPY_MODEL_c6bd4e52d7a645e5a225164a2774071f",
            "placeholder": "​",
            "style": "IPY_MODEL_e49d38fe2e1748afa3a50cea77876176",
            "value": "Downloading (…)solve/main/bpe.codes: 100%"
          }
        },
        "0b20a7b5305f43a6a158924cb8daeb28": {
          "model_module": "@jupyter-widgets/controls",
          "model_name": "FloatProgressModel",
          "model_module_version": "1.5.0",
          "state": {
            "_dom_classes": [],
            "_model_module": "@jupyter-widgets/controls",
            "_model_module_version": "1.5.0",
            "_model_name": "FloatProgressModel",
            "_view_count": null,
            "_view_module": "@jupyter-widgets/controls",
            "_view_module_version": "1.5.0",
            "_view_name": "ProgressView",
            "bar_style": "success",
            "description": "",
            "description_tooltip": null,
            "layout": "IPY_MODEL_1e575bf907134f5ead93b55ff31adab6",
            "max": 1135173,
            "min": 0,
            "orientation": "horizontal",
            "style": "IPY_MODEL_f583c17634aa49389288b173da13a711",
            "value": 1135173
          }
        },
        "5bf3aae283724cb9a72716c2a45a649e": {
          "model_module": "@jupyter-widgets/controls",
          "model_name": "HTMLModel",
          "model_module_version": "1.5.0",
          "state": {
            "_dom_classes": [],
            "_model_module": "@jupyter-widgets/controls",
            "_model_module_version": "1.5.0",
            "_model_name": "HTMLModel",
            "_view_count": null,
            "_view_module": "@jupyter-widgets/controls",
            "_view_module_version": "1.5.0",
            "_view_name": "HTMLView",
            "description": "",
            "description_tooltip": null,
            "layout": "IPY_MODEL_87a63665639a47fda315b431f58f416e",
            "placeholder": "​",
            "style": "IPY_MODEL_d958acbad33248669339a391976c8047",
            "value": " 1.14M/1.14M [00:00&lt;00:00, 38.0MB/s]"
          }
        },
        "750d7e9cef984e7988dedf871c46ccf2": {
          "model_module": "@jupyter-widgets/base",
          "model_name": "LayoutModel",
          "model_module_version": "1.2.0",
          "state": {
            "_model_module": "@jupyter-widgets/base",
            "_model_module_version": "1.2.0",
            "_model_name": "LayoutModel",
            "_view_count": null,
            "_view_module": "@jupyter-widgets/base",
            "_view_module_version": "1.2.0",
            "_view_name": "LayoutView",
            "align_content": null,
            "align_items": null,
            "align_self": null,
            "border": null,
            "bottom": null,
            "display": null,
            "flex": null,
            "flex_flow": null,
            "grid_area": null,
            "grid_auto_columns": null,
            "grid_auto_flow": null,
            "grid_auto_rows": null,
            "grid_column": null,
            "grid_gap": null,
            "grid_row": null,
            "grid_template_areas": null,
            "grid_template_columns": null,
            "grid_template_rows": null,
            "height": null,
            "justify_content": null,
            "justify_items": null,
            "left": null,
            "margin": null,
            "max_height": null,
            "max_width": null,
            "min_height": null,
            "min_width": null,
            "object_fit": null,
            "object_position": null,
            "order": null,
            "overflow": null,
            "overflow_x": null,
            "overflow_y": null,
            "padding": null,
            "right": null,
            "top": null,
            "visibility": null,
            "width": null
          }
        },
        "c6bd4e52d7a645e5a225164a2774071f": {
          "model_module": "@jupyter-widgets/base",
          "model_name": "LayoutModel",
          "model_module_version": "1.2.0",
          "state": {
            "_model_module": "@jupyter-widgets/base",
            "_model_module_version": "1.2.0",
            "_model_name": "LayoutModel",
            "_view_count": null,
            "_view_module": "@jupyter-widgets/base",
            "_view_module_version": "1.2.0",
            "_view_name": "LayoutView",
            "align_content": null,
            "align_items": null,
            "align_self": null,
            "border": null,
            "bottom": null,
            "display": null,
            "flex": null,
            "flex_flow": null,
            "grid_area": null,
            "grid_auto_columns": null,
            "grid_auto_flow": null,
            "grid_auto_rows": null,
            "grid_column": null,
            "grid_gap": null,
            "grid_row": null,
            "grid_template_areas": null,
            "grid_template_columns": null,
            "grid_template_rows": null,
            "height": null,
            "justify_content": null,
            "justify_items": null,
            "left": null,
            "margin": null,
            "max_height": null,
            "max_width": null,
            "min_height": null,
            "min_width": null,
            "object_fit": null,
            "object_position": null,
            "order": null,
            "overflow": null,
            "overflow_x": null,
            "overflow_y": null,
            "padding": null,
            "right": null,
            "top": null,
            "visibility": null,
            "width": null
          }
        },
        "e49d38fe2e1748afa3a50cea77876176": {
          "model_module": "@jupyter-widgets/controls",
          "model_name": "DescriptionStyleModel",
          "model_module_version": "1.5.0",
          "state": {
            "_model_module": "@jupyter-widgets/controls",
            "_model_module_version": "1.5.0",
            "_model_name": "DescriptionStyleModel",
            "_view_count": null,
            "_view_module": "@jupyter-widgets/base",
            "_view_module_version": "1.2.0",
            "_view_name": "StyleView",
            "description_width": ""
          }
        },
        "1e575bf907134f5ead93b55ff31adab6": {
          "model_module": "@jupyter-widgets/base",
          "model_name": "LayoutModel",
          "model_module_version": "1.2.0",
          "state": {
            "_model_module": "@jupyter-widgets/base",
            "_model_module_version": "1.2.0",
            "_model_name": "LayoutModel",
            "_view_count": null,
            "_view_module": "@jupyter-widgets/base",
            "_view_module_version": "1.2.0",
            "_view_name": "LayoutView",
            "align_content": null,
            "align_items": null,
            "align_self": null,
            "border": null,
            "bottom": null,
            "display": null,
            "flex": null,
            "flex_flow": null,
            "grid_area": null,
            "grid_auto_columns": null,
            "grid_auto_flow": null,
            "grid_auto_rows": null,
            "grid_column": null,
            "grid_gap": null,
            "grid_row": null,
            "grid_template_areas": null,
            "grid_template_columns": null,
            "grid_template_rows": null,
            "height": null,
            "justify_content": null,
            "justify_items": null,
            "left": null,
            "margin": null,
            "max_height": null,
            "max_width": null,
            "min_height": null,
            "min_width": null,
            "object_fit": null,
            "object_position": null,
            "order": null,
            "overflow": null,
            "overflow_x": null,
            "overflow_y": null,
            "padding": null,
            "right": null,
            "top": null,
            "visibility": null,
            "width": null
          }
        },
        "f583c17634aa49389288b173da13a711": {
          "model_module": "@jupyter-widgets/controls",
          "model_name": "ProgressStyleModel",
          "model_module_version": "1.5.0",
          "state": {
            "_model_module": "@jupyter-widgets/controls",
            "_model_module_version": "1.5.0",
            "_model_name": "ProgressStyleModel",
            "_view_count": null,
            "_view_module": "@jupyter-widgets/base",
            "_view_module_version": "1.2.0",
            "_view_name": "StyleView",
            "bar_color": null,
            "description_width": ""
          }
        },
        "87a63665639a47fda315b431f58f416e": {
          "model_module": "@jupyter-widgets/base",
          "model_name": "LayoutModel",
          "model_module_version": "1.2.0",
          "state": {
            "_model_module": "@jupyter-widgets/base",
            "_model_module_version": "1.2.0",
            "_model_name": "LayoutModel",
            "_view_count": null,
            "_view_module": "@jupyter-widgets/base",
            "_view_module_version": "1.2.0",
            "_view_name": "LayoutView",
            "align_content": null,
            "align_items": null,
            "align_self": null,
            "border": null,
            "bottom": null,
            "display": null,
            "flex": null,
            "flex_flow": null,
            "grid_area": null,
            "grid_auto_columns": null,
            "grid_auto_flow": null,
            "grid_auto_rows": null,
            "grid_column": null,
            "grid_gap": null,
            "grid_row": null,
            "grid_template_areas": null,
            "grid_template_columns": null,
            "grid_template_rows": null,
            "height": null,
            "justify_content": null,
            "justify_items": null,
            "left": null,
            "margin": null,
            "max_height": null,
            "max_width": null,
            "min_height": null,
            "min_width": null,
            "object_fit": null,
            "object_position": null,
            "order": null,
            "overflow": null,
            "overflow_x": null,
            "overflow_y": null,
            "padding": null,
            "right": null,
            "top": null,
            "visibility": null,
            "width": null
          }
        },
        "d958acbad33248669339a391976c8047": {
          "model_module": "@jupyter-widgets/controls",
          "model_name": "DescriptionStyleModel",
          "model_module_version": "1.5.0",
          "state": {
            "_model_module": "@jupyter-widgets/controls",
            "_model_module_version": "1.5.0",
            "_model_name": "DescriptionStyleModel",
            "_view_count": null,
            "_view_module": "@jupyter-widgets/base",
            "_view_module_version": "1.2.0",
            "_view_name": "StyleView",
            "description_width": ""
          }
        }
      }
    },
    "accelerator": "GPU"
  },
  "nbformat": 4,
  "nbformat_minor": 0
}